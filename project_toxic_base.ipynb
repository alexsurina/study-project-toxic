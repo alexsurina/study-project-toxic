{
  "cells": [
    {
      "cell_type": "markdown",
      "source": [
        "\n",
        "\n",
        "#Поиск токсичных комментариев \n",
        "\n"
      ],
      "metadata": {
        "id": "MIbz3izMJEWj"
      }
    },
    {
      "cell_type": "markdown",
      "metadata": {
        "id": "XfVCGRtJshJ3"
      },
      "source": [
        "Обучите модель классифицировать комментарии на позитивные и негативные. В вашем распоряжении набор данных с разметкой о токсичности правок.\n",
        "\n",
        "Постройте модель со значением метрики качества *F1* не меньше 0.75. "
      ]
    },
    {
      "cell_type": "markdown",
      "metadata": {
        "id": "tBfDgWvyshJ4"
      },
      "source": [
        "## Подготовка"
      ]
    },
    {
      "cell_type": "code",
      "source": [
        "! pip install catboost"
      ],
      "metadata": {
        "colab": {
          "base_uri": "https://localhost:8080/"
        },
        "id": "0I4QF6ZJSUM8",
        "outputId": "738fcfda-7413-4039-eaaa-38807e90ee8b"
      },
      "execution_count": null,
      "outputs": [
        {
          "output_type": "stream",
          "name": "stdout",
          "text": [
            "Looking in indexes: https://pypi.org/simple, https://us-python.pkg.dev/colab-wheels/public/simple/\n",
            "Requirement already satisfied: catboost in /usr/local/lib/python3.7/dist-packages (1.0.6)\n",
            "Requirement already satisfied: matplotlib in /usr/local/lib/python3.7/dist-packages (from catboost) (3.2.2)\n",
            "Requirement already satisfied: scipy in /usr/local/lib/python3.7/dist-packages (from catboost) (1.4.1)\n",
            "Requirement already satisfied: numpy>=1.16.0 in /usr/local/lib/python3.7/dist-packages (from catboost) (1.21.6)\n",
            "Requirement already satisfied: graphviz in /usr/local/lib/python3.7/dist-packages (from catboost) (0.10.1)\n",
            "Requirement already satisfied: pandas>=0.24.0 in /usr/local/lib/python3.7/dist-packages (from catboost) (1.3.5)\n",
            "Requirement already satisfied: six in /usr/local/lib/python3.7/dist-packages (from catboost) (1.15.0)\n",
            "Requirement already satisfied: plotly in /usr/local/lib/python3.7/dist-packages (from catboost) (5.5.0)\n",
            "Requirement already satisfied: python-dateutil>=2.7.3 in /usr/local/lib/python3.7/dist-packages (from pandas>=0.24.0->catboost) (2.8.2)\n",
            "Requirement already satisfied: pytz>=2017.3 in /usr/local/lib/python3.7/dist-packages (from pandas>=0.24.0->catboost) (2022.1)\n",
            "Requirement already satisfied: pyparsing!=2.0.4,!=2.1.2,!=2.1.6,>=2.0.1 in /usr/local/lib/python3.7/dist-packages (from matplotlib->catboost) (3.0.9)\n",
            "Requirement already satisfied: kiwisolver>=1.0.1 in /usr/local/lib/python3.7/dist-packages (from matplotlib->catboost) (1.4.2)\n",
            "Requirement already satisfied: cycler>=0.10 in /usr/local/lib/python3.7/dist-packages (from matplotlib->catboost) (0.11.0)\n",
            "Requirement already satisfied: typing-extensions in /usr/local/lib/python3.7/dist-packages (from kiwisolver>=1.0.1->matplotlib->catboost) (4.2.0)\n",
            "Requirement already satisfied: tenacity>=6.2.0 in /usr/local/lib/python3.7/dist-packages (from plotly->catboost) (8.0.1)\n"
          ]
        }
      ]
    },
    {
      "cell_type": "code",
      "execution_count": null,
      "metadata": {
        "id": "1X8AzlH3shJ5",
        "colab": {
          "base_uri": "https://localhost:8080/"
        },
        "outputId": "f7d2da48-43a8-4d31-f575-4128b65f03c2"
      },
      "outputs": [
        {
          "output_type": "stream",
          "name": "stdout",
          "text": [
            "[nltk_data] Downloading package punkt to /root/nltk_data...\n",
            "[nltk_data]   Package punkt is already up-to-date!\n",
            "[nltk_data] Downloading package wordnet to /root/nltk_data...\n",
            "[nltk_data]   Package wordnet is already up-to-date!\n",
            "[nltk_data] Downloading package stopwords to /root/nltk_data...\n",
            "[nltk_data]   Package stopwords is already up-to-date!\n"
          ]
        }
      ],
      "source": [
        "import pandas as pd\n",
        "\n",
        "import nltk\n",
        "from nltk.stem import WordNetLemmatizer \n",
        "from nltk.corpus import stopwords\n",
        "nltk.download('punkt')\n",
        "nltk.download('wordnet')\n",
        "nltk.download('stopwords')\n",
        "\n",
        "import re\n",
        "import string\n",
        "\n",
        "from sklearn.pipeline import Pipeline\n",
        "\n",
        "from sklearn.feature_extraction.text import TfidfVectorizer\n",
        "\n",
        "from sklearn.model_selection import train_test_split\n",
        "\n",
        "from sklearn.linear_model import LogisticRegression\n",
        "from sklearn.tree import DecisionTreeClassifier \n",
        "from sklearn.ensemble import RandomForestClassifier \n",
        "\n",
        "import lightgbm as lgb\n",
        "\n",
        "from xgboost import XGBClassifier \n",
        "\n",
        "from catboost import Pool, cv\n",
        "from catboost import CatBoostClassifier\n",
        "\n",
        "from sklearn.model_selection import GridSearchCV\n",
        "from sklearn.model_selection import cross_val_score\n",
        "from sklearn.model_selection import StratifiedKFold\n",
        "\n",
        "from sklearn.metrics import make_scorer\n",
        "from sklearn.metrics import f1_score\n",
        "\n",
        "from tqdm import notebook"
      ]
    },
    {
      "cell_type": "code",
      "execution_count": null,
      "metadata": {
        "id": "5Gyn9wkPshJ7"
      },
      "outputs": [],
      "source": [
        "import warnings\n",
        "warnings.filterwarnings('ignore')\n",
        "pd.options.mode.chained_assignment = None"
      ]
    },
    {
      "cell_type": "code",
      "execution_count": null,
      "metadata": {
        "id": "oG26xkdJshJ9"
      },
      "outputs": [],
      "source": [
        "df_tweets = pd.read_csv('/content/toxic_comments.csv')"
      ]
    },
    {
      "cell_type": "code",
      "execution_count": null,
      "metadata": {
        "scrolled": true,
        "id": "drdHfLRashJ-",
        "outputId": "b9976469-e0ab-4898-a4cd-11a4a0b84049",
        "colab": {
          "base_uri": "https://localhost:8080/",
          "height": 206
        }
      },
      "outputs": [
        {
          "output_type": "execute_result",
          "data": {
            "text/plain": [
              "                                                text  toxic\n",
              "0  Explanation\\nWhy the edits made under my usern...      0\n",
              "1  D'aww! He matches this background colour I'm s...      0\n",
              "2  Hey man, I'm really not trying to edit war. It...      0\n",
              "3  \"\\nMore\\nI can't make any real suggestions on ...      0\n",
              "4  You, sir, are my hero. Any chance you remember...      0"
            ],
            "text/html": [
              "\n",
              "  <div id=\"df-5112f44a-fe99-4eb4-bcdb-5fb6e4bc7891\">\n",
              "    <div class=\"colab-df-container\">\n",
              "      <div>\n",
              "<style scoped>\n",
              "    .dataframe tbody tr th:only-of-type {\n",
              "        vertical-align: middle;\n",
              "    }\n",
              "\n",
              "    .dataframe tbody tr th {\n",
              "        vertical-align: top;\n",
              "    }\n",
              "\n",
              "    .dataframe thead th {\n",
              "        text-align: right;\n",
              "    }\n",
              "</style>\n",
              "<table border=\"1\" class=\"dataframe\">\n",
              "  <thead>\n",
              "    <tr style=\"text-align: right;\">\n",
              "      <th></th>\n",
              "      <th>text</th>\n",
              "      <th>toxic</th>\n",
              "    </tr>\n",
              "  </thead>\n",
              "  <tbody>\n",
              "    <tr>\n",
              "      <th>0</th>\n",
              "      <td>Explanation\\nWhy the edits made under my usern...</td>\n",
              "      <td>0</td>\n",
              "    </tr>\n",
              "    <tr>\n",
              "      <th>1</th>\n",
              "      <td>D'aww! He matches this background colour I'm s...</td>\n",
              "      <td>0</td>\n",
              "    </tr>\n",
              "    <tr>\n",
              "      <th>2</th>\n",
              "      <td>Hey man, I'm really not trying to edit war. It...</td>\n",
              "      <td>0</td>\n",
              "    </tr>\n",
              "    <tr>\n",
              "      <th>3</th>\n",
              "      <td>\"\\nMore\\nI can't make any real suggestions on ...</td>\n",
              "      <td>0</td>\n",
              "    </tr>\n",
              "    <tr>\n",
              "      <th>4</th>\n",
              "      <td>You, sir, are my hero. Any chance you remember...</td>\n",
              "      <td>0</td>\n",
              "    </tr>\n",
              "  </tbody>\n",
              "</table>\n",
              "</div>\n",
              "      <button class=\"colab-df-convert\" onclick=\"convertToInteractive('df-5112f44a-fe99-4eb4-bcdb-5fb6e4bc7891')\"\n",
              "              title=\"Convert this dataframe to an interactive table.\"\n",
              "              style=\"display:none;\">\n",
              "        \n",
              "  <svg xmlns=\"http://www.w3.org/2000/svg\" height=\"24px\"viewBox=\"0 0 24 24\"\n",
              "       width=\"24px\">\n",
              "    <path d=\"M0 0h24v24H0V0z\" fill=\"none\"/>\n",
              "    <path d=\"M18.56 5.44l.94 2.06.94-2.06 2.06-.94-2.06-.94-.94-2.06-.94 2.06-2.06.94zm-11 1L8.5 8.5l.94-2.06 2.06-.94-2.06-.94L8.5 2.5l-.94 2.06-2.06.94zm10 10l.94 2.06.94-2.06 2.06-.94-2.06-.94-.94-2.06-.94 2.06-2.06.94z\"/><path d=\"M17.41 7.96l-1.37-1.37c-.4-.4-.92-.59-1.43-.59-.52 0-1.04.2-1.43.59L10.3 9.45l-7.72 7.72c-.78.78-.78 2.05 0 2.83L4 21.41c.39.39.9.59 1.41.59.51 0 1.02-.2 1.41-.59l7.78-7.78 2.81-2.81c.8-.78.8-2.07 0-2.86zM5.41 20L4 18.59l7.72-7.72 1.47 1.35L5.41 20z\"/>\n",
              "  </svg>\n",
              "      </button>\n",
              "      \n",
              "  <style>\n",
              "    .colab-df-container {\n",
              "      display:flex;\n",
              "      flex-wrap:wrap;\n",
              "      gap: 12px;\n",
              "    }\n",
              "\n",
              "    .colab-df-convert {\n",
              "      background-color: #E8F0FE;\n",
              "      border: none;\n",
              "      border-radius: 50%;\n",
              "      cursor: pointer;\n",
              "      display: none;\n",
              "      fill: #1967D2;\n",
              "      height: 32px;\n",
              "      padding: 0 0 0 0;\n",
              "      width: 32px;\n",
              "    }\n",
              "\n",
              "    .colab-df-convert:hover {\n",
              "      background-color: #E2EBFA;\n",
              "      box-shadow: 0px 1px 2px rgba(60, 64, 67, 0.3), 0px 1px 3px 1px rgba(60, 64, 67, 0.15);\n",
              "      fill: #174EA6;\n",
              "    }\n",
              "\n",
              "    [theme=dark] .colab-df-convert {\n",
              "      background-color: #3B4455;\n",
              "      fill: #D2E3FC;\n",
              "    }\n",
              "\n",
              "    [theme=dark] .colab-df-convert:hover {\n",
              "      background-color: #434B5C;\n",
              "      box-shadow: 0px 1px 3px 1px rgba(0, 0, 0, 0.15);\n",
              "      filter: drop-shadow(0px 1px 2px rgba(0, 0, 0, 0.3));\n",
              "      fill: #FFFFFF;\n",
              "    }\n",
              "  </style>\n",
              "\n",
              "      <script>\n",
              "        const buttonEl =\n",
              "          document.querySelector('#df-5112f44a-fe99-4eb4-bcdb-5fb6e4bc7891 button.colab-df-convert');\n",
              "        buttonEl.style.display =\n",
              "          google.colab.kernel.accessAllowed ? 'block' : 'none';\n",
              "\n",
              "        async function convertToInteractive(key) {\n",
              "          const element = document.querySelector('#df-5112f44a-fe99-4eb4-bcdb-5fb6e4bc7891');\n",
              "          const dataTable =\n",
              "            await google.colab.kernel.invokeFunction('convertToInteractive',\n",
              "                                                     [key], {});\n",
              "          if (!dataTable) return;\n",
              "\n",
              "          const docLinkHtml = 'Like what you see? Visit the ' +\n",
              "            '<a target=\"_blank\" href=https://colab.research.google.com/notebooks/data_table.ipynb>data table notebook</a>'\n",
              "            + ' to learn more about interactive tables.';\n",
              "          element.innerHTML = '';\n",
              "          dataTable['output_type'] = 'display_data';\n",
              "          await google.colab.output.renderOutput(dataTable, element);\n",
              "          const docLink = document.createElement('div');\n",
              "          docLink.innerHTML = docLinkHtml;\n",
              "          element.appendChild(docLink);\n",
              "        }\n",
              "      </script>\n",
              "    </div>\n",
              "  </div>\n",
              "  "
            ]
          },
          "metadata": {},
          "execution_count": 9
        }
      ],
      "source": [
        "df_tweets.head()"
      ]
    },
    {
      "cell_type": "markdown",
      "metadata": {
        "id": "u4cYdOl9shKB"
      },
      "source": [
        "**Описание данных**\n",
        "\n",
        "'text' - текст комментария \n",
        "\n",
        "'toxic' - целевой признак"
      ]
    },
    {
      "cell_type": "code",
      "execution_count": null,
      "metadata": {
        "scrolled": false,
        "id": "R0SYQrJYshKC",
        "outputId": "d6cc3762-15e2-4d71-98e2-f5335de444e9",
        "colab": {
          "base_uri": "https://localhost:8080/"
        }
      },
      "outputs": [
        {
          "output_type": "stream",
          "name": "stdout",
          "text": [
            "<class 'pandas.core.frame.DataFrame'>\n",
            "RangeIndex: 159571 entries, 0 to 159570\n",
            "Data columns (total 2 columns):\n",
            " #   Column  Non-Null Count   Dtype \n",
            "---  ------  --------------   ----- \n",
            " 0   text    159571 non-null  object\n",
            " 1   toxic   159571 non-null  int64 \n",
            "dtypes: int64(1), object(1)\n",
            "memory usage: 2.4+ MB\n"
          ]
        }
      ],
      "source": [
        "df_tweets.info()"
      ]
    },
    {
      "cell_type": "code",
      "execution_count": null,
      "metadata": {
        "id": "iZBFp4TmshKD",
        "outputId": "e98c317e-9a9a-4a89-ae2a-ecbb66bcb30a",
        "colab": {
          "base_uri": "https://localhost:8080/"
        }
      },
      "outputs": [
        {
          "output_type": "execute_result",
          "data": {
            "text/plain": [
              "0"
            ]
          },
          "metadata": {},
          "execution_count": 11
        }
      ],
      "source": [
        "df_tweets.duplicated().sum()"
      ]
    },
    {
      "cell_type": "code",
      "execution_count": null,
      "metadata": {
        "id": "dDIYhMk5shKE",
        "outputId": "3eb7d7a5-8e37-4e7f-be38-1c6d12161f67",
        "colab": {
          "base_uri": "https://localhost:8080/"
        }
      },
      "outputs": [
        {
          "output_type": "execute_result",
          "data": {
            "text/plain": [
              "0    0.898321\n",
              "1    0.101679\n",
              "Name: toxic, dtype: float64"
            ]
          },
          "metadata": {},
          "execution_count": 12
        }
      ],
      "source": [
        "df_tweets['toxic'].value_counts(normalize=True)"
      ]
    },
    {
      "cell_type": "markdown",
      "metadata": {
        "id": "6p1QBrEFshKF"
      },
      "source": [
        "Наблюдаем дисбаланс классов."
      ]
    },
    {
      "cell_type": "markdown",
      "metadata": {
        "id": "lk7DssBoshKG"
      },
      "source": [
        "---------"
      ]
    },
    {
      "cell_type": "markdown",
      "metadata": {
        "id": "wACzV6jyshKH"
      },
      "source": [
        "Очистим тексты от специальных символов, лишних пробелов и одиночных букв."
      ]
    },
    {
      "cell_type": "code",
      "execution_count": null,
      "metadata": {
        "id": "2FRfI-EXshKI",
        "outputId": "37146d0c-e380-4399-f3d4-f393e8a993a1",
        "colab": {
          "base_uri": "https://localhost:8080/",
          "height": 52
        }
      },
      "outputs": [
        {
          "output_type": "execute_result",
          "data": {
            "text/plain": [
              "\"Explanation\\nWhy the edits made under my username Hardcore Metallica Fan were reverted? They weren't vandalisms, just closure on some GAs after I voted at New York Dolls FAC. And please don't remove the template from the talk page since I'm retired now.89.205.38.27\""
            ],
            "application/vnd.google.colaboratory.intrinsic+json": {
              "type": "string"
            }
          },
          "metadata": {},
          "execution_count": 13
        }
      ],
      "source": [
        "df_tweets['text'][0]"
      ]
    },
    {
      "cell_type": "code",
      "execution_count": null,
      "metadata": {
        "id": "9aVmx20yshKM"
      },
      "outputs": [],
      "source": [
        "text_clear = df_tweets['text'].apply(\n",
        "    lambda x: ' '.join(re.sub(r'\\s+[a-zA-Z]\\s', ' ', str(x)).split()))"
      ]
    },
    {
      "cell_type": "code",
      "execution_count": null,
      "metadata": {
        "id": "6NakM5OwshKN",
        "outputId": "69f2c8e6-91f7-4f57-94e9-dde67187469e",
        "colab": {
          "base_uri": "https://localhost:8080/",
          "height": 52
        }
      },
      "outputs": [
        {
          "output_type": "execute_result",
          "data": {
            "text/plain": [
              "\"Explanation Why the edits made under my username Hardcore Metallica Fan were reverted? They weren't vandalisms, just closure on some GAs after voted at New York Dolls FAC. And please don't remove the template from the talk page since I'm retired now.89.205.38.27\""
            ],
            "application/vnd.google.colaboratory.intrinsic+json": {
              "type": "string"
            }
          },
          "metadata": {},
          "execution_count": 15
        }
      ],
      "source": [
        "text_clear[0]"
      ]
    },
    {
      "cell_type": "code",
      "execution_count": null,
      "metadata": {
        "id": "Zm34hPkoshKO"
      },
      "outputs": [],
      "source": [
        "text_clear = text_clear.apply(\n",
        "    lambda x: ' '.join(re.sub(r'[^a-zA-Z]', ' ', str(x).lower()).split()))"
      ]
    },
    {
      "cell_type": "code",
      "execution_count": null,
      "metadata": {
        "scrolled": true,
        "id": "yMiJuKRpshKP",
        "outputId": "facdb2f2-b140-438f-c7f5-86fab1199599",
        "colab": {
          "base_uri": "https://localhost:8080/",
          "height": 52
        }
      },
      "outputs": [
        {
          "output_type": "execute_result",
          "data": {
            "text/plain": [
              "'explanation why the edits made under my username hardcore metallica fan were reverted they weren t vandalisms just closure on some gas after voted at new york dolls fac and please don t remove the template from the talk page since i m retired now'"
            ],
            "application/vnd.google.colaboratory.intrinsic+json": {
              "type": "string"
            }
          },
          "metadata": {},
          "execution_count": 17
        }
      ],
      "source": [
        "text_clear[0]"
      ]
    },
    {
      "cell_type": "code",
      "execution_count": null,
      "metadata": {
        "id": "HxuzOBPPshKQ"
      },
      "outputs": [],
      "source": [
        "text_clear = text_clear.apply(\n",
        "    lambda x: ' '.join(re.sub(r'\\s+[a-zA-Z]\\s', ' ', str(x)).split()))"
      ]
    },
    {
      "cell_type": "code",
      "execution_count": null,
      "metadata": {
        "id": "SKDdcSvwshKR",
        "outputId": "7687c36e-d1a4-4f51-e98e-2aef993d10ef",
        "colab": {
          "base_uri": "https://localhost:8080/",
          "height": 52
        }
      },
      "outputs": [
        {
          "output_type": "execute_result",
          "data": {
            "text/plain": [
              "'explanation why the edits made under my username hardcore metallica fan were reverted they weren vandalisms just closure on some gas after voted at new york dolls fac and please don remove the template from the talk page since m retired now'"
            ],
            "application/vnd.google.colaboratory.intrinsic+json": {
              "type": "string"
            }
          },
          "metadata": {},
          "execution_count": 19
        }
      ],
      "source": [
        "text_clear[0]"
      ]
    },
    {
      "cell_type": "markdown",
      "metadata": {
        "id": "-DCPpr_-shKR"
      },
      "source": [
        "-----"
      ]
    },
    {
      "cell_type": "markdown",
      "metadata": {
        "id": "zuNPpzjEshKS"
      },
      "source": [
        "Выполним токенизацию каждого текста."
      ]
    },
    {
      "cell_type": "code",
      "execution_count": null,
      "metadata": {
        "id": "DUkyfFBgshKT"
      },
      "outputs": [],
      "source": [
        "tokenized = text_clear.apply(lambda x: nltk.word_tokenize(x))"
      ]
    },
    {
      "cell_type": "code",
      "execution_count": null,
      "metadata": {
        "id": "GPbRNtyPshKT",
        "outputId": "f70e10e3-9357-460a-801f-e9fe17ba4ca7",
        "colab": {
          "base_uri": "https://localhost:8080/"
        }
      },
      "outputs": [
        {
          "output_type": "execute_result",
          "data": {
            "text/plain": [
              "0         [explanation, why, the, edits, made, under, my...\n",
              "1         [d, aww, he, matches, this, background, colour...\n",
              "2         [hey, man, m, really, not, trying, to, edit, w...\n",
              "3         [more, can, make, any, real, suggestions, on, ...\n",
              "4         [you, sir, are, my, hero, any, chance, you, re...\n",
              "                                ...                        \n",
              "159566    [and, for, the, second, time, of, asking, when...\n",
              "159567    [you, should, be, ashamed, of, yourself, that,...\n",
              "159568    [spitzer, umm, theres, no, actual, article, fo...\n",
              "159569    [and, it, looks, like, it, was, actually, you,...\n",
              "159570    [and, really, don, think, you, understand, cam...\n",
              "Name: text, Length: 159571, dtype: object"
            ]
          },
          "metadata": {},
          "execution_count": 21
        }
      ],
      "source": [
        "tokenized"
      ]
    },
    {
      "cell_type": "markdown",
      "metadata": {
        "id": "IIhYrgoAshKU"
      },
      "source": [
        "--------"
      ]
    },
    {
      "cell_type": "markdown",
      "metadata": {
        "id": "YYQuCvEjshKV"
      },
      "source": [
        "Лемматизируем слова."
      ]
    },
    {
      "cell_type": "code",
      "execution_count": null,
      "metadata": {
        "id": "wICEg90LshKW"
      },
      "outputs": [],
      "source": [
        "lemmatizer = WordNetLemmatizer()"
      ]
    },
    {
      "cell_type": "code",
      "execution_count": null,
      "metadata": {
        "id": "3z8xNVeCshKX"
      },
      "outputs": [],
      "source": [
        "lemmatized = tokenized.apply(\n",
        "    lambda x: ' '.join([lemmatizer.lemmatize(w) for w in x]))"
      ]
    },
    {
      "cell_type": "code",
      "execution_count": null,
      "metadata": {
        "id": "HcLUdOGdshKX",
        "outputId": "a5220c05-09aa-4dd4-92ad-53873443caa8",
        "colab": {
          "base_uri": "https://localhost:8080/"
        }
      },
      "outputs": [
        {
          "output_type": "execute_result",
          "data": {
            "text/plain": [
              "0         explanation why the edits made under my userna...\n",
              "1         d aww he match this background colour m seemin...\n",
              "2         hey man m really not trying to edit war it jus...\n",
              "3         more can make any real suggestion on improveme...\n",
              "4         you sir are my hero any chance you remember wh...\n",
              "                                ...                        \n",
              "159566    and for the second time of asking when your vi...\n",
              "159567    you should be ashamed of yourself that is horr...\n",
              "159568    spitzer umm there no actual article for prosti...\n",
              "159569    and it look like it wa actually you who put on...\n",
              "159570    and really don think you understand came here ...\n",
              "Name: text, Length: 159571, dtype: object"
            ]
          },
          "metadata": {},
          "execution_count": 24
        }
      ],
      "source": [
        "lemmatized"
      ]
    },
    {
      "cell_type": "markdown",
      "metadata": {
        "id": "pXVgj4cOshKZ"
      },
      "source": [
        "--------"
      ]
    },
    {
      "cell_type": "markdown",
      "metadata": {
        "id": "Jfd-Td_tshKa"
      },
      "source": [
        "Разделим выборку на тренировочную и обучающую."
      ]
    },
    {
      "cell_type": "code",
      "execution_count": null,
      "metadata": {
        "id": "lnIKddqTshKb"
      },
      "outputs": [],
      "source": [
        "features = lemmatized"
      ]
    },
    {
      "cell_type": "code",
      "execution_count": null,
      "metadata": {
        "id": "lKTuSU2_shKc"
      },
      "outputs": [],
      "source": [
        "target = df_tweets['toxic']"
      ]
    },
    {
      "cell_type": "code",
      "execution_count": null,
      "metadata": {
        "id": "xsVppOWkshKc"
      },
      "outputs": [],
      "source": [
        "features_train, features_test, target_train, target_test = train_test_split(\n",
        "    features, target, test_size=0.2, random_state=12345, stratify = target) "
      ]
    },
    {
      "cell_type": "code",
      "execution_count": null,
      "metadata": {
        "id": "ZtqIHFWAshKd",
        "outputId": "6200050a-f686-48f9-9582-6a541255326d",
        "colab": {
          "base_uri": "https://localhost:8080/"
        }
      },
      "outputs": [
        {
          "output_type": "execute_result",
          "data": {
            "text/plain": [
              "((159571,), (127656,), (31915,))"
            ]
          },
          "metadata": {},
          "execution_count": 28
        }
      ],
      "source": [
        "features.shape, features_train.shape, features_test.shape"
      ]
    },
    {
      "cell_type": "code",
      "execution_count": null,
      "metadata": {
        "id": "LfSTapMishKe",
        "outputId": "ba4c1c0b-4289-4bc2-94d0-575269a09aab",
        "colab": {
          "base_uri": "https://localhost:8080/"
        }
      },
      "outputs": [
        {
          "output_type": "execute_result",
          "data": {
            "text/plain": [
              "((159571,), (127656,), (31915,))"
            ]
          },
          "metadata": {},
          "execution_count": 29
        }
      ],
      "source": [
        "target.shape, target_train.shape, target_test.shape"
      ]
    },
    {
      "cell_type": "markdown",
      "metadata": {
        "id": "LygoQn1hshKf"
      },
      "source": [
        "-------"
      ]
    },
    {
      "cell_type": "markdown",
      "metadata": {
        "id": "ByREdI1ushKl"
      },
      "source": [
        "## Обучение"
      ]
    },
    {
      "cell_type": "code",
      "execution_count": null,
      "metadata": {
        "id": "DnobFdc2shKg"
      },
      "outputs": [],
      "source": [
        "stop_words = stopwords.words('english')"
      ]
    },
    {
      "cell_type": "code",
      "execution_count": null,
      "metadata": {
        "id": "TpN202r0shKl"
      },
      "outputs": [],
      "source": [
        "scoring = make_scorer(f1_score, greater_is_better=True)"
      ]
    },
    {
      "cell_type": "code",
      "execution_count": null,
      "metadata": {
        "id": "fsi6SFY9shKm"
      },
      "outputs": [],
      "source": [
        "skf = StratifiedKFold(n_splits=5)"
      ]
    },
    {
      "cell_type": "code",
      "execution_count": null,
      "metadata": {
        "id": "UHeiDWz_shKn"
      },
      "outputs": [],
      "source": [
        "df = [] # таблица с результатами\n",
        "col_data = ['model', 'type_data', 'F1']"
      ]
    },
    {
      "cell_type": "markdown",
      "metadata": {
        "id": "yPGntVUmshKn"
      },
      "source": [
        "### LogisticRegression"
      ]
    },
    {
      "cell_type": "code",
      "source": [
        "pipe_lr = Pipeline([('tfidf', TfidfVectorizer(stop_words=stop_words)), # создадим признаки\n",
        "                    ('model', LogisticRegression(random_state=12345))])"
      ],
      "metadata": {
        "id": "QTWbW3tyTZRR"
      },
      "execution_count": null,
      "outputs": []
    },
    {
      "cell_type": "code",
      "execution_count": null,
      "metadata": {
        "id": "gndafrElshKo"
      },
      "outputs": [],
      "source": [
        "params = {'model__penalty' : ['l2'], #'l1', \n",
        "          'model__C' : [1, 10, 50],#[0.001,0.01,0.1,1,10,100]\n",
        "          'model__solver' : ['lbfgs', 'sag', 'saga']\n",
        "}"
      ]
    },
    {
      "cell_type": "code",
      "execution_count": null,
      "metadata": {
        "id": "XVRJAnPrshKp"
      },
      "outputs": [],
      "source": [
        "model = GridSearchCV(\n",
        "    pipe_lr, params, cv=skf, scoring=scoring, verbose=1)"
      ]
    },
    {
      "cell_type": "code",
      "execution_count": null,
      "metadata": {
        "id": "x4T5EOvMshKr",
        "outputId": "54af8a38-40df-4b36-cd0a-767d9d1aeac9",
        "colab": {
          "base_uri": "https://localhost:8080/"
        }
      },
      "outputs": [
        {
          "output_type": "stream",
          "name": "stdout",
          "text": [
            "Fitting 5 folds for each of 9 candidates, totalling 45 fits\n"
          ]
        },
        {
          "output_type": "execute_result",
          "data": {
            "text/plain": [
              "GridSearchCV(cv=StratifiedKFold(n_splits=5, random_state=None, shuffle=False),\n",
              "             estimator=Pipeline(steps=[('tfidf',\n",
              "                                        TfidfVectorizer(stop_words=['i', 'me',\n",
              "                                                                    'my',\n",
              "                                                                    'myself',\n",
              "                                                                    'we', 'our',\n",
              "                                                                    'ours',\n",
              "                                                                    'ourselves',\n",
              "                                                                    'you',\n",
              "                                                                    \"you're\",\n",
              "                                                                    \"you've\",\n",
              "                                                                    \"you'll\",\n",
              "                                                                    \"you'd\",\n",
              "                                                                    'your',\n",
              "                                                                    'yours',\n",
              "                                                                    'yourself',\n",
              "                                                                    'yourselves',\n",
              "                                                                    'he', 'him',\n",
              "                                                                    'his',\n",
              "                                                                    'himself',\n",
              "                                                                    'she',\n",
              "                                                                    \"she's\",\n",
              "                                                                    'her',\n",
              "                                                                    'hers',\n",
              "                                                                    'herself',\n",
              "                                                                    'it',\n",
              "                                                                    \"it's\",\n",
              "                                                                    'its',\n",
              "                                                                    'itself', ...])),\n",
              "                                       ('model',\n",
              "                                        LogisticRegression(random_state=12345))]),\n",
              "             param_grid={'model__C': [1, 10, 50], 'model__penalty': ['l2'],\n",
              "                         'model__solver': ['lbfgs', 'sag', 'saga']},\n",
              "             scoring=make_scorer(f1_score), verbose=1)"
            ]
          },
          "metadata": {},
          "execution_count": 41
        }
      ],
      "source": [
        "model.fit(features_train, target_train)"
      ]
    },
    {
      "cell_type": "code",
      "execution_count": null,
      "metadata": {
        "id": "v1Pk8f_oshKs",
        "outputId": "5a89e5ac-4752-4917-cc70-b42f0b962621",
        "colab": {
          "base_uri": "https://localhost:8080/"
        }
      },
      "outputs": [
        {
          "output_type": "execute_result",
          "data": {
            "text/plain": [
              "{'model__C': 10, 'model__penalty': 'l2', 'model__solver': 'lbfgs'}"
            ]
          },
          "metadata": {},
          "execution_count": 42
        }
      ],
      "source": [
        "model.best_params_"
      ]
    },
    {
      "cell_type": "code",
      "execution_count": null,
      "metadata": {
        "id": "uCnqTicFshKt",
        "outputId": "58400d82-fdda-45ee-c306-0dd01e7f8291",
        "colab": {
          "base_uri": "https://localhost:8080/"
        }
      },
      "outputs": [
        {
          "output_type": "execute_result",
          "data": {
            "text/plain": [
              "0.7702656433820121"
            ]
          },
          "metadata": {},
          "execution_count": 43
        }
      ],
      "source": [
        "model.best_score_"
      ]
    },
    {
      "cell_type": "code",
      "execution_count": null,
      "metadata": {
        "id": "tvevepUsshKu"
      },
      "outputs": [],
      "source": [
        "df.append(['LogisticRegression', 'train', model.best_score_])"
      ]
    },
    {
      "cell_type": "markdown",
      "metadata": {
        "id": "ECp82ejmshKu"
      },
      "source": [
        "-------"
      ]
    },
    {
      "cell_type": "markdown",
      "metadata": {
        "id": "eJycVstkshKv"
      },
      "source": [
        "### Дерево решений"
      ]
    },
    {
      "cell_type": "code",
      "execution_count": null,
      "metadata": {
        "scrolled": true,
        "id": "uW3JKWQZshKw",
        "outputId": "22f76658-cd43-4192-948f-95be53413d9c",
        "colab": {
          "base_uri": "https://localhost:8080/",
          "height": 66,
          "referenced_widgets": [
            "cd18211f5b8b446894d6ad0234f23e29",
            "932a935522074eefb907ccd7f9ebed75",
            "05f19019ee4d405abd8bc3d560fbc85f",
            "4cc34d53d0374212996da75f346585a7",
            "2cb70efeaf79439c8982d5b740ba3d2c",
            "9d92f93c7ba3410d9719fc1939410f17",
            "de48ee81d1aa4c02bd0534b843f1d060",
            "32f7b416820a46d9b8611d3e8829c1e1",
            "c9fac754861b4297b23c262efe7a1a04",
            "164ab6b8b465415480745efdf92e6ecb",
            "9e6a70260def48fe8bbd46d49989b07a"
          ]
        }
      },
      "outputs": [
        {
          "output_type": "display_data",
          "data": {
            "text/plain": [
              "  0%|          | 0/20 [00:00<?, ?it/s]"
            ],
            "application/vnd.jupyter.widget-view+json": {
              "version_major": 2,
              "version_minor": 0,
              "model_id": "cd18211f5b8b446894d6ad0234f23e29"
            }
          },
          "metadata": {}
        },
        {
          "output_type": "stream",
          "name": "stdout",
          "text": [
            "Модель 'Дерево решений', F1: 0.7206939912383155 Глубина дерева: 96\n"
          ]
        }
      ],
      "source": [
        "best_model_DT = None\n",
        "best_f1 = 0\n",
        "best_depth = 0\n",
        "\n",
        "for depth in notebook.tqdm(range(1, 100, 5)): # в цикле меняем гиперпараметр - максимальную глубину дерева\n",
        "    \n",
        "    pipe_dt = Pipeline([('tfidf', TfidfVectorizer(stop_words=stop_words)), \n",
        "                        ('model', DecisionTreeClassifier(random_state=12345, \n",
        "                                                         max_depth=depth))])\n",
        "\n",
        "    f1 = sum(cross_val_score(pipe_dt, features_train, target_train, \n",
        "            scoring=scoring, cv=skf)) / 5\n",
        "\n",
        "    if f1 > best_f1:\n",
        "        best_model_DT = pipe_dt[1]\n",
        "        best_f1 = f1\n",
        "        best_depth = depth\n",
        "        \n",
        "print(\"Модель 'Дерево решений', F1:\", best_f1, \"Глубина дерева:\", best_depth)"
      ]
    },
    {
      "cell_type": "code",
      "execution_count": null,
      "metadata": {
        "id": "s6T_gnLAshKx"
      },
      "outputs": [],
      "source": [
        "df.append(['DecisionTreeClassifier', 'train', best_f1])"
      ]
    },
    {
      "cell_type": "markdown",
      "metadata": {
        "id": "9ZGqQsFWshKx"
      },
      "source": [
        "------"
      ]
    },
    {
      "cell_type": "markdown",
      "metadata": {
        "id": "3ZN-83jrshKy"
      },
      "source": [
        "### Случайный лес"
      ]
    },
    {
      "cell_type": "code",
      "execution_count": null,
      "metadata": {
        "scrolled": true,
        "id": "JDhiqkhsshKy",
        "outputId": "a892827f-7b83-4d29-b6bd-215cf465c578",
        "colab": {
          "base_uri": "https://localhost:8080/",
          "height": 130,
          "referenced_widgets": [
            "b9632be5731247ac92e15812504a25b9",
            "2da268e2fbcc4d6da5bd9d7a9d7997c5",
            "86ba5ab0d3fd4ed3a1955ff482063c6a",
            "e96871ec8a1c4ad396c76250b0780afc",
            "1d0b55c2ca7446e58d69491d0e91757a",
            "3a2d3f5078384da2a2e10e5a6787b6df",
            "c450ee03bc9d4254bd289eb932a3ed03",
            "acf7929ec0bb41c09d306c09b06f7d8d",
            "3412f99055114ee286de1e0f97e009c2",
            "a3673b2da2a9474dbf7d35baf28face6",
            "003d59b4dd0e4410b3d00c8b385c2695",
            "d41a72a6fa5d458eaa3e083a63bbaeca",
            "656a1f59956043ac9e2fe1d64092eb3b",
            "c62dca10ce7744158209539e60239357",
            "92df7c9668614f889c9b5f8c82aed6f7",
            "71302556fece48ecba70a7393d7f90af",
            "fcbbd8c237b740568b80502fd6cdaafb",
            "a62420e46a074769a88de560277a3b91",
            "1e26735cefd04da0a61b98f04f4266c9",
            "7ccb4179ca544597a8dbe7df13c5c5c8",
            "66e18d4a4caa469f9fa2968f0521d490",
            "deb0d38b782b4ae3aaeca1564c177134",
            "bc98ceac0b2e4d6ca2c6bbc366603b66",
            "3f33420d807846bb85e8a219be9f88ed",
            "1fc16c09c9ab457a9a3e20884ccc8aff",
            "a544c07cd18147009fbf20c88ae4193c",
            "d9c7d04631c14e259beb7cdd8bca02ce",
            "79b73656ba4c42a4abacebbbf522fe1b",
            "d06a8a6c52344031bcf5c3aa5629ea57",
            "4956329437ec43249b330c3c0c43f696",
            "c53d127e2fb34ed499c02a8538983aa9",
            "d1741880b16f43b9832a95264c26161b",
            "b750264d1d9d40cf8ebb625cffdd9256"
          ]
        }
      },
      "outputs": [
        {
          "output_type": "display_data",
          "data": {
            "text/plain": [
              "  0%|          | 0/2 [00:00<?, ?it/s]"
            ],
            "application/vnd.jupyter.widget-view+json": {
              "version_major": 2,
              "version_minor": 0,
              "model_id": "b9632be5731247ac92e15812504a25b9"
            }
          },
          "metadata": {}
        },
        {
          "output_type": "display_data",
          "data": {
            "text/plain": [
              "  0%|          | 0/40 [00:00<?, ?it/s]"
            ],
            "application/vnd.jupyter.widget-view+json": {
              "version_major": 2,
              "version_minor": 0,
              "model_id": "d41a72a6fa5d458eaa3e083a63bbaeca"
            }
          },
          "metadata": {}
        },
        {
          "output_type": "display_data",
          "data": {
            "text/plain": [
              "  0%|          | 0/40 [00:00<?, ?it/s]"
            ],
            "application/vnd.jupyter.widget-view+json": {
              "version_major": 2,
              "version_minor": 0,
              "model_id": "bc98ceac0b2e4d6ca2c6bbc366603b66"
            }
          },
          "metadata": {}
        },
        {
          "output_type": "stream",
          "name": "stdout",
          "text": [
            "Модель 'Случайный лес', F1:  0.35488718721489987 , количество деревьев: 1 , глубина дерева: 79\n"
          ]
        }
      ],
      "source": [
        "best_modelRF = None\n",
        "best_depthRF = 0\n",
        "best_est = 0\n",
        "best_f1 = 0\n",
        "\n",
        "for est in notebook.tqdm(range(1, 4, 2)): # в цикле меняем гиперпараметр - максимальное количество деревьев\n",
        "    for depth in notebook.tqdm(range(1, 80, 2)): # в цикле меняем гиперпараметр - максимальную глубину дерева\n",
        " \n",
        "        pipe_rf = Pipeline([('tfidf', TfidfVectorizer(stop_words=stop_words)), \n",
        "                            ('model', RandomForestClassifier(random_state=12345, n_estimators=est, max_depth=depth))])\n",
        "      #  model_ = RandomForestClassifier(\n",
        "      #      random_state=12345, n_estimators=est, max_depth=depth) # случайный лес\n",
        "\n",
        "        f1 = sum(cross_val_score(\n",
        "            pipe_rf, features_train, target_train, \n",
        "            scoring=scoring, cv=skf)) / 5\n",
        "\n",
        "        if f1 > best_f1:\n",
        "            best_modelRF = pipe_rf[1]\n",
        "            best_depthRF = depth\n",
        "            best_est = est\n",
        "            best_f1 = f1\n",
        "\n",
        "            \n",
        "print(\"Модель 'Случайный лес', F1: \", best_f1, \n",
        "      \", количество деревьев:\", best_est, \n",
        "      \", глубина дерева:\", best_depthRF)"
      ]
    },
    {
      "cell_type": "markdown",
      "source": [
        "Модель 'Случайный лес', F1:  0.31033143076975883 , количество деревьев: 1 , глубина дерева: 75"
      ],
      "metadata": {
        "id": "liMZ7rASuREy"
      }
    },
    {
      "cell_type": "code",
      "execution_count": null,
      "metadata": {
        "id": "HspwsI03shK0"
      },
      "outputs": [],
      "source": [
        "df.append(['RandomForestClassifier', 'train', best_f1])"
      ]
    },
    {
      "cell_type": "markdown",
      "metadata": {
        "id": "sP3voaDRshK0"
      },
      "source": [
        "------"
      ]
    },
    {
      "cell_type": "markdown",
      "metadata": {
        "id": "LzJuR1gwshK1"
      },
      "source": [
        "### XGBoost"
      ]
    },
    {
      "cell_type": "code",
      "execution_count": null,
      "metadata": {
        "id": "irafxLstshK1"
      },
      "outputs": [],
      "source": [
        "#model_ = XGBClassifier()\n",
        "pipe_xgb = Pipeline([('tfidf', TfidfVectorizer(stop_words=stop_words)), \n",
        "                     ('model', XGBClassifier())])"
      ]
    },
    {
      "cell_type": "code",
      "execution_count": null,
      "metadata": {
        "id": "kIJ-3v3jshK2"
      },
      "outputs": [],
      "source": [
        "f1 = sum(cross_val_score(pipe_xgb, features_train, target_train, \n",
        "            scoring=scoring, cv=skf)) / 5"
      ]
    },
    {
      "cell_type": "code",
      "execution_count": null,
      "metadata": {
        "id": "E61gbNbOshK3",
        "outputId": "0c859f71-e51d-45a7-a162-61e818de35f1",
        "colab": {
          "base_uri": "https://localhost:8080/"
        }
      },
      "outputs": [
        {
          "output_type": "execute_result",
          "data": {
            "text/plain": [
              "0.570393403674864"
            ]
          },
          "metadata": {},
          "execution_count": 51
        }
      ],
      "source": [
        "f1"
      ]
    },
    {
      "cell_type": "code",
      "execution_count": null,
      "metadata": {
        "id": "jeAV1IBKshK4"
      },
      "outputs": [],
      "source": [
        "df.append(['XGBClassifier', 'train', f1])"
      ]
    },
    {
      "cell_type": "markdown",
      "metadata": {
        "id": "LCB2i8uXshK4"
      },
      "source": [
        "------"
      ]
    },
    {
      "cell_type": "markdown",
      "metadata": {
        "id": "1Fx6vg1FshK5"
      },
      "source": [
        "### LightGBM"
      ]
    },
    {
      "cell_type": "code",
      "execution_count": null,
      "metadata": {
        "id": "7zYtQVpFshK5"
      },
      "outputs": [],
      "source": [
        "#model_ = lgb.LGBMClassifier()\n",
        "pipe_lgb = Pipeline([('tfidf', TfidfVectorizer(stop_words=stop_words)), \n",
        "                     ('model', lgb.LGBMClassifier())])"
      ]
    },
    {
      "cell_type": "code",
      "execution_count": null,
      "metadata": {
        "id": "1FIaeCxEshK6"
      },
      "outputs": [],
      "source": [
        "f1 = sum(cross_val_score(pipe_lgb, features_train, target_train, \n",
        "            scoring=scoring, cv=skf)) / 5"
      ]
    },
    {
      "cell_type": "code",
      "execution_count": null,
      "metadata": {
        "id": "NSWM179AshK7",
        "outputId": "4e84db75-d42b-449b-b17e-72a5b5d0c0df",
        "colab": {
          "base_uri": "https://localhost:8080/"
        }
      },
      "outputs": [
        {
          "output_type": "execute_result",
          "data": {
            "text/plain": [
              "0.7476268472334835"
            ]
          },
          "metadata": {},
          "execution_count": 57
        }
      ],
      "source": [
        "f1"
      ]
    },
    {
      "cell_type": "code",
      "execution_count": null,
      "metadata": {
        "id": "PdoVP6-ashK8"
      },
      "outputs": [],
      "source": [
        "df.append(['LGBMClassifier', 'train', f1])"
      ]
    },
    {
      "cell_type": "markdown",
      "metadata": {
        "id": "aKCrXzwvshK8"
      },
      "source": [
        "-----------"
      ]
    },
    {
      "cell_type": "code",
      "execution_count": null,
      "metadata": {
        "id": "c-bNhgqyshK9"
      },
      "outputs": [],
      "source": [
        "df_result = pd.DataFrame(data=df, columns=col_data) # таблица с результатами"
      ]
    },
    {
      "cell_type": "code",
      "execution_count": null,
      "metadata": {
        "scrolled": true,
        "id": "SiumQYi6shK-",
        "outputId": "5b1fabcc-e435-4c97-e7a1-a454b4f29555",
        "colab": {
          "base_uri": "https://localhost:8080/",
          "height": 206
        }
      },
      "outputs": [
        {
          "output_type": "execute_result",
          "data": {
            "text/plain": [
              "                    model type_data        F1\n",
              "0      LogisticRegression     train  0.770266\n",
              "1  DecisionTreeClassifier     train  0.720694\n",
              "2  RandomForestClassifier     train  0.354887\n",
              "3           XGBClassifier     train  0.570393\n",
              "4          LGBMClassifier     train  0.747627"
            ],
            "text/html": [
              "\n",
              "  <div id=\"df-f30c7d89-d976-48ae-a93c-9284a7cc3830\">\n",
              "    <div class=\"colab-df-container\">\n",
              "      <div>\n",
              "<style scoped>\n",
              "    .dataframe tbody tr th:only-of-type {\n",
              "        vertical-align: middle;\n",
              "    }\n",
              "\n",
              "    .dataframe tbody tr th {\n",
              "        vertical-align: top;\n",
              "    }\n",
              "\n",
              "    .dataframe thead th {\n",
              "        text-align: right;\n",
              "    }\n",
              "</style>\n",
              "<table border=\"1\" class=\"dataframe\">\n",
              "  <thead>\n",
              "    <tr style=\"text-align: right;\">\n",
              "      <th></th>\n",
              "      <th>model</th>\n",
              "      <th>type_data</th>\n",
              "      <th>F1</th>\n",
              "    </tr>\n",
              "  </thead>\n",
              "  <tbody>\n",
              "    <tr>\n",
              "      <th>0</th>\n",
              "      <td>LogisticRegression</td>\n",
              "      <td>train</td>\n",
              "      <td>0.770266</td>\n",
              "    </tr>\n",
              "    <tr>\n",
              "      <th>1</th>\n",
              "      <td>DecisionTreeClassifier</td>\n",
              "      <td>train</td>\n",
              "      <td>0.720694</td>\n",
              "    </tr>\n",
              "    <tr>\n",
              "      <th>2</th>\n",
              "      <td>RandomForestClassifier</td>\n",
              "      <td>train</td>\n",
              "      <td>0.354887</td>\n",
              "    </tr>\n",
              "    <tr>\n",
              "      <th>3</th>\n",
              "      <td>XGBClassifier</td>\n",
              "      <td>train</td>\n",
              "      <td>0.570393</td>\n",
              "    </tr>\n",
              "    <tr>\n",
              "      <th>4</th>\n",
              "      <td>LGBMClassifier</td>\n",
              "      <td>train</td>\n",
              "      <td>0.747627</td>\n",
              "    </tr>\n",
              "  </tbody>\n",
              "</table>\n",
              "</div>\n",
              "      <button class=\"colab-df-convert\" onclick=\"convertToInteractive('df-f30c7d89-d976-48ae-a93c-9284a7cc3830')\"\n",
              "              title=\"Convert this dataframe to an interactive table.\"\n",
              "              style=\"display:none;\">\n",
              "        \n",
              "  <svg xmlns=\"http://www.w3.org/2000/svg\" height=\"24px\"viewBox=\"0 0 24 24\"\n",
              "       width=\"24px\">\n",
              "    <path d=\"M0 0h24v24H0V0z\" fill=\"none\"/>\n",
              "    <path d=\"M18.56 5.44l.94 2.06.94-2.06 2.06-.94-2.06-.94-.94-2.06-.94 2.06-2.06.94zm-11 1L8.5 8.5l.94-2.06 2.06-.94-2.06-.94L8.5 2.5l-.94 2.06-2.06.94zm10 10l.94 2.06.94-2.06 2.06-.94-2.06-.94-.94-2.06-.94 2.06-2.06.94z\"/><path d=\"M17.41 7.96l-1.37-1.37c-.4-.4-.92-.59-1.43-.59-.52 0-1.04.2-1.43.59L10.3 9.45l-7.72 7.72c-.78.78-.78 2.05 0 2.83L4 21.41c.39.39.9.59 1.41.59.51 0 1.02-.2 1.41-.59l7.78-7.78 2.81-2.81c.8-.78.8-2.07 0-2.86zM5.41 20L4 18.59l7.72-7.72 1.47 1.35L5.41 20z\"/>\n",
              "  </svg>\n",
              "      </button>\n",
              "      \n",
              "  <style>\n",
              "    .colab-df-container {\n",
              "      display:flex;\n",
              "      flex-wrap:wrap;\n",
              "      gap: 12px;\n",
              "    }\n",
              "\n",
              "    .colab-df-convert {\n",
              "      background-color: #E8F0FE;\n",
              "      border: none;\n",
              "      border-radius: 50%;\n",
              "      cursor: pointer;\n",
              "      display: none;\n",
              "      fill: #1967D2;\n",
              "      height: 32px;\n",
              "      padding: 0 0 0 0;\n",
              "      width: 32px;\n",
              "    }\n",
              "\n",
              "    .colab-df-convert:hover {\n",
              "      background-color: #E2EBFA;\n",
              "      box-shadow: 0px 1px 2px rgba(60, 64, 67, 0.3), 0px 1px 3px 1px rgba(60, 64, 67, 0.15);\n",
              "      fill: #174EA6;\n",
              "    }\n",
              "\n",
              "    [theme=dark] .colab-df-convert {\n",
              "      background-color: #3B4455;\n",
              "      fill: #D2E3FC;\n",
              "    }\n",
              "\n",
              "    [theme=dark] .colab-df-convert:hover {\n",
              "      background-color: #434B5C;\n",
              "      box-shadow: 0px 1px 3px 1px rgba(0, 0, 0, 0.15);\n",
              "      filter: drop-shadow(0px 1px 2px rgba(0, 0, 0, 0.3));\n",
              "      fill: #FFFFFF;\n",
              "    }\n",
              "  </style>\n",
              "\n",
              "      <script>\n",
              "        const buttonEl =\n",
              "          document.querySelector('#df-f30c7d89-d976-48ae-a93c-9284a7cc3830 button.colab-df-convert');\n",
              "        buttonEl.style.display =\n",
              "          google.colab.kernel.accessAllowed ? 'block' : 'none';\n",
              "\n",
              "        async function convertToInteractive(key) {\n",
              "          const element = document.querySelector('#df-f30c7d89-d976-48ae-a93c-9284a7cc3830');\n",
              "          const dataTable =\n",
              "            await google.colab.kernel.invokeFunction('convertToInteractive',\n",
              "                                                     [key], {});\n",
              "          if (!dataTable) return;\n",
              "\n",
              "          const docLinkHtml = 'Like what you see? Visit the ' +\n",
              "            '<a target=\"_blank\" href=https://colab.research.google.com/notebooks/data_table.ipynb>data table notebook</a>'\n",
              "            + ' to learn more about interactive tables.';\n",
              "          element.innerHTML = '';\n",
              "          dataTable['output_type'] = 'display_data';\n",
              "          await google.colab.output.renderOutput(dataTable, element);\n",
              "          const docLink = document.createElement('div');\n",
              "          docLink.innerHTML = docLinkHtml;\n",
              "          element.appendChild(docLink);\n",
              "        }\n",
              "      </script>\n",
              "    </div>\n",
              "  </div>\n",
              "  "
            ]
          },
          "metadata": {},
          "execution_count": 60
        }
      ],
      "source": [
        "df_result"
      ]
    },
    {
      "cell_type": "markdown",
      "metadata": {
        "id": "bRRpB91wshK-"
      },
      "source": [
        "Модель логистической регрессии, показала лучшее значение метрики F1 на тренировочной выборке: 0.770266."
      ]
    },
    {
      "cell_type": "markdown",
      "metadata": {
        "id": "U0mXAfZxshLA"
      },
      "source": [
        "--------"
      ]
    },
    {
      "cell_type": "markdown",
      "metadata": {
        "id": "CioAONWWshLA"
      },
      "source": [
        "## Тестирование"
      ]
    },
    {
      "cell_type": "markdown",
      "metadata": {
        "id": "Q4RsT-_yshLB"
      },
      "source": [
        "Тестирование проведем на модели логистической регрессии, показавшей лучшее значение метрики F1 на тренировочной выборке."
      ]
    },
    {
      "cell_type": "code",
      "execution_count": null,
      "metadata": {
        "id": "Hv7AAnoYshLB"
      },
      "outputs": [],
      "source": [
        "df.append(['-', '-', '-'])"
      ]
    },
    {
      "cell_type": "code",
      "execution_count": null,
      "metadata": {
        "id": "ragHv6_8shLC",
        "outputId": "5251b011-1247-4837-cb4a-044c2cccf17a",
        "colab": {
          "base_uri": "https://localhost:8080/"
        }
      },
      "outputs": [
        {
          "output_type": "execute_result",
          "data": {
            "text/plain": [
              "GridSearchCV(cv=StratifiedKFold(n_splits=5, random_state=None, shuffle=False),\n",
              "             estimator=Pipeline(steps=[('tfidf',\n",
              "                                        TfidfVectorizer(stop_words=['i', 'me',\n",
              "                                                                    'my',\n",
              "                                                                    'myself',\n",
              "                                                                    'we', 'our',\n",
              "                                                                    'ours',\n",
              "                                                                    'ourselves',\n",
              "                                                                    'you',\n",
              "                                                                    \"you're\",\n",
              "                                                                    \"you've\",\n",
              "                                                                    \"you'll\",\n",
              "                                                                    \"you'd\",\n",
              "                                                                    'your',\n",
              "                                                                    'yours',\n",
              "                                                                    'yourself',\n",
              "                                                                    'yourselves',\n",
              "                                                                    'he', 'him',\n",
              "                                                                    'his',\n",
              "                                                                    'himself',\n",
              "                                                                    'she',\n",
              "                                                                    \"she's\",\n",
              "                                                                    'her',\n",
              "                                                                    'hers',\n",
              "                                                                    'herself',\n",
              "                                                                    'it',\n",
              "                                                                    \"it's\",\n",
              "                                                                    'its',\n",
              "                                                                    'itself', ...])),\n",
              "                                       ('model',\n",
              "                                        LogisticRegression(random_state=12345))]),\n",
              "             param_grid={'model__C': [1, 10, 50], 'model__penalty': ['l2'],\n",
              "                         'model__solver': ['lbfgs', 'sag', 'saga']},\n",
              "             scoring=make_scorer(f1_score), verbose=1)"
            ]
          },
          "metadata": {},
          "execution_count": 65
        }
      ],
      "source": [
        "model"
      ]
    },
    {
      "cell_type": "code",
      "execution_count": null,
      "metadata": {
        "id": "j-_wh3x6shLD"
      },
      "outputs": [],
      "source": [
        "predictions = model.predict(features_test) # предсказания на тесте"
      ]
    },
    {
      "cell_type": "code",
      "execution_count": null,
      "metadata": {
        "scrolled": true,
        "id": "Yu45hArRshLE",
        "outputId": "4140587e-02f3-4862-87f8-531c693f96cb",
        "colab": {
          "base_uri": "https://localhost:8080/"
        }
      },
      "outputs": [
        {
          "output_type": "execute_result",
          "data": {
            "text/plain": [
              "0.7774327122153211"
            ]
          },
          "metadata": {},
          "execution_count": 67
        }
      ],
      "source": [
        "f1_score(target_test, predictions) # f1"
      ]
    },
    {
      "cell_type": "code",
      "execution_count": null,
      "metadata": {
        "id": "UI4jEPGHshLE"
      },
      "outputs": [],
      "source": [
        "df.append(['LogisticRegression', 'test', f1_score(target_test, predictions)])"
      ]
    },
    {
      "cell_type": "code",
      "execution_count": null,
      "metadata": {
        "id": "IvqpQMZDshLF"
      },
      "outputs": [],
      "source": [
        "df_result = pd.DataFrame(data=df, columns=col_data) # таблица с результатами"
      ]
    },
    {
      "cell_type": "code",
      "execution_count": null,
      "metadata": {
        "id": "xI6-LGn1shLG",
        "outputId": "51d3961b-df81-4adc-83a6-bb789056d488",
        "colab": {
          "base_uri": "https://localhost:8080/",
          "height": 269
        }
      },
      "outputs": [
        {
          "output_type": "execute_result",
          "data": {
            "text/plain": [
              "                    model type_data        F1\n",
              "0      LogisticRegression     train  0.770266\n",
              "1  DecisionTreeClassifier     train  0.720694\n",
              "2  RandomForestClassifier     train  0.354887\n",
              "3           XGBClassifier     train  0.570393\n",
              "4          LGBMClassifier     train  0.747627\n",
              "5                       -         -         -\n",
              "6      LogisticRegression      test  0.777433"
            ],
            "text/html": [
              "\n",
              "  <div id=\"df-d99d0ca9-61ed-4107-9fc0-ddb5d908f7d6\">\n",
              "    <div class=\"colab-df-container\">\n",
              "      <div>\n",
              "<style scoped>\n",
              "    .dataframe tbody tr th:only-of-type {\n",
              "        vertical-align: middle;\n",
              "    }\n",
              "\n",
              "    .dataframe tbody tr th {\n",
              "        vertical-align: top;\n",
              "    }\n",
              "\n",
              "    .dataframe thead th {\n",
              "        text-align: right;\n",
              "    }\n",
              "</style>\n",
              "<table border=\"1\" class=\"dataframe\">\n",
              "  <thead>\n",
              "    <tr style=\"text-align: right;\">\n",
              "      <th></th>\n",
              "      <th>model</th>\n",
              "      <th>type_data</th>\n",
              "      <th>F1</th>\n",
              "    </tr>\n",
              "  </thead>\n",
              "  <tbody>\n",
              "    <tr>\n",
              "      <th>0</th>\n",
              "      <td>LogisticRegression</td>\n",
              "      <td>train</td>\n",
              "      <td>0.770266</td>\n",
              "    </tr>\n",
              "    <tr>\n",
              "      <th>1</th>\n",
              "      <td>DecisionTreeClassifier</td>\n",
              "      <td>train</td>\n",
              "      <td>0.720694</td>\n",
              "    </tr>\n",
              "    <tr>\n",
              "      <th>2</th>\n",
              "      <td>RandomForestClassifier</td>\n",
              "      <td>train</td>\n",
              "      <td>0.354887</td>\n",
              "    </tr>\n",
              "    <tr>\n",
              "      <th>3</th>\n",
              "      <td>XGBClassifier</td>\n",
              "      <td>train</td>\n",
              "      <td>0.570393</td>\n",
              "    </tr>\n",
              "    <tr>\n",
              "      <th>4</th>\n",
              "      <td>LGBMClassifier</td>\n",
              "      <td>train</td>\n",
              "      <td>0.747627</td>\n",
              "    </tr>\n",
              "    <tr>\n",
              "      <th>5</th>\n",
              "      <td>-</td>\n",
              "      <td>-</td>\n",
              "      <td>-</td>\n",
              "    </tr>\n",
              "    <tr>\n",
              "      <th>6</th>\n",
              "      <td>LogisticRegression</td>\n",
              "      <td>test</td>\n",
              "      <td>0.777433</td>\n",
              "    </tr>\n",
              "  </tbody>\n",
              "</table>\n",
              "</div>\n",
              "      <button class=\"colab-df-convert\" onclick=\"convertToInteractive('df-d99d0ca9-61ed-4107-9fc0-ddb5d908f7d6')\"\n",
              "              title=\"Convert this dataframe to an interactive table.\"\n",
              "              style=\"display:none;\">\n",
              "        \n",
              "  <svg xmlns=\"http://www.w3.org/2000/svg\" height=\"24px\"viewBox=\"0 0 24 24\"\n",
              "       width=\"24px\">\n",
              "    <path d=\"M0 0h24v24H0V0z\" fill=\"none\"/>\n",
              "    <path d=\"M18.56 5.44l.94 2.06.94-2.06 2.06-.94-2.06-.94-.94-2.06-.94 2.06-2.06.94zm-11 1L8.5 8.5l.94-2.06 2.06-.94-2.06-.94L8.5 2.5l-.94 2.06-2.06.94zm10 10l.94 2.06.94-2.06 2.06-.94-2.06-.94-.94-2.06-.94 2.06-2.06.94z\"/><path d=\"M17.41 7.96l-1.37-1.37c-.4-.4-.92-.59-1.43-.59-.52 0-1.04.2-1.43.59L10.3 9.45l-7.72 7.72c-.78.78-.78 2.05 0 2.83L4 21.41c.39.39.9.59 1.41.59.51 0 1.02-.2 1.41-.59l7.78-7.78 2.81-2.81c.8-.78.8-2.07 0-2.86zM5.41 20L4 18.59l7.72-7.72 1.47 1.35L5.41 20z\"/>\n",
              "  </svg>\n",
              "      </button>\n",
              "      \n",
              "  <style>\n",
              "    .colab-df-container {\n",
              "      display:flex;\n",
              "      flex-wrap:wrap;\n",
              "      gap: 12px;\n",
              "    }\n",
              "\n",
              "    .colab-df-convert {\n",
              "      background-color: #E8F0FE;\n",
              "      border: none;\n",
              "      border-radius: 50%;\n",
              "      cursor: pointer;\n",
              "      display: none;\n",
              "      fill: #1967D2;\n",
              "      height: 32px;\n",
              "      padding: 0 0 0 0;\n",
              "      width: 32px;\n",
              "    }\n",
              "\n",
              "    .colab-df-convert:hover {\n",
              "      background-color: #E2EBFA;\n",
              "      box-shadow: 0px 1px 2px rgba(60, 64, 67, 0.3), 0px 1px 3px 1px rgba(60, 64, 67, 0.15);\n",
              "      fill: #174EA6;\n",
              "    }\n",
              "\n",
              "    [theme=dark] .colab-df-convert {\n",
              "      background-color: #3B4455;\n",
              "      fill: #D2E3FC;\n",
              "    }\n",
              "\n",
              "    [theme=dark] .colab-df-convert:hover {\n",
              "      background-color: #434B5C;\n",
              "      box-shadow: 0px 1px 3px 1px rgba(0, 0, 0, 0.15);\n",
              "      filter: drop-shadow(0px 1px 2px rgba(0, 0, 0, 0.3));\n",
              "      fill: #FFFFFF;\n",
              "    }\n",
              "  </style>\n",
              "\n",
              "      <script>\n",
              "        const buttonEl =\n",
              "          document.querySelector('#df-d99d0ca9-61ed-4107-9fc0-ddb5d908f7d6 button.colab-df-convert');\n",
              "        buttonEl.style.display =\n",
              "          google.colab.kernel.accessAllowed ? 'block' : 'none';\n",
              "\n",
              "        async function convertToInteractive(key) {\n",
              "          const element = document.querySelector('#df-d99d0ca9-61ed-4107-9fc0-ddb5d908f7d6');\n",
              "          const dataTable =\n",
              "            await google.colab.kernel.invokeFunction('convertToInteractive',\n",
              "                                                     [key], {});\n",
              "          if (!dataTable) return;\n",
              "\n",
              "          const docLinkHtml = 'Like what you see? Visit the ' +\n",
              "            '<a target=\"_blank\" href=https://colab.research.google.com/notebooks/data_table.ipynb>data table notebook</a>'\n",
              "            + ' to learn more about interactive tables.';\n",
              "          element.innerHTML = '';\n",
              "          dataTable['output_type'] = 'display_data';\n",
              "          await google.colab.output.renderOutput(dataTable, element);\n",
              "          const docLink = document.createElement('div');\n",
              "          docLink.innerHTML = docLinkHtml;\n",
              "          element.appendChild(docLink);\n",
              "        }\n",
              "      </script>\n",
              "    </div>\n",
              "  </div>\n",
              "  "
            ]
          },
          "metadata": {},
          "execution_count": 70
        }
      ],
      "source": [
        "df_result"
      ]
    },
    {
      "cell_type": "markdown",
      "metadata": {
        "id": "lTzqOWqishLG"
      },
      "source": [
        "На тестовой выборке моделью логистической регрессии получено значение метрики F1: 0.777433."
      ]
    },
    {
      "cell_type": "markdown",
      "metadata": {
        "id": "Y0HV2ASSshLH"
      },
      "source": [
        "-------"
      ]
    },
    {
      "cell_type": "markdown",
      "metadata": {
        "id": "aerdheRQshLI"
      },
      "source": [
        "## Выводы"
      ]
    },
    {
      "cell_type": "markdown",
      "metadata": {
        "id": "mw2fLQzishLJ"
      },
      "source": [
        "* Тексты комментариев в представленной выборке предварительно обработаны для обучения моделей: очищены от специальных символов, лишних пробелов, одиночных букв, стоп-слов. Проведена токенизация и лемматизация. \n",
        "\n",
        "* Созданы признаки с помощью TfidfVectorizer.\n",
        "\n",
        "* Построено пять моделей: Логистическая регрессия, Дерево решений, Случайный лес,  XGBClassifier, LightGBMClassifier.\n",
        "\n",
        "* По условиям задания необходимо построить модель со значением метрики качества F1 не меньше 0.75. На тренировочной выборке лучшее значение метрики F1 показала модель логистической регрессии - 0.770266.\n",
        "\n",
        "* Проведено тестирование модели логистической регрессии, показавшей лучшее значение метрики F1 на тренировочной выборке. Получено значение метрики F1 - 0.777433."
      ]
    },
    {
      "cell_type": "markdown",
      "metadata": {
        "id": "KUF84rU1shLJ"
      },
      "source": [
        "------"
      ]
    },
    {
      "cell_type": "code",
      "execution_count": null,
      "metadata": {
        "id": "pRzAgTPcshLR"
      },
      "outputs": [],
      "source": [
        ""
      ]
    }
  ],
  "metadata": {
    "ExecuteTimeLog": [
      {
        "duration": 1463,
        "start_time": "2022-04-27T04:33:15.523Z"
      },
      {
        "duration": 6016,
        "start_time": "2022-04-27T04:33:16.989Z"
      },
      {
        "duration": 22,
        "start_time": "2022-04-27T04:33:48.660Z"
      },
      {
        "duration": 32,
        "start_time": "2022-04-27T04:35:05.890Z"
      },
      {
        "duration": 6,
        "start_time": "2022-04-27T04:35:29.720Z"
      },
      {
        "duration": 819,
        "start_time": "2022-04-27T04:54:29.536Z"
      },
      {
        "duration": 3,
        "start_time": "2022-04-27T04:55:32.260Z"
      },
      {
        "duration": 4,
        "start_time": "2022-04-27T04:55:34.535Z"
      },
      {
        "duration": 3,
        "start_time": "2022-04-27T04:56:44.227Z"
      },
      {
        "duration": 2,
        "start_time": "2022-04-27T04:57:03.082Z"
      },
      {
        "duration": 45,
        "start_time": "2022-04-27T05:43:06.580Z"
      },
      {
        "duration": 1274,
        "start_time": "2022-04-27T05:43:44.339Z"
      },
      {
        "duration": 3,
        "start_time": "2022-04-27T05:43:46.887Z"
      },
      {
        "duration": 8341,
        "start_time": "2022-04-27T05:43:48.709Z"
      },
      {
        "duration": 16,
        "start_time": "2022-04-27T05:44:09.610Z"
      },
      {
        "duration": 31,
        "start_time": "2022-04-27T05:44:13.425Z"
      },
      {
        "duration": 6,
        "start_time": "2022-04-27T05:44:15.377Z"
      },
      {
        "duration": 64,
        "start_time": "2022-04-27T05:47:00.533Z"
      },
      {
        "duration": 7,
        "start_time": "2022-04-27T05:47:26.589Z"
      },
      {
        "duration": 1296,
        "start_time": "2022-04-27T05:47:30.387Z"
      },
      {
        "duration": 1242,
        "start_time": "2022-04-27T05:47:41.043Z"
      },
      {
        "duration": 5461,
        "start_time": "2022-04-27T05:47:44.813Z"
      },
      {
        "duration": 20,
        "start_time": "2022-04-27T05:47:58.196Z"
      },
      {
        "duration": 38,
        "start_time": "2022-04-27T05:48:12.360Z"
      },
      {
        "duration": 7,
        "start_time": "2022-04-27T05:48:13.397Z"
      },
      {
        "duration": 7,
        "start_time": "2022-04-27T05:48:16.374Z"
      },
      {
        "duration": 4,
        "start_time": "2022-04-27T05:48:48.240Z"
      },
      {
        "duration": 104,
        "start_time": "2022-04-27T05:49:08.500Z"
      },
      {
        "duration": 9,
        "start_time": "2022-04-27T05:49:44.125Z"
      },
      {
        "duration": 4,
        "start_time": "2022-04-27T05:50:09.869Z"
      },
      {
        "duration": 18,
        "start_time": "2022-04-27T05:51:20.861Z"
      },
      {
        "duration": 4,
        "start_time": "2022-04-27T05:51:30.069Z"
      },
      {
        "duration": 2,
        "start_time": "2022-04-27T05:52:03.473Z"
      },
      {
        "duration": 1718,
        "start_time": "2022-04-27T05:52:53.221Z"
      },
      {
        "duration": 3,
        "start_time": "2022-04-27T05:53:04.320Z"
      },
      {
        "duration": 2,
        "start_time": "2022-04-27T05:53:45.726Z"
      },
      {
        "duration": 6,
        "start_time": "2022-04-27T05:54:01.509Z"
      },
      {
        "duration": 80102,
        "start_time": "2022-04-27T06:24:33.801Z"
      },
      {
        "duration": 8,
        "start_time": "2022-04-27T06:26:09.126Z"
      },
      {
        "duration": 31782,
        "start_time": "2022-04-27T06:32:52.987Z"
      },
      {
        "duration": 7,
        "start_time": "2022-04-27T06:33:45.041Z"
      },
      {
        "duration": 7,
        "start_time": "2022-04-27T06:36:06.283Z"
      },
      {
        "duration": 3,
        "start_time": "2022-04-27T06:42:56.382Z"
      },
      {
        "duration": 4,
        "start_time": "2022-04-27T06:43:04.994Z"
      },
      {
        "duration": 3,
        "start_time": "2022-04-27T06:43:17.557Z"
      },
      {
        "duration": 6,
        "start_time": "2022-04-27T06:43:53.423Z"
      },
      {
        "duration": 4,
        "start_time": "2022-04-27T06:44:24.716Z"
      },
      {
        "duration": 4,
        "start_time": "2022-04-27T06:46:36.177Z"
      },
      {
        "duration": 71,
        "start_time": "2022-04-27T06:48:21.007Z"
      },
      {
        "duration": 4027,
        "start_time": "2022-04-27T06:49:14.349Z"
      },
      {
        "duration": 5,
        "start_time": "2022-04-27T06:56:06.575Z"
      },
      {
        "duration": 8,
        "start_time": "2022-04-27T06:57:03.772Z"
      },
      {
        "duration": 383,
        "start_time": "2022-04-27T07:00:51.334Z"
      },
      {
        "duration": 4,
        "start_time": "2022-04-27T07:01:02.813Z"
      },
      {
        "duration": 349,
        "start_time": "2022-04-27T07:01:37.285Z"
      },
      {
        "duration": 69310,
        "start_time": "2022-04-27T07:03:36.508Z"
      },
      {
        "duration": 11,
        "start_time": "2022-04-27T07:04:53.757Z"
      },
      {
        "duration": 379,
        "start_time": "2022-04-27T07:04:58.421Z"
      },
      {
        "duration": 4,
        "start_time": "2022-04-27T07:04:59.707Z"
      },
      {
        "duration": 1306,
        "start_time": "2022-04-27T07:06:24.423Z"
      },
      {
        "duration": 3,
        "start_time": "2022-04-27T07:06:25.731Z"
      },
      {
        "duration": 6521,
        "start_time": "2022-04-27T07:06:25.736Z"
      },
      {
        "duration": 16,
        "start_time": "2022-04-27T07:06:32.259Z"
      },
      {
        "duration": 43,
        "start_time": "2022-04-27T07:06:32.277Z"
      },
      {
        "duration": 8,
        "start_time": "2022-04-27T07:06:32.322Z"
      },
      {
        "duration": 92157,
        "start_time": "2022-04-27T07:06:32.332Z"
      },
      {
        "duration": 7,
        "start_time": "2022-04-27T07:08:04.491Z"
      },
      {
        "duration": 5,
        "start_time": "2022-04-27T07:08:04.499Z"
      },
      {
        "duration": 37620,
        "start_time": "2022-04-27T07:08:04.507Z"
      },
      {
        "duration": 5,
        "start_time": "2022-04-27T07:08:42.129Z"
      },
      {
        "duration": 3874,
        "start_time": "2022-04-27T07:08:42.135Z"
      },
      {
        "duration": 6,
        "start_time": "2022-04-27T07:08:46.011Z"
      },
      {
        "duration": 52207,
        "start_time": "2022-04-27T07:08:46.019Z"
      },
      {
        "duration": 7,
        "start_time": "2022-04-27T07:09:38.228Z"
      },
      {
        "duration": 378,
        "start_time": "2022-04-27T07:09:38.237Z"
      },
      {
        "duration": 4,
        "start_time": "2022-04-27T07:09:38.617Z"
      },
      {
        "duration": 1318,
        "start_time": "2022-04-27T07:14:57.519Z"
      },
      {
        "duration": 8,
        "start_time": "2022-04-27T07:14:58.839Z"
      },
      {
        "duration": 6441,
        "start_time": "2022-04-27T07:14:58.849Z"
      },
      {
        "duration": 22,
        "start_time": "2022-04-27T07:15:05.294Z"
      },
      {
        "duration": 33,
        "start_time": "2022-04-27T07:15:05.318Z"
      },
      {
        "duration": 6,
        "start_time": "2022-04-27T07:15:05.353Z"
      },
      {
        "duration": 86200,
        "start_time": "2022-04-27T07:15:05.360Z"
      },
      {
        "duration": 8,
        "start_time": "2022-04-27T07:16:31.562Z"
      },
      {
        "duration": 5,
        "start_time": "2022-04-27T07:16:31.572Z"
      },
      {
        "duration": 60773,
        "start_time": "2022-04-27T07:16:31.580Z"
      },
      {
        "duration": 7,
        "start_time": "2022-04-27T07:17:32.356Z"
      },
      {
        "duration": 4183,
        "start_time": "2022-04-27T07:17:32.364Z"
      },
      {
        "duration": 5,
        "start_time": "2022-04-27T07:17:36.549Z"
      },
      {
        "duration": 42520,
        "start_time": "2022-04-27T07:17:36.556Z"
      },
      {
        "duration": 7,
        "start_time": "2022-04-27T07:18:19.078Z"
      },
      {
        "duration": 667,
        "start_time": "2022-04-27T07:18:19.087Z"
      },
      {
        "duration": 4,
        "start_time": "2022-04-27T07:18:19.756Z"
      },
      {
        "duration": 3,
        "start_time": "2022-04-27T07:22:44.920Z"
      },
      {
        "duration": 10,
        "start_time": "2022-04-27T07:25:17.454Z"
      },
      {
        "duration": 3,
        "start_time": "2022-04-27T07:25:32.961Z"
      },
      {
        "duration": 5,
        "start_time": "2022-04-27T07:26:55.513Z"
      },
      {
        "duration": 5,
        "start_time": "2022-04-27T07:27:04.565Z"
      },
      {
        "duration": 113,
        "start_time": "2022-04-27T07:30:07.768Z"
      },
      {
        "duration": 7487,
        "start_time": "2022-04-27T07:30:19.089Z"
      },
      {
        "duration": 6801,
        "start_time": "2022-04-27T07:31:39.115Z"
      },
      {
        "duration": 4,
        "start_time": "2022-04-27T07:32:31.884Z"
      },
      {
        "duration": 3,
        "start_time": "2022-04-27T07:33:02.333Z"
      },
      {
        "duration": 6,
        "start_time": "2022-04-27T07:35:15.189Z"
      },
      {
        "duration": 12,
        "start_time": "2022-04-27T07:35:27.932Z"
      },
      {
        "duration": 3,
        "start_time": "2022-04-27T07:38:21.706Z"
      },
      {
        "duration": 3,
        "start_time": "2022-04-27T07:38:46.623Z"
      },
      {
        "duration": 94,
        "start_time": "2022-04-27T07:39:38.192Z"
      },
      {
        "duration": 7263,
        "start_time": "2022-04-27T07:40:04.927Z"
      },
      {
        "duration": 6,
        "start_time": "2022-04-27T07:41:35.112Z"
      },
      {
        "duration": 4,
        "start_time": "2022-04-27T07:41:59.603Z"
      },
      {
        "duration": 5,
        "start_time": "2022-04-27T07:42:16.049Z"
      },
      {
        "duration": 1278,
        "start_time": "2022-04-27T07:44:10.043Z"
      },
      {
        "duration": 3,
        "start_time": "2022-04-27T07:44:11.323Z"
      },
      {
        "duration": 7479,
        "start_time": "2022-04-27T07:44:11.328Z"
      },
      {
        "duration": 15,
        "start_time": "2022-04-27T07:44:18.809Z"
      },
      {
        "duration": 31,
        "start_time": "2022-04-27T07:44:18.826Z"
      },
      {
        "duration": 6,
        "start_time": "2022-04-27T07:44:18.859Z"
      },
      {
        "duration": 79417,
        "start_time": "2022-04-27T07:44:18.866Z"
      },
      {
        "duration": 7,
        "start_time": "2022-04-27T07:45:38.285Z"
      },
      {
        "duration": 5,
        "start_time": "2022-04-27T07:45:38.294Z"
      },
      {
        "duration": 33730,
        "start_time": "2022-04-27T07:45:38.301Z"
      },
      {
        "duration": 16,
        "start_time": "2022-04-27T07:46:12.033Z"
      },
      {
        "duration": 3782,
        "start_time": "2022-04-27T07:46:12.051Z"
      },
      {
        "duration": 14,
        "start_time": "2022-04-27T07:46:15.835Z"
      },
      {
        "duration": 5,
        "start_time": "2022-04-27T07:46:15.851Z"
      },
      {
        "duration": 4,
        "start_time": "2022-04-27T07:46:15.858Z"
      },
      {
        "duration": 66,
        "start_time": "2022-04-27T07:46:15.863Z"
      },
      {
        "duration": 3,
        "start_time": "2022-04-27T07:46:15.931Z"
      },
      {
        "duration": 4,
        "start_time": "2022-04-27T07:46:15.948Z"
      },
      {
        "duration": 4,
        "start_time": "2022-04-27T07:46:15.953Z"
      },
      {
        "duration": 120,
        "start_time": "2022-04-27T07:46:15.959Z"
      },
      {
        "duration": 0,
        "start_time": "2022-04-27T07:46:16.081Z"
      },
      {
        "duration": 0,
        "start_time": "2022-04-27T07:46:16.083Z"
      },
      {
        "duration": 3,
        "start_time": "2022-04-27T07:47:25.553Z"
      },
      {
        "duration": 5094,
        "start_time": "2022-04-27T07:47:29.016Z"
      },
      {
        "duration": 1187,
        "start_time": "2022-04-27T07:47:34.112Z"
      },
      {
        "duration": 4,
        "start_time": "2022-04-27T07:47:35.301Z"
      },
      {
        "duration": 3,
        "start_time": "2022-04-27T07:49:13.602Z"
      },
      {
        "duration": 52015,
        "start_time": "2022-04-27T07:49:14.456Z"
      },
      {
        "duration": 6,
        "start_time": "2022-04-27T07:50:38.646Z"
      },
      {
        "duration": 13,
        "start_time": "2022-04-27T07:50:39.896Z"
      },
      {
        "duration": 3,
        "start_time": "2022-04-27T07:52:40.668Z"
      },
      {
        "duration": 19,
        "start_time": "2022-04-27T07:52:53.649Z"
      },
      {
        "duration": 11,
        "start_time": "2022-04-27T07:53:00.856Z"
      },
      {
        "duration": 3,
        "start_time": "2022-04-27T07:53:09.558Z"
      },
      {
        "duration": 388190,
        "start_time": "2022-04-27T07:53:17.963Z"
      },
      {
        "duration": 11,
        "start_time": "2022-04-27T07:59:54.267Z"
      },
      {
        "duration": 72,
        "start_time": "2022-04-27T08:00:02.841Z"
      },
      {
        "duration": 3,
        "start_time": "2022-04-27T08:00:19.707Z"
      },
      {
        "duration": 1646,
        "start_time": "2022-04-27T08:01:23.668Z"
      },
      {
        "duration": 3,
        "start_time": "2022-04-27T08:01:25.316Z"
      },
      {
        "duration": 8074,
        "start_time": "2022-04-27T08:01:25.321Z"
      },
      {
        "duration": 15,
        "start_time": "2022-04-27T08:01:33.397Z"
      },
      {
        "duration": 32,
        "start_time": "2022-04-27T08:01:33.415Z"
      },
      {
        "duration": 7,
        "start_time": "2022-04-27T08:01:33.449Z"
      },
      {
        "duration": 80939,
        "start_time": "2022-04-27T08:01:33.457Z"
      },
      {
        "duration": 7,
        "start_time": "2022-04-27T08:02:54.398Z"
      },
      {
        "duration": 4,
        "start_time": "2022-04-27T08:02:54.407Z"
      },
      {
        "duration": 53635,
        "start_time": "2022-04-27T08:02:54.413Z"
      },
      {
        "duration": 7,
        "start_time": "2022-04-27T08:03:48.051Z"
      },
      {
        "duration": 3815,
        "start_time": "2022-04-27T08:03:48.059Z"
      },
      {
        "duration": 5,
        "start_time": "2022-04-27T08:03:51.876Z"
      },
      {
        "duration": 4,
        "start_time": "2022-04-27T08:03:51.883Z"
      },
      {
        "duration": 4,
        "start_time": "2022-04-27T08:03:51.889Z"
      },
      {
        "duration": 79,
        "start_time": "2022-04-27T08:03:51.895Z"
      },
      {
        "duration": 4,
        "start_time": "2022-04-27T08:03:51.975Z"
      },
      {
        "duration": 8,
        "start_time": "2022-04-27T08:03:51.980Z"
      },
      {
        "duration": 8,
        "start_time": "2022-04-27T08:03:51.990Z"
      },
      {
        "duration": 3,
        "start_time": "2022-04-27T08:03:52.000Z"
      },
      {
        "duration": 5043,
        "start_time": "2022-04-27T08:03:52.004Z"
      },
      {
        "duration": 1173,
        "start_time": "2022-04-27T08:03:57.049Z"
      },
      {
        "duration": 3,
        "start_time": "2022-04-27T08:03:58.225Z"
      },
      {
        "duration": 17,
        "start_time": "2022-04-27T08:03:58.230Z"
      },
      {
        "duration": 50603,
        "start_time": "2022-04-27T08:03:58.249Z"
      },
      {
        "duration": 6,
        "start_time": "2022-04-27T08:04:48.854Z"
      },
      {
        "duration": 14,
        "start_time": "2022-04-27T08:04:48.862Z"
      },
      {
        "duration": 2,
        "start_time": "2022-04-27T08:04:48.879Z"
      },
      {
        "duration": 1415,
        "start_time": "2022-04-27T08:07:29.788Z"
      },
      {
        "duration": 3,
        "start_time": "2022-04-27T08:07:31.205Z"
      },
      {
        "duration": 6747,
        "start_time": "2022-04-27T08:07:31.210Z"
      },
      {
        "duration": 15,
        "start_time": "2022-04-27T08:07:37.959Z"
      },
      {
        "duration": 29,
        "start_time": "2022-04-27T08:07:37.975Z"
      },
      {
        "duration": 7,
        "start_time": "2022-04-27T08:07:38.006Z"
      },
      {
        "duration": 80559,
        "start_time": "2022-04-27T08:07:38.015Z"
      },
      {
        "duration": 8,
        "start_time": "2022-04-27T08:08:58.576Z"
      },
      {
        "duration": 3,
        "start_time": "2022-04-27T08:08:58.586Z"
      },
      {
        "duration": 32736,
        "start_time": "2022-04-27T08:08:58.593Z"
      },
      {
        "duration": 6,
        "start_time": "2022-04-27T08:09:31.330Z"
      },
      {
        "duration": 3809,
        "start_time": "2022-04-27T08:09:31.338Z"
      },
      {
        "duration": 6,
        "start_time": "2022-04-27T08:09:35.149Z"
      },
      {
        "duration": 4,
        "start_time": "2022-04-27T08:09:35.157Z"
      },
      {
        "duration": 6,
        "start_time": "2022-04-27T08:09:35.162Z"
      },
      {
        "duration": 60,
        "start_time": "2022-04-27T08:09:35.169Z"
      },
      {
        "duration": 4,
        "start_time": "2022-04-27T08:09:35.248Z"
      },
      {
        "duration": 5,
        "start_time": "2022-04-27T08:09:35.254Z"
      },
      {
        "duration": 6,
        "start_time": "2022-04-27T08:09:35.261Z"
      },
      {
        "duration": 3,
        "start_time": "2022-04-27T08:09:35.269Z"
      },
      {
        "duration": 5322,
        "start_time": "2022-04-27T08:09:35.273Z"
      },
      {
        "duration": 1169,
        "start_time": "2022-04-27T08:09:40.597Z"
      },
      {
        "duration": 3,
        "start_time": "2022-04-27T08:09:41.768Z"
      },
      {
        "duration": 6,
        "start_time": "2022-04-27T08:09:41.773Z"
      },
      {
        "duration": 53268,
        "start_time": "2022-04-27T08:09:41.781Z"
      },
      {
        "duration": 96,
        "start_time": "2022-04-27T08:10:35.052Z"
      },
      {
        "duration": 12,
        "start_time": "2022-04-27T08:10:35.150Z"
      },
      {
        "duration": 4,
        "start_time": "2022-04-27T08:14:56.965Z"
      },
      {
        "duration": 5,
        "start_time": "2022-04-27T08:15:29.882Z"
      },
      {
        "duration": 5,
        "start_time": "2022-04-27T08:15:37.782Z"
      },
      {
        "duration": 770,
        "start_time": "2022-04-27T08:19:43.613Z"
      },
      {
        "duration": 40836,
        "start_time": "2022-04-27T08:20:20.829Z"
      },
      {
        "duration": 74766,
        "start_time": "2022-04-27T08:22:13.641Z"
      },
      {
        "duration": 234070,
        "start_time": "2022-04-27T08:24:56.073Z"
      },
      {
        "duration": 0,
        "start_time": "2022-04-27T08:38:07.400Z"
      },
      {
        "duration": 224,
        "start_time": "2022-04-27T08:43:30.494Z"
      },
      {
        "duration": 1499,
        "start_time": "2022-04-27T08:44:16.065Z"
      },
      {
        "duration": 3,
        "start_time": "2022-04-27T08:44:17.568Z"
      },
      {
        "duration": 845,
        "start_time": "2022-04-27T08:44:17.572Z"
      },
      {
        "duration": 17,
        "start_time": "2022-04-27T08:44:18.418Z"
      },
      {
        "duration": 35,
        "start_time": "2022-04-27T08:44:18.449Z"
      },
      {
        "duration": 7,
        "start_time": "2022-04-27T08:44:18.485Z"
      },
      {
        "duration": 92124,
        "start_time": "2022-04-27T08:44:18.494Z"
      },
      {
        "duration": 6,
        "start_time": "2022-04-27T08:45:50.620Z"
      },
      {
        "duration": 6,
        "start_time": "2022-04-27T08:45:50.628Z"
      },
      {
        "duration": 39422,
        "start_time": "2022-04-27T08:45:50.647Z"
      },
      {
        "duration": 7,
        "start_time": "2022-04-27T08:46:30.071Z"
      },
      {
        "duration": 5741,
        "start_time": "2022-04-27T08:46:30.079Z"
      },
      {
        "duration": 5,
        "start_time": "2022-04-27T08:46:35.822Z"
      },
      {
        "duration": 2,
        "start_time": "2022-04-27T08:46:35.830Z"
      },
      {
        "duration": 21,
        "start_time": "2022-04-27T08:46:35.833Z"
      },
      {
        "duration": 63,
        "start_time": "2022-04-27T08:46:35.856Z"
      },
      {
        "duration": 5,
        "start_time": "2022-04-27T08:46:35.921Z"
      },
      {
        "duration": 6,
        "start_time": "2022-04-27T08:46:35.928Z"
      },
      {
        "duration": 15,
        "start_time": "2022-04-27T08:46:35.936Z"
      },
      {
        "duration": 12,
        "start_time": "2022-04-27T08:46:35.955Z"
      },
      {
        "duration": 5360,
        "start_time": "2022-04-27T08:46:35.968Z"
      },
      {
        "duration": 1249,
        "start_time": "2022-04-27T08:46:41.330Z"
      },
      {
        "duration": 4,
        "start_time": "2022-04-27T08:46:42.581Z"
      },
      {
        "duration": 5,
        "start_time": "2022-04-27T08:46:42.586Z"
      },
      {
        "duration": 50157,
        "start_time": "2022-04-27T08:46:42.592Z"
      },
      {
        "duration": 8,
        "start_time": "2022-04-27T08:47:32.751Z"
      },
      {
        "duration": 103,
        "start_time": "2022-04-27T08:47:32.761Z"
      },
      {
        "duration": 91,
        "start_time": "2022-04-27T08:47:32.866Z"
      },
      {
        "duration": 0,
        "start_time": "2022-04-27T08:47:32.959Z"
      },
      {
        "duration": 0,
        "start_time": "2022-04-27T08:47:32.960Z"
      },
      {
        "duration": 0,
        "start_time": "2022-04-27T08:47:32.961Z"
      },
      {
        "duration": 0,
        "start_time": "2022-04-27T08:47:32.962Z"
      },
      {
        "duration": 0,
        "start_time": "2022-04-27T08:47:32.963Z"
      },
      {
        "duration": 372459,
        "start_time": "2022-04-27T08:47:52.797Z"
      },
      {
        "duration": 40,
        "start_time": "2022-04-27T08:54:05.259Z"
      },
      {
        "duration": 579317,
        "start_time": "2022-04-27T08:54:26.041Z"
      },
      {
        "duration": 456,
        "start_time": "2022-04-27T09:07:02.282Z"
      },
      {
        "duration": 19009,
        "start_time": "2022-04-27T09:07:21.132Z"
      },
      {
        "duration": 7,
        "start_time": "2022-04-27T09:07:45.062Z"
      },
      {
        "duration": 140267,
        "start_time": "2022-04-27T09:09:53.454Z"
      },
      {
        "duration": 7,
        "start_time": "2022-04-27T09:14:17.455Z"
      },
      {
        "duration": 651,
        "start_time": "2022-04-27T09:15:24.763Z"
      },
      {
        "duration": 7248,
        "start_time": "2022-04-27T09:15:42.333Z"
      },
      {
        "duration": 237519,
        "start_time": "2022-04-27T09:16:03.672Z"
      },
      {
        "duration": 6,
        "start_time": "2022-04-27T09:21:46.539Z"
      },
      {
        "duration": 13,
        "start_time": "2022-04-27T09:23:12.135Z"
      },
      {
        "duration": 25,
        "start_time": "2022-04-27T09:23:33.658Z"
      },
      {
        "duration": 11,
        "start_time": "2022-04-27T09:23:50.518Z"
      },
      {
        "duration": 12,
        "start_time": "2022-04-27T09:23:56.498Z"
      },
      {
        "duration": 1570,
        "start_time": "2022-04-27T09:25:16.825Z"
      },
      {
        "duration": 3,
        "start_time": "2022-04-27T09:25:18.397Z"
      },
      {
        "duration": 7635,
        "start_time": "2022-04-27T09:25:18.401Z"
      },
      {
        "duration": 15,
        "start_time": "2022-04-27T09:25:26.037Z"
      },
      {
        "duration": 34,
        "start_time": "2022-04-27T09:25:26.054Z"
      },
      {
        "duration": 7,
        "start_time": "2022-04-27T09:25:26.089Z"
      },
      {
        "duration": 80029,
        "start_time": "2022-04-27T09:25:37.439Z"
      },
      {
        "duration": 116,
        "start_time": "2022-04-27T09:30:38.812Z"
      },
      {
        "duration": 824,
        "start_time": "2022-04-27T09:31:12.742Z"
      },
      {
        "duration": 12,
        "start_time": "2022-04-27T09:32:13.742Z"
      },
      {
        "duration": 7,
        "start_time": "2022-04-27T09:32:26.841Z"
      },
      {
        "duration": 3,
        "start_time": "2022-04-27T09:32:37.910Z"
      },
      {
        "duration": 4,
        "start_time": "2022-04-27T09:33:55.183Z"
      },
      {
        "duration": 4,
        "start_time": "2022-04-27T09:33:58.877Z"
      },
      {
        "duration": 9,
        "start_time": "2022-04-27T09:34:43.949Z"
      },
      {
        "duration": 404,
        "start_time": "2022-04-27T09:35:33.875Z"
      },
      {
        "duration": 3,
        "start_time": "2022-04-27T09:36:07.253Z"
      },
      {
        "duration": 4,
        "start_time": "2022-04-27T09:36:11.039Z"
      },
      {
        "duration": 416,
        "start_time": "2022-04-27T09:37:04.478Z"
      },
      {
        "duration": 4,
        "start_time": "2022-04-27T09:37:21.328Z"
      },
      {
        "duration": 4,
        "start_time": "2022-04-27T09:37:25.100Z"
      },
      {
        "duration": 4,
        "start_time": "2022-04-27T09:41:51.918Z"
      },
      {
        "duration": 5,
        "start_time": "2022-04-27T09:41:56.292Z"
      },
      {
        "duration": 4,
        "start_time": "2022-04-27T09:42:13.472Z"
      },
      {
        "duration": 5,
        "start_time": "2022-04-27T09:42:16.166Z"
      },
      {
        "duration": 3,
        "start_time": "2022-04-27T09:42:53.086Z"
      },
      {
        "duration": 5,
        "start_time": "2022-04-27T09:42:53.944Z"
      },
      {
        "duration": 4,
        "start_time": "2022-04-27T09:43:16.574Z"
      },
      {
        "duration": 4,
        "start_time": "2022-04-27T09:43:17.982Z"
      },
      {
        "duration": 7,
        "start_time": "2022-04-27T09:43:18.719Z"
      },
      {
        "duration": 4,
        "start_time": "2022-04-27T09:43:38.631Z"
      },
      {
        "duration": 5,
        "start_time": "2022-04-27T09:43:41.230Z"
      },
      {
        "duration": 4,
        "start_time": "2022-04-27T09:43:43.750Z"
      },
      {
        "duration": 6,
        "start_time": "2022-04-27T09:43:45.132Z"
      },
      {
        "duration": 4,
        "start_time": "2022-04-27T09:43:55.241Z"
      },
      {
        "duration": 7,
        "start_time": "2022-04-27T09:43:55.849Z"
      },
      {
        "duration": 4,
        "start_time": "2022-04-27T09:43:59.834Z"
      },
      {
        "duration": 4,
        "start_time": "2022-04-27T09:44:01.667Z"
      },
      {
        "duration": 3,
        "start_time": "2022-04-27T09:44:03.916Z"
      },
      {
        "duration": 7,
        "start_time": "2022-04-27T09:44:04.890Z"
      },
      {
        "duration": 4,
        "start_time": "2022-04-27T09:45:14.004Z"
      },
      {
        "duration": 10,
        "start_time": "2022-04-27T09:45:15.011Z"
      },
      {
        "duration": 9,
        "start_time": "2022-04-27T09:45:33.640Z"
      },
      {
        "duration": 4,
        "start_time": "2022-04-27T09:45:40.705Z"
      },
      {
        "duration": 8,
        "start_time": "2022-04-27T09:45:41.438Z"
      },
      {
        "duration": 4,
        "start_time": "2022-04-27T09:45:52.541Z"
      },
      {
        "duration": 7,
        "start_time": "2022-04-27T09:45:53.178Z"
      },
      {
        "duration": 3,
        "start_time": "2022-04-27T09:46:30.184Z"
      },
      {
        "duration": 4,
        "start_time": "2022-04-27T09:46:32.102Z"
      },
      {
        "duration": 5,
        "start_time": "2022-04-27T09:47:32.762Z"
      },
      {
        "duration": 6,
        "start_time": "2022-04-27T09:47:34.870Z"
      },
      {
        "duration": 10,
        "start_time": "2022-04-27T09:48:29.580Z"
      },
      {
        "duration": 4,
        "start_time": "2022-04-27T09:48:35.723Z"
      },
      {
        "duration": 4,
        "start_time": "2022-04-27T09:48:59.157Z"
      },
      {
        "duration": 3,
        "start_time": "2022-04-27T09:51:00.965Z"
      },
      {
        "duration": 5,
        "start_time": "2022-04-27T09:51:03.424Z"
      },
      {
        "duration": 5,
        "start_time": "2022-04-27T09:52:02.712Z"
      },
      {
        "duration": 6,
        "start_time": "2022-04-27T09:52:04.994Z"
      },
      {
        "duration": 3,
        "start_time": "2022-04-27T09:52:44.230Z"
      },
      {
        "duration": 2141,
        "start_time": "2022-04-27T09:52:45.032Z"
      },
      {
        "duration": 5,
        "start_time": "2022-04-27T09:52:54.733Z"
      },
      {
        "duration": 3917,
        "start_time": "2022-04-27T09:55:57.967Z"
      },
      {
        "duration": 5,
        "start_time": "2022-04-27T09:56:03.534Z"
      },
      {
        "duration": 149949,
        "start_time": "2022-04-27T09:56:20.759Z"
      },
      {
        "duration": 5,
        "start_time": "2022-04-27T09:59:04.964Z"
      },
      {
        "duration": 46266,
        "start_time": "2022-04-27T10:00:24.567Z"
      },
      {
        "duration": 7,
        "start_time": "2022-04-27T10:01:17.984Z"
      },
      {
        "duration": 30310,
        "start_time": "2022-04-27T10:01:26.563Z"
      },
      {
        "duration": 5,
        "start_time": "2022-04-27T10:02:22.185Z"
      },
      {
        "duration": 2,
        "start_time": "2022-04-27T10:02:38.221Z"
      },
      {
        "duration": 2,
        "start_time": "2022-04-27T10:02:39.550Z"
      },
      {
        "duration": 67,
        "start_time": "2022-04-27T10:02:40.414Z"
      },
      {
        "duration": 5,
        "start_time": "2022-04-27T10:02:41.202Z"
      },
      {
        "duration": 5,
        "start_time": "2022-04-27T10:02:42.022Z"
      },
      {
        "duration": 7,
        "start_time": "2022-04-27T10:02:46.231Z"
      },
      {
        "duration": 3,
        "start_time": "2022-04-27T10:02:47.366Z"
      },
      {
        "duration": 5278,
        "start_time": "2022-04-27T10:02:49.676Z"
      },
      {
        "duration": 1291,
        "start_time": "2022-04-27T10:02:56.165Z"
      },
      {
        "duration": 4,
        "start_time": "2022-04-27T10:02:58.816Z"
      },
      {
        "duration": 2,
        "start_time": "2022-04-27T10:03:05.165Z"
      },
      {
        "duration": 51747,
        "start_time": "2022-04-27T10:03:06.216Z"
      },
      {
        "duration": 6,
        "start_time": "2022-04-27T10:03:57.969Z"
      },
      {
        "duration": 18,
        "start_time": "2022-04-27T10:03:57.976Z"
      },
      {
        "duration": 533183,
        "start_time": "2022-04-27T10:04:11.493Z"
      },
      {
        "duration": 44,
        "start_time": "2022-04-27T10:13:54.509Z"
      },
      {
        "duration": 5871,
        "start_time": "2022-04-27T10:14:15.969Z"
      },
      {
        "duration": 4395,
        "start_time": "2022-04-27T10:15:38.038Z"
      },
      {
        "duration": 5563,
        "start_time": "2022-04-27T10:17:32.042Z"
      },
      {
        "duration": 4345,
        "start_time": "2022-04-27T10:18:21.734Z"
      },
      {
        "duration": 2381322,
        "start_time": "2022-04-27T10:20:15.940Z"
      },
      {
        "duration": 13,
        "start_time": "2022-04-27T10:59:57.265Z"
      },
      {
        "duration": 0,
        "start_time": "2022-04-27T10:59:57.281Z"
      },
      {
        "duration": 0,
        "start_time": "2022-04-27T10:59:57.283Z"
      },
      {
        "duration": 0,
        "start_time": "2022-04-27T10:59:57.284Z"
      },
      {
        "duration": 0,
        "start_time": "2022-04-27T10:59:57.286Z"
      },
      {
        "duration": 0,
        "start_time": "2022-04-27T10:59:57.291Z"
      },
      {
        "duration": 0,
        "start_time": "2022-04-27T10:59:57.293Z"
      },
      {
        "duration": 0,
        "start_time": "2022-04-27T10:59:57.294Z"
      },
      {
        "duration": 4,
        "start_time": "2022-04-27T13:27:59.607Z"
      },
      {
        "duration": 3,
        "start_time": "2022-04-27T13:28:11.108Z"
      },
      {
        "duration": 3,
        "start_time": "2022-04-27T13:28:20.837Z"
      },
      {
        "duration": 197947,
        "start_time": "2022-04-27T13:28:23.252Z"
      },
      {
        "duration": 253,
        "start_time": "2022-04-27T13:31:41.202Z"
      },
      {
        "duration": 11,
        "start_time": "2022-04-27T13:31:41.457Z"
      },
      {
        "duration": 2,
        "start_time": "2022-04-27T13:32:50.936Z"
      },
      {
        "duration": 1478,
        "start_time": "2022-04-27T13:35:57.833Z"
      },
      {
        "duration": 3,
        "start_time": "2022-04-27T13:35:59.313Z"
      },
      {
        "duration": 7870,
        "start_time": "2022-04-27T13:35:59.318Z"
      },
      {
        "duration": 17,
        "start_time": "2022-04-27T13:36:07.190Z"
      },
      {
        "duration": 32,
        "start_time": "2022-04-27T13:36:07.209Z"
      },
      {
        "duration": 8,
        "start_time": "2022-04-27T13:36:07.243Z"
      },
      {
        "duration": 3712,
        "start_time": "2022-04-27T13:36:07.253Z"
      },
      {
        "duration": 6,
        "start_time": "2022-04-27T13:36:10.966Z"
      },
      {
        "duration": 41623,
        "start_time": "2022-04-27T13:36:10.973Z"
      },
      {
        "duration": 7,
        "start_time": "2022-04-27T13:36:52.599Z"
      },
      {
        "duration": 5,
        "start_time": "2022-04-27T13:36:52.608Z"
      },
      {
        "duration": 29022,
        "start_time": "2022-04-27T13:36:52.615Z"
      },
      {
        "duration": 11,
        "start_time": "2022-04-27T13:37:21.639Z"
      },
      {
        "duration": 5,
        "start_time": "2022-04-27T13:37:21.651Z"
      },
      {
        "duration": 6,
        "start_time": "2022-04-27T13:37:21.658Z"
      },
      {
        "duration": 60,
        "start_time": "2022-04-27T13:37:21.666Z"
      },
      {
        "duration": 21,
        "start_time": "2022-04-27T13:37:21.728Z"
      },
      {
        "duration": 5,
        "start_time": "2022-04-27T13:37:21.751Z"
      },
      {
        "duration": 6,
        "start_time": "2022-04-27T13:37:21.757Z"
      },
      {
        "duration": 3,
        "start_time": "2022-04-27T13:37:21.764Z"
      },
      {
        "duration": 4831,
        "start_time": "2022-04-27T13:37:21.769Z"
      },
      {
        "duration": 1134,
        "start_time": "2022-04-27T13:37:26.602Z"
      },
      {
        "duration": 12,
        "start_time": "2022-04-27T13:37:27.737Z"
      },
      {
        "duration": 110,
        "start_time": "2022-04-27T13:37:46.110Z"
      },
      {
        "duration": 20,
        "start_time": "2022-04-27T13:37:56.296Z"
      },
      {
        "duration": 2,
        "start_time": "2022-04-27T13:38:04.208Z"
      },
      {
        "duration": 1489,
        "start_time": "2022-04-27T13:38:57.355Z"
      },
      {
        "duration": 3,
        "start_time": "2022-04-27T13:38:58.846Z"
      },
      {
        "duration": 6347,
        "start_time": "2022-04-27T13:38:58.853Z"
      },
      {
        "duration": 14,
        "start_time": "2022-04-27T13:39:05.202Z"
      },
      {
        "duration": 34,
        "start_time": "2022-04-27T13:39:05.218Z"
      },
      {
        "duration": 7,
        "start_time": "2022-04-27T13:39:05.253Z"
      },
      {
        "duration": 3748,
        "start_time": "2022-04-27T13:39:05.261Z"
      },
      {
        "duration": 4,
        "start_time": "2022-04-27T13:39:09.011Z"
      },
      {
        "duration": 11653,
        "start_time": "2022-04-27T13:39:09.018Z"
      },
      {
        "duration": 0,
        "start_time": "2022-04-27T13:39:20.673Z"
      },
      {
        "duration": 0,
        "start_time": "2022-04-27T13:39:20.674Z"
      },
      {
        "duration": 0,
        "start_time": "2022-04-27T13:39:20.675Z"
      },
      {
        "duration": 0,
        "start_time": "2022-04-27T13:39:20.676Z"
      },
      {
        "duration": 0,
        "start_time": "2022-04-27T13:39:20.677Z"
      },
      {
        "duration": 0,
        "start_time": "2022-04-27T13:39:20.678Z"
      },
      {
        "duration": 0,
        "start_time": "2022-04-27T13:39:20.678Z"
      },
      {
        "duration": 0,
        "start_time": "2022-04-27T13:39:20.679Z"
      },
      {
        "duration": 0,
        "start_time": "2022-04-27T13:39:20.680Z"
      },
      {
        "duration": 0,
        "start_time": "2022-04-27T13:39:20.681Z"
      },
      {
        "duration": 0,
        "start_time": "2022-04-27T13:39:20.682Z"
      },
      {
        "duration": 0,
        "start_time": "2022-04-27T13:39:20.683Z"
      },
      {
        "duration": 0,
        "start_time": "2022-04-27T13:39:20.684Z"
      },
      {
        "duration": 0,
        "start_time": "2022-04-27T13:39:20.685Z"
      },
      {
        "duration": 0,
        "start_time": "2022-04-27T13:39:20.686Z"
      },
      {
        "duration": 0,
        "start_time": "2022-04-27T13:39:20.687Z"
      },
      {
        "duration": 1,
        "start_time": "2022-04-27T13:39:20.687Z"
      },
      {
        "duration": 0,
        "start_time": "2022-04-27T13:39:20.688Z"
      },
      {
        "duration": 0,
        "start_time": "2022-04-27T13:39:20.689Z"
      },
      {
        "duration": 0,
        "start_time": "2022-04-27T13:39:20.690Z"
      },
      {
        "duration": 1,
        "start_time": "2022-04-27T13:39:20.690Z"
      },
      {
        "duration": 0,
        "start_time": "2022-04-27T13:39:20.691Z"
      },
      {
        "duration": 0,
        "start_time": "2022-04-27T13:39:20.692Z"
      },
      {
        "duration": 0,
        "start_time": "2022-04-27T13:39:20.693Z"
      },
      {
        "duration": 0,
        "start_time": "2022-04-27T13:39:20.694Z"
      },
      {
        "duration": 0,
        "start_time": "2022-04-27T13:39:20.694Z"
      },
      {
        "duration": 0,
        "start_time": "2022-04-27T13:39:20.696Z"
      },
      {
        "duration": 0,
        "start_time": "2022-04-27T13:39:20.697Z"
      },
      {
        "duration": 0,
        "start_time": "2022-04-27T13:39:20.698Z"
      },
      {
        "duration": 0,
        "start_time": "2022-04-27T13:39:20.698Z"
      },
      {
        "duration": 0,
        "start_time": "2022-04-27T13:39:20.699Z"
      },
      {
        "duration": 0,
        "start_time": "2022-04-27T13:39:20.701Z"
      },
      {
        "duration": 42162,
        "start_time": "2022-04-27T13:39:24.160Z"
      },
      {
        "duration": 2923,
        "start_time": "2022-04-27T13:58:36.416Z"
      },
      {
        "duration": 6,
        "start_time": "2022-04-27T13:58:48.897Z"
      },
      {
        "duration": 51114,
        "start_time": "2022-04-27T13:59:30.669Z"
      },
      {
        "duration": 7,
        "start_time": "2022-04-27T14:00:21.785Z"
      },
      {
        "duration": 6,
        "start_time": "2022-04-27T14:00:21.794Z"
      },
      {
        "duration": 31812,
        "start_time": "2022-04-27T14:00:21.802Z"
      },
      {
        "duration": 5,
        "start_time": "2022-04-27T14:00:53.616Z"
      },
      {
        "duration": 4,
        "start_time": "2022-04-27T14:00:53.623Z"
      },
      {
        "duration": 19,
        "start_time": "2022-04-27T14:00:53.629Z"
      },
      {
        "duration": 84,
        "start_time": "2022-04-27T14:00:53.649Z"
      },
      {
        "duration": 3,
        "start_time": "2022-04-27T14:00:53.735Z"
      },
      {
        "duration": 8,
        "start_time": "2022-04-27T14:00:53.740Z"
      },
      {
        "duration": 34,
        "start_time": "2022-04-27T14:00:53.750Z"
      },
      {
        "duration": 5,
        "start_time": "2022-04-27T14:00:53.785Z"
      },
      {
        "duration": 5550,
        "start_time": "2022-04-27T14:00:53.791Z"
      },
      {
        "duration": 1364,
        "start_time": "2022-04-27T14:00:59.342Z"
      },
      {
        "duration": 4,
        "start_time": "2022-04-27T14:01:00.708Z"
      },
      {
        "duration": 6,
        "start_time": "2022-04-27T14:02:43.673Z"
      },
      {
        "duration": 4,
        "start_time": "2022-04-27T14:02:55.210Z"
      },
      {
        "duration": 10,
        "start_time": "2022-04-27T14:03:06.377Z"
      },
      {
        "duration": 2702,
        "start_time": "2022-04-27T14:03:45.548Z"
      },
      {
        "duration": 3,
        "start_time": "2022-04-27T14:06:08.221Z"
      },
      {
        "duration": 4038,
        "start_time": "2022-04-27T14:06:36.363Z"
      },
      {
        "duration": 4,
        "start_time": "2022-04-27T14:07:36.792Z"
      },
      {
        "duration": 2495,
        "start_time": "2022-04-27T14:08:42.143Z"
      },
      {
        "duration": 4,
        "start_time": "2022-04-27T14:09:01.419Z"
      },
      {
        "duration": 48141,
        "start_time": "2022-04-27T14:09:29.238Z"
      },
      {
        "duration": 7,
        "start_time": "2022-04-27T14:10:17.381Z"
      },
      {
        "duration": 5,
        "start_time": "2022-04-27T14:10:17.390Z"
      },
      {
        "duration": 30408,
        "start_time": "2022-04-27T14:10:17.397Z"
      },
      {
        "duration": 6,
        "start_time": "2022-04-27T14:10:47.806Z"
      },
      {
        "duration": 5,
        "start_time": "2022-04-27T14:10:47.813Z"
      },
      {
        "duration": 4,
        "start_time": "2022-04-27T14:10:47.819Z"
      },
      {
        "duration": 95,
        "start_time": "2022-04-27T14:10:47.825Z"
      },
      {
        "duration": 4,
        "start_time": "2022-04-27T14:10:47.922Z"
      },
      {
        "duration": 4,
        "start_time": "2022-04-27T14:10:47.928Z"
      },
      {
        "duration": 6,
        "start_time": "2022-04-27T14:11:00.417Z"
      },
      {
        "duration": 13,
        "start_time": "2022-04-27T14:11:01.183Z"
      },
      {
        "duration": 5607,
        "start_time": "2022-04-27T14:11:03.514Z"
      },
      {
        "duration": 1357,
        "start_time": "2022-04-27T14:11:09.123Z"
      },
      {
        "duration": 4,
        "start_time": "2022-04-27T14:11:10.481Z"
      },
      {
        "duration": 11,
        "start_time": "2022-04-27T14:11:47.462Z"
      },
      {
        "duration": 50310,
        "start_time": "2022-04-27T14:11:48.069Z"
      },
      {
        "duration": 75,
        "start_time": "2022-04-27T14:12:38.381Z"
      },
      {
        "duration": 25,
        "start_time": "2022-04-27T14:12:38.461Z"
      },
      {
        "duration": 5,
        "start_time": "2022-04-27T15:14:57.476Z"
      },
      {
        "duration": 11,
        "start_time": "2022-04-27T15:21:30.590Z"
      },
      {
        "duration": 3,
        "start_time": "2022-04-27T15:21:36.161Z"
      },
      {
        "duration": 4,
        "start_time": "2022-04-27T15:26:51.975Z"
      },
      {
        "duration": 3,
        "start_time": "2022-04-27T15:27:14.835Z"
      },
      {
        "duration": 10,
        "start_time": "2022-04-27T15:27:16.356Z"
      },
      {
        "duration": 3,
        "start_time": "2022-04-27T15:27:21.757Z"
      },
      {
        "duration": 3,
        "start_time": "2022-04-27T15:27:24.492Z"
      },
      {
        "duration": 2056,
        "start_time": "2022-04-27T15:31:49.939Z"
      },
      {
        "duration": 3,
        "start_time": "2022-04-27T15:31:51.996Z"
      },
      {
        "duration": 5106,
        "start_time": "2022-04-27T15:31:52.000Z"
      },
      {
        "duration": 16,
        "start_time": "2022-04-27T15:31:57.108Z"
      },
      {
        "duration": 32,
        "start_time": "2022-04-27T15:31:57.125Z"
      },
      {
        "duration": 8,
        "start_time": "2022-04-27T15:31:57.158Z"
      },
      {
        "duration": 6,
        "start_time": "2022-04-27T15:31:57.168Z"
      },
      {
        "duration": 2351,
        "start_time": "2022-04-27T15:31:57.176Z"
      },
      {
        "duration": 4,
        "start_time": "2022-04-27T15:31:59.529Z"
      },
      {
        "duration": 5,
        "start_time": "2022-04-27T15:33:21.550Z"
      },
      {
        "duration": 10,
        "start_time": "2022-04-27T15:33:21.557Z"
      },
      {
        "duration": 5,
        "start_time": "2022-04-27T15:33:21.569Z"
      },
      {
        "duration": 4,
        "start_time": "2022-04-27T15:33:21.575Z"
      },
      {
        "duration": 4,
        "start_time": "2022-04-27T15:33:21.580Z"
      },
      {
        "duration": 31654,
        "start_time": "2022-04-27T15:33:21.585Z"
      },
      {
        "duration": 10,
        "start_time": "2022-04-27T15:33:53.241Z"
      },
      {
        "duration": 14,
        "start_time": "2022-04-27T15:33:53.253Z"
      },
      {
        "duration": 11,
        "start_time": "2022-04-27T15:33:53.268Z"
      },
      {
        "duration": 1573,
        "start_time": "2022-04-27T15:36:38.225Z"
      },
      {
        "duration": 3,
        "start_time": "2022-04-27T15:36:39.799Z"
      },
      {
        "duration": 807,
        "start_time": "2022-04-27T15:36:39.804Z"
      },
      {
        "duration": 16,
        "start_time": "2022-04-27T15:36:40.613Z"
      },
      {
        "duration": 47,
        "start_time": "2022-04-27T15:36:40.631Z"
      },
      {
        "duration": 9,
        "start_time": "2022-04-27T15:36:40.680Z"
      },
      {
        "duration": 3,
        "start_time": "2022-04-27T15:36:40.691Z"
      },
      {
        "duration": 2637,
        "start_time": "2022-04-27T15:36:40.696Z"
      },
      {
        "duration": 3,
        "start_time": "2022-04-27T15:36:43.335Z"
      },
      {
        "duration": 3859,
        "start_time": "2022-04-27T15:36:43.350Z"
      },
      {
        "duration": 3,
        "start_time": "2022-04-27T15:36:47.211Z"
      },
      {
        "duration": 2422,
        "start_time": "2022-04-27T15:36:47.215Z"
      },
      {
        "duration": 3,
        "start_time": "2022-04-27T15:36:49.639Z"
      },
      {
        "duration": 45673,
        "start_time": "2022-04-27T15:36:49.647Z"
      },
      {
        "duration": 6,
        "start_time": "2022-04-27T15:37:35.322Z"
      },
      {
        "duration": 10,
        "start_time": "2022-04-27T15:37:35.330Z"
      },
      {
        "duration": 49130,
        "start_time": "2022-04-27T15:37:35.348Z"
      },
      {
        "duration": 6,
        "start_time": "2022-04-27T15:38:24.480Z"
      },
      {
        "duration": 6,
        "start_time": "2022-04-27T15:38:24.488Z"
      },
      {
        "duration": 5,
        "start_time": "2022-04-27T15:38:24.496Z"
      },
      {
        "duration": 120,
        "start_time": "2022-04-27T15:38:24.503Z"
      },
      {
        "duration": 5,
        "start_time": "2022-04-27T15:38:24.625Z"
      },
      {
        "duration": 6,
        "start_time": "2022-04-27T15:38:24.632Z"
      },
      {
        "duration": 4,
        "start_time": "2022-04-27T15:38:24.648Z"
      },
      {
        "duration": 4,
        "start_time": "2022-04-27T15:38:24.653Z"
      },
      {
        "duration": 8530,
        "start_time": "2022-04-27T15:38:24.659Z"
      },
      {
        "duration": 2039,
        "start_time": "2022-04-27T15:38:33.191Z"
      },
      {
        "duration": 4,
        "start_time": "2022-04-27T15:38:35.234Z"
      },
      {
        "duration": 3,
        "start_time": "2022-04-27T15:38:35.248Z"
      },
      {
        "duration": 3,
        "start_time": "2022-04-27T15:39:57.134Z"
      },
      {
        "duration": 3,
        "start_time": "2022-04-27T15:39:58.594Z"
      },
      {
        "duration": 2,
        "start_time": "2022-04-27T15:40:02.657Z"
      },
      {
        "duration": 69377,
        "start_time": "2022-04-27T15:40:05.172Z"
      },
      {
        "duration": 4,
        "start_time": "2022-04-27T15:41:48.762Z"
      },
      {
        "duration": 7,
        "start_time": "2022-04-27T15:43:04.588Z"
      },
      {
        "duration": 13,
        "start_time": "2022-04-27T15:43:05.514Z"
      },
      {
        "duration": 110,
        "start_time": "2022-04-27T15:44:26.268Z"
      },
      {
        "duration": 4,
        "start_time": "2022-04-27T15:44:54.176Z"
      },
      {
        "duration": 3,
        "start_time": "2022-04-27T15:45:51.974Z"
      },
      {
        "duration": 2,
        "start_time": "2022-04-27T15:45:53.491Z"
      },
      {
        "duration": 577877,
        "start_time": "2022-04-27T15:46:01.572Z"
      },
      {
        "duration": 4,
        "start_time": "2022-04-27T16:00:19.968Z"
      },
      {
        "duration": 4,
        "start_time": "2022-04-27T16:00:22.206Z"
      },
      {
        "duration": 6,
        "start_time": "2022-04-27T16:00:26.863Z"
      },
      {
        "duration": 12,
        "start_time": "2022-04-27T16:00:27.747Z"
      },
      {
        "duration": 10,
        "start_time": "2022-04-27T16:00:54.845Z"
      },
      {
        "duration": 4,
        "start_time": "2022-04-27T16:01:17.789Z"
      },
      {
        "duration": 218625,
        "start_time": "2022-04-27T16:01:39.431Z"
      },
      {
        "duration": 90,
        "start_time": "2022-04-27T16:05:18.058Z"
      },
      {
        "duration": 3,
        "start_time": "2022-04-27T16:05:18.150Z"
      },
      {
        "duration": 8,
        "start_time": "2022-04-27T16:05:18.154Z"
      },
      {
        "duration": 3,
        "start_time": "2022-04-27T16:10:39.384Z"
      },
      {
        "duration": 851276,
        "start_time": "2022-04-27T16:10:41.276Z"
      },
      {
        "duration": 94,
        "start_time": "2022-04-27T16:24:52.555Z"
      },
      {
        "duration": 6,
        "start_time": "2022-04-27T16:24:52.651Z"
      },
      {
        "duration": 6,
        "start_time": "2022-04-27T16:24:52.659Z"
      },
      {
        "duration": 2,
        "start_time": "2022-04-27T16:25:47.838Z"
      },
      {
        "duration": 208030,
        "start_time": "2022-04-27T16:25:51.222Z"
      },
      {
        "duration": 3,
        "start_time": "2022-04-27T16:32:52.952Z"
      },
      {
        "duration": 73,
        "start_time": "2022-04-27T16:32:53.871Z"
      },
      {
        "duration": 2,
        "start_time": "2022-04-27T16:33:01.677Z"
      },
      {
        "duration": 16,
        "start_time": "2022-04-27T16:33:05.562Z"
      },
      {
        "duration": 2,
        "start_time": "2022-04-27T16:33:33.020Z"
      },
      {
        "duration": 2,
        "start_time": "2022-04-27T16:33:37.604Z"
      },
      {
        "duration": 1288,
        "start_time": "2022-04-27T16:33:43.985Z"
      },
      {
        "duration": 1400,
        "start_time": "2022-04-27T16:34:51.492Z"
      },
      {
        "duration": 3,
        "start_time": "2022-04-27T16:34:52.893Z"
      },
      {
        "duration": 784,
        "start_time": "2022-04-27T16:34:52.898Z"
      },
      {
        "duration": 15,
        "start_time": "2022-04-27T16:34:53.684Z"
      },
      {
        "duration": 46,
        "start_time": "2022-04-27T16:34:53.701Z"
      },
      {
        "duration": 7,
        "start_time": "2022-04-27T16:34:53.749Z"
      },
      {
        "duration": 3,
        "start_time": "2022-04-27T16:34:53.758Z"
      },
      {
        "duration": 2356,
        "start_time": "2022-04-27T16:34:53.763Z"
      },
      {
        "duration": 4,
        "start_time": "2022-04-27T16:34:56.121Z"
      },
      {
        "duration": 3471,
        "start_time": "2022-04-27T16:34:56.128Z"
      },
      {
        "duration": 3,
        "start_time": "2022-04-27T16:34:59.601Z"
      },
      {
        "duration": 2045,
        "start_time": "2022-04-27T16:34:59.606Z"
      },
      {
        "duration": 4,
        "start_time": "2022-04-27T16:35:01.653Z"
      },
      {
        "duration": 41104,
        "start_time": "2022-04-27T16:35:01.658Z"
      },
      {
        "duration": 7,
        "start_time": "2022-04-27T16:35:42.764Z"
      },
      {
        "duration": 4,
        "start_time": "2022-04-27T16:35:42.772Z"
      },
      {
        "duration": 27724,
        "start_time": "2022-04-27T16:35:42.777Z"
      },
      {
        "duration": 5,
        "start_time": "2022-04-27T16:36:10.503Z"
      },
      {
        "duration": 6,
        "start_time": "2022-04-27T16:36:10.510Z"
      },
      {
        "duration": 4,
        "start_time": "2022-04-27T16:36:10.518Z"
      },
      {
        "duration": 79,
        "start_time": "2022-04-27T16:36:10.524Z"
      },
      {
        "duration": 4,
        "start_time": "2022-04-27T16:36:10.605Z"
      },
      {
        "duration": 9,
        "start_time": "2022-04-27T16:36:10.610Z"
      },
      {
        "duration": 7,
        "start_time": "2022-04-27T16:36:10.621Z"
      },
      {
        "duration": 14,
        "start_time": "2022-04-27T16:36:10.629Z"
      },
      {
        "duration": 4861,
        "start_time": "2022-04-27T16:36:10.647Z"
      },
      {
        "duration": 1189,
        "start_time": "2022-04-27T16:36:15.509Z"
      },
      {
        "duration": 4,
        "start_time": "2022-04-27T16:36:16.703Z"
      },
      {
        "duration": 4,
        "start_time": "2022-04-27T16:36:16.709Z"
      },
      {
        "duration": 5,
        "start_time": "2022-04-27T16:36:16.715Z"
      },
      {
        "duration": 27,
        "start_time": "2022-04-27T16:36:16.721Z"
      },
      {
        "duration": 206002,
        "start_time": "2022-04-27T16:36:16.750Z"
      },
      {
        "duration": 4,
        "start_time": "2022-04-27T16:39:42.754Z"
      },
      {
        "duration": 6,
        "start_time": "2022-04-27T16:39:42.759Z"
      },
      {
        "duration": 4,
        "start_time": "2022-04-27T16:39:42.767Z"
      },
      {
        "duration": 4,
        "start_time": "2022-04-27T16:39:42.772Z"
      },
      {
        "duration": 838170,
        "start_time": "2022-04-27T16:39:42.778Z"
      },
      {
        "duration": 4,
        "start_time": "2022-04-27T16:53:40.949Z"
      },
      {
        "duration": 6,
        "start_time": "2022-04-27T16:53:40.954Z"
      },
      {
        "duration": 13,
        "start_time": "2022-04-27T16:53:40.961Z"
      },
      {
        "duration": 12,
        "start_time": "2022-04-27T16:53:40.976Z"
      },
      {
        "duration": 518559,
        "start_time": "2022-04-27T16:53:40.990Z"
      },
      {
        "duration": 2083638,
        "start_time": "2022-04-27T17:02:19.550Z"
      },
      {
        "duration": 3,
        "start_time": "2022-04-27T17:37:03.189Z"
      },
      {
        "duration": 196701,
        "start_time": "2022-04-27T17:37:03.194Z"
      },
      {
        "duration": 261,
        "start_time": "2022-04-27T17:40:19.897Z"
      },
      {
        "duration": 11,
        "start_time": "2022-04-27T17:40:20.159Z"
      },
      {
        "duration": 2,
        "start_time": "2022-04-27T17:40:20.172Z"
      },
      {
        "duration": 207295,
        "start_time": "2022-04-27T17:40:20.176Z"
      },
      {
        "duration": 2485,
        "start_time": "2022-04-27T17:43:47.472Z"
      },
      {
        "duration": 12,
        "start_time": "2022-04-27T17:43:49.959Z"
      },
      {
        "duration": 2,
        "start_time": "2022-04-27T17:43:49.973Z"
      },
      {
        "duration": 1585,
        "start_time": "2022-04-28T02:33:54.347Z"
      },
      {
        "duration": 3,
        "start_time": "2022-04-28T02:33:55.934Z"
      },
      {
        "duration": 781,
        "start_time": "2022-04-28T02:33:55.938Z"
      },
      {
        "duration": 14,
        "start_time": "2022-04-28T02:33:56.720Z"
      },
      {
        "duration": 31,
        "start_time": "2022-04-28T02:33:56.746Z"
      },
      {
        "duration": 6,
        "start_time": "2022-04-28T02:33:56.779Z"
      },
      {
        "duration": 3,
        "start_time": "2022-04-28T02:33:56.787Z"
      },
      {
        "duration": 2292,
        "start_time": "2022-04-28T02:33:56.791Z"
      },
      {
        "duration": 3,
        "start_time": "2022-04-28T02:33:59.085Z"
      },
      {
        "duration": 3466,
        "start_time": "2022-04-28T02:33:59.089Z"
      },
      {
        "duration": 4,
        "start_time": "2022-04-28T02:34:02.557Z"
      },
      {
        "duration": 2001,
        "start_time": "2022-04-28T02:34:02.562Z"
      },
      {
        "duration": 3,
        "start_time": "2022-04-28T02:34:04.565Z"
      },
      {
        "duration": 40235,
        "start_time": "2022-04-28T02:34:04.571Z"
      },
      {
        "duration": 7,
        "start_time": "2022-04-28T02:34:44.808Z"
      },
      {
        "duration": 10,
        "start_time": "2022-04-28T02:34:44.816Z"
      },
      {
        "duration": 27729,
        "start_time": "2022-04-28T02:34:44.828Z"
      },
      {
        "duration": 5,
        "start_time": "2022-04-28T02:35:12.559Z"
      },
      {
        "duration": 6,
        "start_time": "2022-04-28T02:35:12.565Z"
      },
      {
        "duration": 5,
        "start_time": "2022-04-28T02:35:12.573Z"
      },
      {
        "duration": 73,
        "start_time": "2022-04-28T02:35:12.579Z"
      },
      {
        "duration": 4,
        "start_time": "2022-04-28T02:35:12.654Z"
      },
      {
        "duration": 6,
        "start_time": "2022-04-28T02:35:12.659Z"
      },
      {
        "duration": 18,
        "start_time": "2022-04-28T02:35:12.666Z"
      },
      {
        "duration": 6,
        "start_time": "2022-04-28T02:35:12.686Z"
      },
      {
        "duration": 4754,
        "start_time": "2022-04-28T02:35:12.693Z"
      },
      {
        "duration": 1172,
        "start_time": "2022-04-28T02:35:17.449Z"
      },
      {
        "duration": 3,
        "start_time": "2022-04-28T02:35:18.623Z"
      },
      {
        "duration": 5,
        "start_time": "2022-04-28T02:35:18.628Z"
      },
      {
        "duration": 4,
        "start_time": "2022-04-28T02:35:18.634Z"
      },
      {
        "duration": 6,
        "start_time": "2022-04-28T02:35:18.648Z"
      },
      {
        "duration": 3,
        "start_time": "2022-04-28T02:35:18.655Z"
      },
      {
        "duration": 3,
        "start_time": "2022-04-28T02:35:18.660Z"
      },
      {
        "duration": 4,
        "start_time": "2022-04-28T02:35:18.664Z"
      },
      {
        "duration": 813880,
        "start_time": "2022-04-28T02:35:18.669Z"
      },
      {
        "duration": 5,
        "start_time": "2022-04-28T02:48:52.552Z"
      },
      {
        "duration": 3,
        "start_time": "2022-04-28T02:48:52.648Z"
      },
      {
        "duration": 8,
        "start_time": "2022-04-28T02:48:52.652Z"
      },
      {
        "duration": 2549655,
        "start_time": "2022-04-28T04:12:08.473Z"
      },
      {
        "duration": 4,
        "start_time": "2022-04-28T04:54:38.129Z"
      },
      {
        "duration": 4,
        "start_time": "2022-04-28T04:54:48.283Z"
      },
      {
        "duration": 2,
        "start_time": "2022-04-28T04:54:55.645Z"
      },
      {
        "duration": 31405,
        "start_time": "2022-04-28T04:55:14.233Z"
      },
      {
        "duration": 1570841,
        "start_time": "2022-04-28T04:55:52.059Z"
      },
      {
        "duration": 20570,
        "start_time": "2022-04-28T05:27:29.225Z"
      },
      {
        "duration": 37344,
        "start_time": "2022-04-28T05:28:10.493Z"
      },
      {
        "duration": 601149,
        "start_time": "2022-04-28T05:28:56.712Z"
      },
      {
        "duration": 719790,
        "start_time": "2022-04-28T05:41:22.748Z"
      },
      {
        "duration": 3,
        "start_time": "2022-04-28T06:09:20.830Z"
      },
      {
        "duration": 4,
        "start_time": "2022-04-28T06:09:23.503Z"
      },
      {
        "duration": 7,
        "start_time": "2022-04-28T06:09:24.175Z"
      },
      {
        "duration": 3,
        "start_time": "2022-04-28T06:09:31.018Z"
      },
      {
        "duration": 1180077,
        "start_time": "2022-04-28T06:09:32.097Z"
      },
      {
        "duration": 4,
        "start_time": "2022-04-28T06:50:35.550Z"
      },
      {
        "duration": 1188188,
        "start_time": "2022-04-28T06:51:20.070Z"
      },
      {
        "duration": 5,
        "start_time": "2022-04-28T07:12:12.829Z"
      },
      {
        "duration": 2,
        "start_time": "2022-04-28T07:12:20.895Z"
      },
      {
        "duration": 4,
        "start_time": "2022-04-28T07:13:09.029Z"
      },
      {
        "duration": 8,
        "start_time": "2022-04-28T07:13:09.665Z"
      },
      {
        "duration": 2,
        "start_time": "2022-04-28T07:25:11.548Z"
      },
      {
        "duration": 2934210,
        "start_time": "2022-04-28T07:25:23.656Z"
      },
      {
        "duration": 4,
        "start_time": "2022-04-28T08:15:26.366Z"
      },
      {
        "duration": 2,
        "start_time": "2022-04-28T08:15:28.280Z"
      },
      {
        "duration": 4,
        "start_time": "2022-04-28T08:15:33.260Z"
      },
      {
        "duration": 7,
        "start_time": "2022-04-28T08:15:34.189Z"
      },
      {
        "duration": 4,
        "start_time": "2022-04-28T08:16:12.245Z"
      },
      {
        "duration": 5,
        "start_time": "2022-04-28T08:23:40.187Z"
      },
      {
        "duration": 11,
        "start_time": "2022-04-28T08:23:41.092Z"
      },
      {
        "duration": 2,
        "start_time": "2022-04-28T08:24:18.351Z"
      },
      {
        "duration": 12,
        "start_time": "2022-04-28T08:24:37.692Z"
      },
      {
        "duration": 2179,
        "start_time": "2022-04-28T08:28:24.358Z"
      },
      {
        "duration": 1128,
        "start_time": "2022-04-28T08:28:26.539Z"
      },
      {
        "duration": 19,
        "start_time": "2022-04-28T08:28:27.669Z"
      },
      {
        "duration": 58,
        "start_time": "2022-04-28T08:28:27.690Z"
      },
      {
        "duration": 294,
        "start_time": "2022-04-28T08:28:27.750Z"
      },
      {
        "duration": 11,
        "start_time": "2022-04-28T08:28:28.047Z"
      },
      {
        "duration": 4,
        "start_time": "2022-04-28T08:28:28.060Z"
      },
      {
        "duration": 4206,
        "start_time": "2022-04-28T08:28:28.066Z"
      },
      {
        "duration": 4,
        "start_time": "2022-04-28T08:28:32.274Z"
      },
      {
        "duration": 6335,
        "start_time": "2022-04-28T08:28:32.281Z"
      },
      {
        "duration": 5,
        "start_time": "2022-04-28T08:28:38.618Z"
      },
      {
        "duration": 3729,
        "start_time": "2022-04-28T08:28:38.625Z"
      },
      {
        "duration": 5,
        "start_time": "2022-04-28T08:28:42.356Z"
      },
      {
        "duration": 76817,
        "start_time": "2022-04-28T08:28:42.363Z"
      },
      {
        "duration": 10,
        "start_time": "2022-04-28T08:29:59.182Z"
      },
      {
        "duration": 4,
        "start_time": "2022-04-28T08:29:59.193Z"
      },
      {
        "duration": 38966,
        "start_time": "2022-04-28T08:29:59.199Z"
      },
      {
        "duration": 6,
        "start_time": "2022-04-28T08:30:38.167Z"
      },
      {
        "duration": 6,
        "start_time": "2022-04-28T08:30:38.175Z"
      },
      {
        "duration": 7,
        "start_time": "2022-04-28T08:30:38.183Z"
      },
      {
        "duration": 125,
        "start_time": "2022-04-28T08:30:38.192Z"
      },
      {
        "duration": 5,
        "start_time": "2022-04-28T08:30:38.319Z"
      },
      {
        "duration": 6,
        "start_time": "2022-04-28T08:30:38.326Z"
      },
      {
        "duration": 22,
        "start_time": "2022-04-28T08:30:38.334Z"
      },
      {
        "duration": 3,
        "start_time": "2022-04-28T08:30:38.358Z"
      },
      {
        "duration": 8785,
        "start_time": "2022-04-28T08:30:38.363Z"
      },
      {
        "duration": 2100,
        "start_time": "2022-04-28T08:30:47.150Z"
      },
      {
        "duration": 4,
        "start_time": "2022-04-28T08:30:49.255Z"
      },
      {
        "duration": 5,
        "start_time": "2022-04-28T08:30:49.261Z"
      },
      {
        "duration": 4,
        "start_time": "2022-04-28T08:30:49.268Z"
      },
      {
        "duration": 4,
        "start_time": "2022-04-28T08:30:49.274Z"
      },
      {
        "duration": 3,
        "start_time": "2022-04-28T08:30:49.280Z"
      },
      {
        "duration": 5,
        "start_time": "2022-04-28T08:30:49.285Z"
      },
      {
        "duration": 3,
        "start_time": "2022-04-28T08:30:49.292Z"
      },
      {
        "duration": 1538,
        "start_time": "2022-04-28T08:34:38.889Z"
      },
      {
        "duration": 3,
        "start_time": "2022-04-28T08:34:40.429Z"
      },
      {
        "duration": 1149,
        "start_time": "2022-04-28T08:34:40.433Z"
      },
      {
        "duration": 17,
        "start_time": "2022-04-28T08:34:41.584Z"
      },
      {
        "duration": 51,
        "start_time": "2022-04-28T08:34:41.603Z"
      },
      {
        "duration": 306,
        "start_time": "2022-04-28T08:34:41.656Z"
      },
      {
        "duration": 10,
        "start_time": "2022-04-28T08:34:41.964Z"
      },
      {
        "duration": 189,
        "start_time": "2022-04-28T08:34:41.976Z"
      },
      {
        "duration": 0,
        "start_time": "2022-04-28T08:34:42.168Z"
      },
      {
        "duration": 0,
        "start_time": "2022-04-28T08:34:42.170Z"
      },
      {
        "duration": 0,
        "start_time": "2022-04-28T08:34:42.171Z"
      },
      {
        "duration": 0,
        "start_time": "2022-04-28T08:34:42.172Z"
      },
      {
        "duration": 0,
        "start_time": "2022-04-28T08:34:42.174Z"
      },
      {
        "duration": 0,
        "start_time": "2022-04-28T08:34:42.175Z"
      },
      {
        "duration": 0,
        "start_time": "2022-04-28T08:34:42.177Z"
      },
      {
        "duration": 0,
        "start_time": "2022-04-28T08:34:42.178Z"
      },
      {
        "duration": 0,
        "start_time": "2022-04-28T08:34:42.179Z"
      },
      {
        "duration": 0,
        "start_time": "2022-04-28T08:34:42.181Z"
      },
      {
        "duration": 0,
        "start_time": "2022-04-28T08:34:42.182Z"
      },
      {
        "duration": 0,
        "start_time": "2022-04-28T08:34:42.184Z"
      },
      {
        "duration": 0,
        "start_time": "2022-04-28T08:34:42.185Z"
      },
      {
        "duration": 0,
        "start_time": "2022-04-28T08:34:42.186Z"
      },
      {
        "duration": 0,
        "start_time": "2022-04-28T08:34:42.188Z"
      },
      {
        "duration": 0,
        "start_time": "2022-04-28T08:34:42.189Z"
      },
      {
        "duration": 0,
        "start_time": "2022-04-28T08:34:42.191Z"
      },
      {
        "duration": 0,
        "start_time": "2022-04-28T08:34:42.192Z"
      },
      {
        "duration": 0,
        "start_time": "2022-04-28T08:34:42.193Z"
      },
      {
        "duration": 0,
        "start_time": "2022-04-28T08:34:42.195Z"
      },
      {
        "duration": 0,
        "start_time": "2022-04-28T08:34:42.196Z"
      },
      {
        "duration": 0,
        "start_time": "2022-04-28T08:34:42.197Z"
      },
      {
        "duration": 0,
        "start_time": "2022-04-28T08:34:42.199Z"
      },
      {
        "duration": 0,
        "start_time": "2022-04-28T08:34:42.200Z"
      },
      {
        "duration": 0,
        "start_time": "2022-04-28T08:34:42.248Z"
      },
      {
        "duration": 0,
        "start_time": "2022-04-28T08:34:42.249Z"
      },
      {
        "duration": 0,
        "start_time": "2022-04-28T08:34:42.250Z"
      },
      {
        "duration": 0,
        "start_time": "2022-04-28T08:34:42.252Z"
      },
      {
        "duration": 0,
        "start_time": "2022-04-28T08:34:42.253Z"
      },
      {
        "duration": 0,
        "start_time": "2022-04-28T08:34:42.255Z"
      },
      {
        "duration": 0,
        "start_time": "2022-04-28T08:34:42.256Z"
      },
      {
        "duration": 0,
        "start_time": "2022-04-28T08:34:42.257Z"
      },
      {
        "duration": 0,
        "start_time": "2022-04-28T08:34:42.258Z"
      },
      {
        "duration": 0,
        "start_time": "2022-04-28T08:34:42.259Z"
      },
      {
        "duration": 0,
        "start_time": "2022-04-28T08:34:42.261Z"
      },
      {
        "duration": 0,
        "start_time": "2022-04-28T08:34:42.262Z"
      },
      {
        "duration": 0,
        "start_time": "2022-04-28T08:34:42.263Z"
      },
      {
        "duration": 0,
        "start_time": "2022-04-28T08:34:42.264Z"
      },
      {
        "duration": 0,
        "start_time": "2022-04-28T08:34:42.266Z"
      },
      {
        "duration": 0,
        "start_time": "2022-04-28T08:34:42.267Z"
      },
      {
        "duration": 0,
        "start_time": "2022-04-28T08:34:42.268Z"
      },
      {
        "duration": 0,
        "start_time": "2022-04-28T08:34:42.269Z"
      },
      {
        "duration": 0,
        "start_time": "2022-04-28T08:34:42.271Z"
      },
      {
        "duration": 0,
        "start_time": "2022-04-28T08:34:42.272Z"
      },
      {
        "duration": 0,
        "start_time": "2022-04-28T08:34:42.273Z"
      },
      {
        "duration": 0,
        "start_time": "2022-04-28T08:34:42.274Z"
      },
      {
        "duration": 0,
        "start_time": "2022-04-28T08:34:42.275Z"
      },
      {
        "duration": 0,
        "start_time": "2022-04-28T08:34:42.276Z"
      },
      {
        "duration": 0,
        "start_time": "2022-04-28T08:34:42.278Z"
      },
      {
        "duration": 0,
        "start_time": "2022-04-28T08:34:42.279Z"
      },
      {
        "duration": 4,
        "start_time": "2022-04-28T08:37:23.368Z"
      },
      {
        "duration": 2319,
        "start_time": "2022-04-28T08:37:26.828Z"
      },
      {
        "duration": 4,
        "start_time": "2022-04-28T08:37:30.313Z"
      },
      {
        "duration": 1981,
        "start_time": "2022-04-28T08:37:46.429Z"
      },
      {
        "duration": 3,
        "start_time": "2022-04-28T08:37:48.413Z"
      },
      {
        "duration": 1081,
        "start_time": "2022-04-28T08:37:48.418Z"
      },
      {
        "duration": 12,
        "start_time": "2022-04-28T08:37:49.501Z"
      },
      {
        "duration": 53,
        "start_time": "2022-04-28T08:37:49.514Z"
      },
      {
        "duration": 301,
        "start_time": "2022-04-28T08:37:49.569Z"
      },
      {
        "duration": 11,
        "start_time": "2022-04-28T08:37:49.872Z"
      },
      {
        "duration": 4,
        "start_time": "2022-04-28T08:37:49.886Z"
      },
      {
        "duration": 4302,
        "start_time": "2022-04-28T08:37:49.892Z"
      },
      {
        "duration": 4,
        "start_time": "2022-04-28T08:37:54.198Z"
      },
      {
        "duration": 4279,
        "start_time": "2022-04-28T08:37:54.203Z"
      },
      {
        "duration": 4,
        "start_time": "2022-04-28T08:37:58.484Z"
      },
      {
        "duration": 2027,
        "start_time": "2022-04-28T08:37:58.489Z"
      },
      {
        "duration": 4,
        "start_time": "2022-04-28T08:38:00.517Z"
      },
      {
        "duration": 42277,
        "start_time": "2022-04-28T08:38:00.523Z"
      },
      {
        "duration": 8,
        "start_time": "2022-04-28T08:38:42.802Z"
      },
      {
        "duration": 5,
        "start_time": "2022-04-28T08:38:42.812Z"
      },
      {
        "duration": 28729,
        "start_time": "2022-04-28T08:38:42.819Z"
      },
      {
        "duration": 5,
        "start_time": "2022-04-28T08:39:11.550Z"
      },
      {
        "duration": 4,
        "start_time": "2022-04-28T08:39:11.557Z"
      },
      {
        "duration": 6,
        "start_time": "2022-04-28T08:39:11.562Z"
      },
      {
        "duration": 83,
        "start_time": "2022-04-28T08:39:11.569Z"
      },
      {
        "duration": 4,
        "start_time": "2022-04-28T08:39:11.654Z"
      },
      {
        "duration": 7,
        "start_time": "2022-04-28T08:39:11.659Z"
      },
      {
        "duration": 12,
        "start_time": "2022-04-28T08:39:11.667Z"
      },
      {
        "duration": 9,
        "start_time": "2022-04-28T08:39:11.680Z"
      },
      {
        "duration": 4782,
        "start_time": "2022-04-28T08:39:11.690Z"
      },
      {
        "duration": 1392,
        "start_time": "2022-04-28T08:39:16.477Z"
      },
      {
        "duration": 4,
        "start_time": "2022-04-28T08:39:17.870Z"
      },
      {
        "duration": 4,
        "start_time": "2022-04-28T08:39:17.875Z"
      },
      {
        "duration": 4,
        "start_time": "2022-04-28T08:39:17.881Z"
      },
      {
        "duration": 4,
        "start_time": "2022-04-28T08:39:17.886Z"
      },
      {
        "duration": 4,
        "start_time": "2022-04-28T08:39:17.892Z"
      },
      {
        "duration": 4,
        "start_time": "2022-04-28T08:39:17.897Z"
      },
      {
        "duration": 4,
        "start_time": "2022-04-28T08:39:17.903Z"
      },
      {
        "duration": 926339,
        "start_time": "2022-04-28T08:39:17.908Z"
      },
      {
        "duration": 4,
        "start_time": "2022-04-28T08:54:44.249Z"
      },
      {
        "duration": 5,
        "start_time": "2022-04-28T08:54:44.254Z"
      },
      {
        "duration": 3,
        "start_time": "2022-04-28T08:54:44.260Z"
      },
      {
        "duration": 2709854,
        "start_time": "2022-04-28T08:54:44.265Z"
      },
      {
        "duration": 3,
        "start_time": "2022-04-28T09:39:54.121Z"
      },
      {
        "duration": 747607,
        "start_time": "2022-04-28T09:39:54.126Z"
      },
      {
        "duration": 12,
        "start_time": "2022-04-28T09:52:21.735Z"
      },
      {
        "duration": 5,
        "start_time": "2022-04-28T09:52:21.749Z"
      },
      {
        "duration": 840301,
        "start_time": "2022-04-28T09:52:21.755Z"
      },
      {
        "duration": 4,
        "start_time": "2022-04-28T10:06:22.058Z"
      },
      {
        "duration": 4,
        "start_time": "2022-04-28T10:06:22.063Z"
      },
      {
        "duration": 4,
        "start_time": "2022-04-28T10:06:22.068Z"
      },
      {
        "duration": 778236,
        "start_time": "2022-04-28T10:06:22.074Z"
      },
      {
        "duration": 4,
        "start_time": "2022-04-28T10:19:20.347Z"
      },
      {
        "duration": 7,
        "start_time": "2022-04-28T10:19:20.352Z"
      },
      {
        "duration": 6,
        "start_time": "2022-04-28T10:19:20.361Z"
      },
      {
        "duration": 10,
        "start_time": "2022-04-28T10:19:20.369Z"
      },
      {
        "duration": 4,
        "start_time": "2022-04-28T10:19:20.380Z"
      },
      {
        "duration": 6,
        "start_time": "2022-04-28T10:19:20.386Z"
      },
      {
        "duration": 7,
        "start_time": "2022-04-28T10:19:20.393Z"
      },
      {
        "duration": 11,
        "start_time": "2022-04-28T10:19:20.402Z"
      },
      {
        "duration": 39,
        "start_time": "2022-04-28T10:19:20.414Z"
      },
      {
        "duration": 4,
        "start_time": "2022-04-28T10:20:11.444Z"
      },
      {
        "duration": 7,
        "start_time": "2022-04-28T10:20:12.229Z"
      },
      {
        "duration": 5,
        "start_time": "2022-04-28T10:20:37.844Z"
      }
    ],
    "kernelspec": {
      "display_name": "Python 3 (ipykernel)",
      "language": "python",
      "name": "python3"
    },
    "language_info": {
      "codemirror_mode": {
        "name": "ipython",
        "version": 3
      },
      "file_extension": ".py",
      "mimetype": "text/x-python",
      "name": "python",
      "nbconvert_exporter": "python",
      "pygments_lexer": "ipython3",
      "version": "3.9.5"
    },
    "toc": {
      "base_numbering": 1,
      "nav_menu": {},
      "number_sections": true,
      "sideBar": true,
      "skip_h1_title": true,
      "title_cell": "Содержание",
      "title_sidebar": "Contents",
      "toc_cell": true,
      "toc_position": {
        "height": "calc(100% - 180px)",
        "left": "10px",
        "top": "150px",
        "width": "302.391px"
      },
      "toc_section_display": true,
      "toc_window_display": false
    },
    "colab": {
      "name": "project_YP_base.ipynb",
      "provenance": [],
      "collapsed_sections": []
    },
    "accelerator": "GPU",
    "widgets": {
      "application/vnd.jupyter.widget-state+json": {
        "cd18211f5b8b446894d6ad0234f23e29": {
          "model_module": "@jupyter-widgets/controls",
          "model_name": "HBoxModel",
          "model_module_version": "1.5.0",
          "state": {
            "_dom_classes": [],
            "_model_module": "@jupyter-widgets/controls",
            "_model_module_version": "1.5.0",
            "_model_name": "HBoxModel",
            "_view_count": null,
            "_view_module": "@jupyter-widgets/controls",
            "_view_module_version": "1.5.0",
            "_view_name": "HBoxView",
            "box_style": "",
            "children": [
              "IPY_MODEL_932a935522074eefb907ccd7f9ebed75",
              "IPY_MODEL_05f19019ee4d405abd8bc3d560fbc85f",
              "IPY_MODEL_4cc34d53d0374212996da75f346585a7"
            ],
            "layout": "IPY_MODEL_2cb70efeaf79439c8982d5b740ba3d2c"
          }
        },
        "932a935522074eefb907ccd7f9ebed75": {
          "model_module": "@jupyter-widgets/controls",
          "model_name": "HTMLModel",
          "model_module_version": "1.5.0",
          "state": {
            "_dom_classes": [],
            "_model_module": "@jupyter-widgets/controls",
            "_model_module_version": "1.5.0",
            "_model_name": "HTMLModel",
            "_view_count": null,
            "_view_module": "@jupyter-widgets/controls",
            "_view_module_version": "1.5.0",
            "_view_name": "HTMLView",
            "description": "",
            "description_tooltip": null,
            "layout": "IPY_MODEL_9d92f93c7ba3410d9719fc1939410f17",
            "placeholder": "​",
            "style": "IPY_MODEL_de48ee81d1aa4c02bd0534b843f1d060",
            "value": "100%"
          }
        },
        "05f19019ee4d405abd8bc3d560fbc85f": {
          "model_module": "@jupyter-widgets/controls",
          "model_name": "FloatProgressModel",
          "model_module_version": "1.5.0",
          "state": {
            "_dom_classes": [],
            "_model_module": "@jupyter-widgets/controls",
            "_model_module_version": "1.5.0",
            "_model_name": "FloatProgressModel",
            "_view_count": null,
            "_view_module": "@jupyter-widgets/controls",
            "_view_module_version": "1.5.0",
            "_view_name": "ProgressView",
            "bar_style": "success",
            "description": "",
            "description_tooltip": null,
            "layout": "IPY_MODEL_32f7b416820a46d9b8611d3e8829c1e1",
            "max": 20,
            "min": 0,
            "orientation": "horizontal",
            "style": "IPY_MODEL_c9fac754861b4297b23c262efe7a1a04",
            "value": 20
          }
        },
        "4cc34d53d0374212996da75f346585a7": {
          "model_module": "@jupyter-widgets/controls",
          "model_name": "HTMLModel",
          "model_module_version": "1.5.0",
          "state": {
            "_dom_classes": [],
            "_model_module": "@jupyter-widgets/controls",
            "_model_module_version": "1.5.0",
            "_model_name": "HTMLModel",
            "_view_count": null,
            "_view_module": "@jupyter-widgets/controls",
            "_view_module_version": "1.5.0",
            "_view_name": "HTMLView",
            "description": "",
            "description_tooltip": null,
            "layout": "IPY_MODEL_164ab6b8b465415480745efdf92e6ecb",
            "placeholder": "​",
            "style": "IPY_MODEL_9e6a70260def48fe8bbd46d49989b07a",
            "value": " 20/20 [40:31&lt;00:00, 192.89s/it]"
          }
        },
        "2cb70efeaf79439c8982d5b740ba3d2c": {
          "model_module": "@jupyter-widgets/base",
          "model_name": "LayoutModel",
          "model_module_version": "1.2.0",
          "state": {
            "_model_module": "@jupyter-widgets/base",
            "_model_module_version": "1.2.0",
            "_model_name": "LayoutModel",
            "_view_count": null,
            "_view_module": "@jupyter-widgets/base",
            "_view_module_version": "1.2.0",
            "_view_name": "LayoutView",
            "align_content": null,
            "align_items": null,
            "align_self": null,
            "border": null,
            "bottom": null,
            "display": null,
            "flex": null,
            "flex_flow": null,
            "grid_area": null,
            "grid_auto_columns": null,
            "grid_auto_flow": null,
            "grid_auto_rows": null,
            "grid_column": null,
            "grid_gap": null,
            "grid_row": null,
            "grid_template_areas": null,
            "grid_template_columns": null,
            "grid_template_rows": null,
            "height": null,
            "justify_content": null,
            "justify_items": null,
            "left": null,
            "margin": null,
            "max_height": null,
            "max_width": null,
            "min_height": null,
            "min_width": null,
            "object_fit": null,
            "object_position": null,
            "order": null,
            "overflow": null,
            "overflow_x": null,
            "overflow_y": null,
            "padding": null,
            "right": null,
            "top": null,
            "visibility": null,
            "width": null
          }
        },
        "9d92f93c7ba3410d9719fc1939410f17": {
          "model_module": "@jupyter-widgets/base",
          "model_name": "LayoutModel",
          "model_module_version": "1.2.0",
          "state": {
            "_model_module": "@jupyter-widgets/base",
            "_model_module_version": "1.2.0",
            "_model_name": "LayoutModel",
            "_view_count": null,
            "_view_module": "@jupyter-widgets/base",
            "_view_module_version": "1.2.0",
            "_view_name": "LayoutView",
            "align_content": null,
            "align_items": null,
            "align_self": null,
            "border": null,
            "bottom": null,
            "display": null,
            "flex": null,
            "flex_flow": null,
            "grid_area": null,
            "grid_auto_columns": null,
            "grid_auto_flow": null,
            "grid_auto_rows": null,
            "grid_column": null,
            "grid_gap": null,
            "grid_row": null,
            "grid_template_areas": null,
            "grid_template_columns": null,
            "grid_template_rows": null,
            "height": null,
            "justify_content": null,
            "justify_items": null,
            "left": null,
            "margin": null,
            "max_height": null,
            "max_width": null,
            "min_height": null,
            "min_width": null,
            "object_fit": null,
            "object_position": null,
            "order": null,
            "overflow": null,
            "overflow_x": null,
            "overflow_y": null,
            "padding": null,
            "right": null,
            "top": null,
            "visibility": null,
            "width": null
          }
        },
        "de48ee81d1aa4c02bd0534b843f1d060": {
          "model_module": "@jupyter-widgets/controls",
          "model_name": "DescriptionStyleModel",
          "model_module_version": "1.5.0",
          "state": {
            "_model_module": "@jupyter-widgets/controls",
            "_model_module_version": "1.5.0",
            "_model_name": "DescriptionStyleModel",
            "_view_count": null,
            "_view_module": "@jupyter-widgets/base",
            "_view_module_version": "1.2.0",
            "_view_name": "StyleView",
            "description_width": ""
          }
        },
        "32f7b416820a46d9b8611d3e8829c1e1": {
          "model_module": "@jupyter-widgets/base",
          "model_name": "LayoutModel",
          "model_module_version": "1.2.0",
          "state": {
            "_model_module": "@jupyter-widgets/base",
            "_model_module_version": "1.2.0",
            "_model_name": "LayoutModel",
            "_view_count": null,
            "_view_module": "@jupyter-widgets/base",
            "_view_module_version": "1.2.0",
            "_view_name": "LayoutView",
            "align_content": null,
            "align_items": null,
            "align_self": null,
            "border": null,
            "bottom": null,
            "display": null,
            "flex": null,
            "flex_flow": null,
            "grid_area": null,
            "grid_auto_columns": null,
            "grid_auto_flow": null,
            "grid_auto_rows": null,
            "grid_column": null,
            "grid_gap": null,
            "grid_row": null,
            "grid_template_areas": null,
            "grid_template_columns": null,
            "grid_template_rows": null,
            "height": null,
            "justify_content": null,
            "justify_items": null,
            "left": null,
            "margin": null,
            "max_height": null,
            "max_width": null,
            "min_height": null,
            "min_width": null,
            "object_fit": null,
            "object_position": null,
            "order": null,
            "overflow": null,
            "overflow_x": null,
            "overflow_y": null,
            "padding": null,
            "right": null,
            "top": null,
            "visibility": null,
            "width": null
          }
        },
        "c9fac754861b4297b23c262efe7a1a04": {
          "model_module": "@jupyter-widgets/controls",
          "model_name": "ProgressStyleModel",
          "model_module_version": "1.5.0",
          "state": {
            "_model_module": "@jupyter-widgets/controls",
            "_model_module_version": "1.5.0",
            "_model_name": "ProgressStyleModel",
            "_view_count": null,
            "_view_module": "@jupyter-widgets/base",
            "_view_module_version": "1.2.0",
            "_view_name": "StyleView",
            "bar_color": null,
            "description_width": ""
          }
        },
        "164ab6b8b465415480745efdf92e6ecb": {
          "model_module": "@jupyter-widgets/base",
          "model_name": "LayoutModel",
          "model_module_version": "1.2.0",
          "state": {
            "_model_module": "@jupyter-widgets/base",
            "_model_module_version": "1.2.0",
            "_model_name": "LayoutModel",
            "_view_count": null,
            "_view_module": "@jupyter-widgets/base",
            "_view_module_version": "1.2.0",
            "_view_name": "LayoutView",
            "align_content": null,
            "align_items": null,
            "align_self": null,
            "border": null,
            "bottom": null,
            "display": null,
            "flex": null,
            "flex_flow": null,
            "grid_area": null,
            "grid_auto_columns": null,
            "grid_auto_flow": null,
            "grid_auto_rows": null,
            "grid_column": null,
            "grid_gap": null,
            "grid_row": null,
            "grid_template_areas": null,
            "grid_template_columns": null,
            "grid_template_rows": null,
            "height": null,
            "justify_content": null,
            "justify_items": null,
            "left": null,
            "margin": null,
            "max_height": null,
            "max_width": null,
            "min_height": null,
            "min_width": null,
            "object_fit": null,
            "object_position": null,
            "order": null,
            "overflow": null,
            "overflow_x": null,
            "overflow_y": null,
            "padding": null,
            "right": null,
            "top": null,
            "visibility": null,
            "width": null
          }
        },
        "9e6a70260def48fe8bbd46d49989b07a": {
          "model_module": "@jupyter-widgets/controls",
          "model_name": "DescriptionStyleModel",
          "model_module_version": "1.5.0",
          "state": {
            "_model_module": "@jupyter-widgets/controls",
            "_model_module_version": "1.5.0",
            "_model_name": "DescriptionStyleModel",
            "_view_count": null,
            "_view_module": "@jupyter-widgets/base",
            "_view_module_version": "1.2.0",
            "_view_name": "StyleView",
            "description_width": ""
          }
        },
        "b9632be5731247ac92e15812504a25b9": {
          "model_module": "@jupyter-widgets/controls",
          "model_name": "HBoxModel",
          "model_module_version": "1.5.0",
          "state": {
            "_dom_classes": [],
            "_model_module": "@jupyter-widgets/controls",
            "_model_module_version": "1.5.0",
            "_model_name": "HBoxModel",
            "_view_count": null,
            "_view_module": "@jupyter-widgets/controls",
            "_view_module_version": "1.5.0",
            "_view_name": "HBoxView",
            "box_style": "",
            "children": [
              "IPY_MODEL_2da268e2fbcc4d6da5bd9d7a9d7997c5",
              "IPY_MODEL_86ba5ab0d3fd4ed3a1955ff482063c6a",
              "IPY_MODEL_e96871ec8a1c4ad396c76250b0780afc"
            ],
            "layout": "IPY_MODEL_1d0b55c2ca7446e58d69491d0e91757a"
          }
        },
        "2da268e2fbcc4d6da5bd9d7a9d7997c5": {
          "model_module": "@jupyter-widgets/controls",
          "model_name": "HTMLModel",
          "model_module_version": "1.5.0",
          "state": {
            "_dom_classes": [],
            "_model_module": "@jupyter-widgets/controls",
            "_model_module_version": "1.5.0",
            "_model_name": "HTMLModel",
            "_view_count": null,
            "_view_module": "@jupyter-widgets/controls",
            "_view_module_version": "1.5.0",
            "_view_name": "HTMLView",
            "description": "",
            "description_tooltip": null,
            "layout": "IPY_MODEL_3a2d3f5078384da2a2e10e5a6787b6df",
            "placeholder": "​",
            "style": "IPY_MODEL_c450ee03bc9d4254bd289eb932a3ed03",
            "value": "100%"
          }
        },
        "86ba5ab0d3fd4ed3a1955ff482063c6a": {
          "model_module": "@jupyter-widgets/controls",
          "model_name": "FloatProgressModel",
          "model_module_version": "1.5.0",
          "state": {
            "_dom_classes": [],
            "_model_module": "@jupyter-widgets/controls",
            "_model_module_version": "1.5.0",
            "_model_name": "FloatProgressModel",
            "_view_count": null,
            "_view_module": "@jupyter-widgets/controls",
            "_view_module_version": "1.5.0",
            "_view_name": "ProgressView",
            "bar_style": "success",
            "description": "",
            "description_tooltip": null,
            "layout": "IPY_MODEL_acf7929ec0bb41c09d306c09b06f7d8d",
            "max": 2,
            "min": 0,
            "orientation": "horizontal",
            "style": "IPY_MODEL_3412f99055114ee286de1e0f97e009c2",
            "value": 2
          }
        },
        "e96871ec8a1c4ad396c76250b0780afc": {
          "model_module": "@jupyter-widgets/controls",
          "model_name": "HTMLModel",
          "model_module_version": "1.5.0",
          "state": {
            "_dom_classes": [],
            "_model_module": "@jupyter-widgets/controls",
            "_model_module_version": "1.5.0",
            "_model_name": "HTMLModel",
            "_view_count": null,
            "_view_module": "@jupyter-widgets/controls",
            "_view_module_version": "1.5.0",
            "_view_name": "HTMLView",
            "description": "",
            "description_tooltip": null,
            "layout": "IPY_MODEL_a3673b2da2a9474dbf7d35baf28face6",
            "placeholder": "​",
            "style": "IPY_MODEL_003d59b4dd0e4410b3d00c8b385c2695",
            "value": " 2/2 [36:00&lt;00:00, 1087.94s/it]"
          }
        },
        "1d0b55c2ca7446e58d69491d0e91757a": {
          "model_module": "@jupyter-widgets/base",
          "model_name": "LayoutModel",
          "model_module_version": "1.2.0",
          "state": {
            "_model_module": "@jupyter-widgets/base",
            "_model_module_version": "1.2.0",
            "_model_name": "LayoutModel",
            "_view_count": null,
            "_view_module": "@jupyter-widgets/base",
            "_view_module_version": "1.2.0",
            "_view_name": "LayoutView",
            "align_content": null,
            "align_items": null,
            "align_self": null,
            "border": null,
            "bottom": null,
            "display": null,
            "flex": null,
            "flex_flow": null,
            "grid_area": null,
            "grid_auto_columns": null,
            "grid_auto_flow": null,
            "grid_auto_rows": null,
            "grid_column": null,
            "grid_gap": null,
            "grid_row": null,
            "grid_template_areas": null,
            "grid_template_columns": null,
            "grid_template_rows": null,
            "height": null,
            "justify_content": null,
            "justify_items": null,
            "left": null,
            "margin": null,
            "max_height": null,
            "max_width": null,
            "min_height": null,
            "min_width": null,
            "object_fit": null,
            "object_position": null,
            "order": null,
            "overflow": null,
            "overflow_x": null,
            "overflow_y": null,
            "padding": null,
            "right": null,
            "top": null,
            "visibility": null,
            "width": null
          }
        },
        "3a2d3f5078384da2a2e10e5a6787b6df": {
          "model_module": "@jupyter-widgets/base",
          "model_name": "LayoutModel",
          "model_module_version": "1.2.0",
          "state": {
            "_model_module": "@jupyter-widgets/base",
            "_model_module_version": "1.2.0",
            "_model_name": "LayoutModel",
            "_view_count": null,
            "_view_module": "@jupyter-widgets/base",
            "_view_module_version": "1.2.0",
            "_view_name": "LayoutView",
            "align_content": null,
            "align_items": null,
            "align_self": null,
            "border": null,
            "bottom": null,
            "display": null,
            "flex": null,
            "flex_flow": null,
            "grid_area": null,
            "grid_auto_columns": null,
            "grid_auto_flow": null,
            "grid_auto_rows": null,
            "grid_column": null,
            "grid_gap": null,
            "grid_row": null,
            "grid_template_areas": null,
            "grid_template_columns": null,
            "grid_template_rows": null,
            "height": null,
            "justify_content": null,
            "justify_items": null,
            "left": null,
            "margin": null,
            "max_height": null,
            "max_width": null,
            "min_height": null,
            "min_width": null,
            "object_fit": null,
            "object_position": null,
            "order": null,
            "overflow": null,
            "overflow_x": null,
            "overflow_y": null,
            "padding": null,
            "right": null,
            "top": null,
            "visibility": null,
            "width": null
          }
        },
        "c450ee03bc9d4254bd289eb932a3ed03": {
          "model_module": "@jupyter-widgets/controls",
          "model_name": "DescriptionStyleModel",
          "model_module_version": "1.5.0",
          "state": {
            "_model_module": "@jupyter-widgets/controls",
            "_model_module_version": "1.5.0",
            "_model_name": "DescriptionStyleModel",
            "_view_count": null,
            "_view_module": "@jupyter-widgets/base",
            "_view_module_version": "1.2.0",
            "_view_name": "StyleView",
            "description_width": ""
          }
        },
        "acf7929ec0bb41c09d306c09b06f7d8d": {
          "model_module": "@jupyter-widgets/base",
          "model_name": "LayoutModel",
          "model_module_version": "1.2.0",
          "state": {
            "_model_module": "@jupyter-widgets/base",
            "_model_module_version": "1.2.0",
            "_model_name": "LayoutModel",
            "_view_count": null,
            "_view_module": "@jupyter-widgets/base",
            "_view_module_version": "1.2.0",
            "_view_name": "LayoutView",
            "align_content": null,
            "align_items": null,
            "align_self": null,
            "border": null,
            "bottom": null,
            "display": null,
            "flex": null,
            "flex_flow": null,
            "grid_area": null,
            "grid_auto_columns": null,
            "grid_auto_flow": null,
            "grid_auto_rows": null,
            "grid_column": null,
            "grid_gap": null,
            "grid_row": null,
            "grid_template_areas": null,
            "grid_template_columns": null,
            "grid_template_rows": null,
            "height": null,
            "justify_content": null,
            "justify_items": null,
            "left": null,
            "margin": null,
            "max_height": null,
            "max_width": null,
            "min_height": null,
            "min_width": null,
            "object_fit": null,
            "object_position": null,
            "order": null,
            "overflow": null,
            "overflow_x": null,
            "overflow_y": null,
            "padding": null,
            "right": null,
            "top": null,
            "visibility": null,
            "width": null
          }
        },
        "3412f99055114ee286de1e0f97e009c2": {
          "model_module": "@jupyter-widgets/controls",
          "model_name": "ProgressStyleModel",
          "model_module_version": "1.5.0",
          "state": {
            "_model_module": "@jupyter-widgets/controls",
            "_model_module_version": "1.5.0",
            "_model_name": "ProgressStyleModel",
            "_view_count": null,
            "_view_module": "@jupyter-widgets/base",
            "_view_module_version": "1.2.0",
            "_view_name": "StyleView",
            "bar_color": null,
            "description_width": ""
          }
        },
        "a3673b2da2a9474dbf7d35baf28face6": {
          "model_module": "@jupyter-widgets/base",
          "model_name": "LayoutModel",
          "model_module_version": "1.2.0",
          "state": {
            "_model_module": "@jupyter-widgets/base",
            "_model_module_version": "1.2.0",
            "_model_name": "LayoutModel",
            "_view_count": null,
            "_view_module": "@jupyter-widgets/base",
            "_view_module_version": "1.2.0",
            "_view_name": "LayoutView",
            "align_content": null,
            "align_items": null,
            "align_self": null,
            "border": null,
            "bottom": null,
            "display": null,
            "flex": null,
            "flex_flow": null,
            "grid_area": null,
            "grid_auto_columns": null,
            "grid_auto_flow": null,
            "grid_auto_rows": null,
            "grid_column": null,
            "grid_gap": null,
            "grid_row": null,
            "grid_template_areas": null,
            "grid_template_columns": null,
            "grid_template_rows": null,
            "height": null,
            "justify_content": null,
            "justify_items": null,
            "left": null,
            "margin": null,
            "max_height": null,
            "max_width": null,
            "min_height": null,
            "min_width": null,
            "object_fit": null,
            "object_position": null,
            "order": null,
            "overflow": null,
            "overflow_x": null,
            "overflow_y": null,
            "padding": null,
            "right": null,
            "top": null,
            "visibility": null,
            "width": null
          }
        },
        "003d59b4dd0e4410b3d00c8b385c2695": {
          "model_module": "@jupyter-widgets/controls",
          "model_name": "DescriptionStyleModel",
          "model_module_version": "1.5.0",
          "state": {
            "_model_module": "@jupyter-widgets/controls",
            "_model_module_version": "1.5.0",
            "_model_name": "DescriptionStyleModel",
            "_view_count": null,
            "_view_module": "@jupyter-widgets/base",
            "_view_module_version": "1.2.0",
            "_view_name": "StyleView",
            "description_width": ""
          }
        },
        "d41a72a6fa5d458eaa3e083a63bbaeca": {
          "model_module": "@jupyter-widgets/controls",
          "model_name": "HBoxModel",
          "model_module_version": "1.5.0",
          "state": {
            "_dom_classes": [],
            "_model_module": "@jupyter-widgets/controls",
            "_model_module_version": "1.5.0",
            "_model_name": "HBoxModel",
            "_view_count": null,
            "_view_module": "@jupyter-widgets/controls",
            "_view_module_version": "1.5.0",
            "_view_name": "HBoxView",
            "box_style": "",
            "children": [
              "IPY_MODEL_656a1f59956043ac9e2fe1d64092eb3b",
              "IPY_MODEL_c62dca10ce7744158209539e60239357",
              "IPY_MODEL_92df7c9668614f889c9b5f8c82aed6f7"
            ],
            "layout": "IPY_MODEL_71302556fece48ecba70a7393d7f90af"
          }
        },
        "656a1f59956043ac9e2fe1d64092eb3b": {
          "model_module": "@jupyter-widgets/controls",
          "model_name": "HTMLModel",
          "model_module_version": "1.5.0",
          "state": {
            "_dom_classes": [],
            "_model_module": "@jupyter-widgets/controls",
            "_model_module_version": "1.5.0",
            "_model_name": "HTMLModel",
            "_view_count": null,
            "_view_module": "@jupyter-widgets/controls",
            "_view_module_version": "1.5.0",
            "_view_name": "HTMLView",
            "description": "",
            "description_tooltip": null,
            "layout": "IPY_MODEL_fcbbd8c237b740568b80502fd6cdaafb",
            "placeholder": "​",
            "style": "IPY_MODEL_a62420e46a074769a88de560277a3b91",
            "value": "100%"
          }
        },
        "c62dca10ce7744158209539e60239357": {
          "model_module": "@jupyter-widgets/controls",
          "model_name": "FloatProgressModel",
          "model_module_version": "1.5.0",
          "state": {
            "_dom_classes": [],
            "_model_module": "@jupyter-widgets/controls",
            "_model_module_version": "1.5.0",
            "_model_name": "FloatProgressModel",
            "_view_count": null,
            "_view_module": "@jupyter-widgets/controls",
            "_view_module_version": "1.5.0",
            "_view_name": "ProgressView",
            "bar_style": "success",
            "description": "",
            "description_tooltip": null,
            "layout": "IPY_MODEL_1e26735cefd04da0a61b98f04f4266c9",
            "max": 40,
            "min": 0,
            "orientation": "horizontal",
            "style": "IPY_MODEL_7ccb4179ca544597a8dbe7df13c5c5c8",
            "value": 40
          }
        },
        "92df7c9668614f889c9b5f8c82aed6f7": {
          "model_module": "@jupyter-widgets/controls",
          "model_name": "HTMLModel",
          "model_module_version": "1.5.0",
          "state": {
            "_dom_classes": [],
            "_model_module": "@jupyter-widgets/controls",
            "_model_module_version": "1.5.0",
            "_model_name": "HTMLModel",
            "_view_count": null,
            "_view_module": "@jupyter-widgets/controls",
            "_view_module_version": "1.5.0",
            "_view_name": "HTMLView",
            "description": "",
            "description_tooltip": null,
            "layout": "IPY_MODEL_66e18d4a4caa469f9fa2968f0521d490",
            "placeholder": "​",
            "style": "IPY_MODEL_deb0d38b782b4ae3aaeca1564c177134",
            "value": " 40/40 [17:15&lt;00:00, 27.31s/it]"
          }
        },
        "71302556fece48ecba70a7393d7f90af": {
          "model_module": "@jupyter-widgets/base",
          "model_name": "LayoutModel",
          "model_module_version": "1.2.0",
          "state": {
            "_model_module": "@jupyter-widgets/base",
            "_model_module_version": "1.2.0",
            "_model_name": "LayoutModel",
            "_view_count": null,
            "_view_module": "@jupyter-widgets/base",
            "_view_module_version": "1.2.0",
            "_view_name": "LayoutView",
            "align_content": null,
            "align_items": null,
            "align_self": null,
            "border": null,
            "bottom": null,
            "display": null,
            "flex": null,
            "flex_flow": null,
            "grid_area": null,
            "grid_auto_columns": null,
            "grid_auto_flow": null,
            "grid_auto_rows": null,
            "grid_column": null,
            "grid_gap": null,
            "grid_row": null,
            "grid_template_areas": null,
            "grid_template_columns": null,
            "grid_template_rows": null,
            "height": null,
            "justify_content": null,
            "justify_items": null,
            "left": null,
            "margin": null,
            "max_height": null,
            "max_width": null,
            "min_height": null,
            "min_width": null,
            "object_fit": null,
            "object_position": null,
            "order": null,
            "overflow": null,
            "overflow_x": null,
            "overflow_y": null,
            "padding": null,
            "right": null,
            "top": null,
            "visibility": null,
            "width": null
          }
        },
        "fcbbd8c237b740568b80502fd6cdaafb": {
          "model_module": "@jupyter-widgets/base",
          "model_name": "LayoutModel",
          "model_module_version": "1.2.0",
          "state": {
            "_model_module": "@jupyter-widgets/base",
            "_model_module_version": "1.2.0",
            "_model_name": "LayoutModel",
            "_view_count": null,
            "_view_module": "@jupyter-widgets/base",
            "_view_module_version": "1.2.0",
            "_view_name": "LayoutView",
            "align_content": null,
            "align_items": null,
            "align_self": null,
            "border": null,
            "bottom": null,
            "display": null,
            "flex": null,
            "flex_flow": null,
            "grid_area": null,
            "grid_auto_columns": null,
            "grid_auto_flow": null,
            "grid_auto_rows": null,
            "grid_column": null,
            "grid_gap": null,
            "grid_row": null,
            "grid_template_areas": null,
            "grid_template_columns": null,
            "grid_template_rows": null,
            "height": null,
            "justify_content": null,
            "justify_items": null,
            "left": null,
            "margin": null,
            "max_height": null,
            "max_width": null,
            "min_height": null,
            "min_width": null,
            "object_fit": null,
            "object_position": null,
            "order": null,
            "overflow": null,
            "overflow_x": null,
            "overflow_y": null,
            "padding": null,
            "right": null,
            "top": null,
            "visibility": null,
            "width": null
          }
        },
        "a62420e46a074769a88de560277a3b91": {
          "model_module": "@jupyter-widgets/controls",
          "model_name": "DescriptionStyleModel",
          "model_module_version": "1.5.0",
          "state": {
            "_model_module": "@jupyter-widgets/controls",
            "_model_module_version": "1.5.0",
            "_model_name": "DescriptionStyleModel",
            "_view_count": null,
            "_view_module": "@jupyter-widgets/base",
            "_view_module_version": "1.2.0",
            "_view_name": "StyleView",
            "description_width": ""
          }
        },
        "1e26735cefd04da0a61b98f04f4266c9": {
          "model_module": "@jupyter-widgets/base",
          "model_name": "LayoutModel",
          "model_module_version": "1.2.0",
          "state": {
            "_model_module": "@jupyter-widgets/base",
            "_model_module_version": "1.2.0",
            "_model_name": "LayoutModel",
            "_view_count": null,
            "_view_module": "@jupyter-widgets/base",
            "_view_module_version": "1.2.0",
            "_view_name": "LayoutView",
            "align_content": null,
            "align_items": null,
            "align_self": null,
            "border": null,
            "bottom": null,
            "display": null,
            "flex": null,
            "flex_flow": null,
            "grid_area": null,
            "grid_auto_columns": null,
            "grid_auto_flow": null,
            "grid_auto_rows": null,
            "grid_column": null,
            "grid_gap": null,
            "grid_row": null,
            "grid_template_areas": null,
            "grid_template_columns": null,
            "grid_template_rows": null,
            "height": null,
            "justify_content": null,
            "justify_items": null,
            "left": null,
            "margin": null,
            "max_height": null,
            "max_width": null,
            "min_height": null,
            "min_width": null,
            "object_fit": null,
            "object_position": null,
            "order": null,
            "overflow": null,
            "overflow_x": null,
            "overflow_y": null,
            "padding": null,
            "right": null,
            "top": null,
            "visibility": null,
            "width": null
          }
        },
        "7ccb4179ca544597a8dbe7df13c5c5c8": {
          "model_module": "@jupyter-widgets/controls",
          "model_name": "ProgressStyleModel",
          "model_module_version": "1.5.0",
          "state": {
            "_model_module": "@jupyter-widgets/controls",
            "_model_module_version": "1.5.0",
            "_model_name": "ProgressStyleModel",
            "_view_count": null,
            "_view_module": "@jupyter-widgets/base",
            "_view_module_version": "1.2.0",
            "_view_name": "StyleView",
            "bar_color": null,
            "description_width": ""
          }
        },
        "66e18d4a4caa469f9fa2968f0521d490": {
          "model_module": "@jupyter-widgets/base",
          "model_name": "LayoutModel",
          "model_module_version": "1.2.0",
          "state": {
            "_model_module": "@jupyter-widgets/base",
            "_model_module_version": "1.2.0",
            "_model_name": "LayoutModel",
            "_view_count": null,
            "_view_module": "@jupyter-widgets/base",
            "_view_module_version": "1.2.0",
            "_view_name": "LayoutView",
            "align_content": null,
            "align_items": null,
            "align_self": null,
            "border": null,
            "bottom": null,
            "display": null,
            "flex": null,
            "flex_flow": null,
            "grid_area": null,
            "grid_auto_columns": null,
            "grid_auto_flow": null,
            "grid_auto_rows": null,
            "grid_column": null,
            "grid_gap": null,
            "grid_row": null,
            "grid_template_areas": null,
            "grid_template_columns": null,
            "grid_template_rows": null,
            "height": null,
            "justify_content": null,
            "justify_items": null,
            "left": null,
            "margin": null,
            "max_height": null,
            "max_width": null,
            "min_height": null,
            "min_width": null,
            "object_fit": null,
            "object_position": null,
            "order": null,
            "overflow": null,
            "overflow_x": null,
            "overflow_y": null,
            "padding": null,
            "right": null,
            "top": null,
            "visibility": null,
            "width": null
          }
        },
        "deb0d38b782b4ae3aaeca1564c177134": {
          "model_module": "@jupyter-widgets/controls",
          "model_name": "DescriptionStyleModel",
          "model_module_version": "1.5.0",
          "state": {
            "_model_module": "@jupyter-widgets/controls",
            "_model_module_version": "1.5.0",
            "_model_name": "DescriptionStyleModel",
            "_view_count": null,
            "_view_module": "@jupyter-widgets/base",
            "_view_module_version": "1.2.0",
            "_view_name": "StyleView",
            "description_width": ""
          }
        },
        "bc98ceac0b2e4d6ca2c6bbc366603b66": {
          "model_module": "@jupyter-widgets/controls",
          "model_name": "HBoxModel",
          "model_module_version": "1.5.0",
          "state": {
            "_dom_classes": [],
            "_model_module": "@jupyter-widgets/controls",
            "_model_module_version": "1.5.0",
            "_model_name": "HBoxModel",
            "_view_count": null,
            "_view_module": "@jupyter-widgets/controls",
            "_view_module_version": "1.5.0",
            "_view_name": "HBoxView",
            "box_style": "",
            "children": [
              "IPY_MODEL_3f33420d807846bb85e8a219be9f88ed",
              "IPY_MODEL_1fc16c09c9ab457a9a3e20884ccc8aff",
              "IPY_MODEL_a544c07cd18147009fbf20c88ae4193c"
            ],
            "layout": "IPY_MODEL_d9c7d04631c14e259beb7cdd8bca02ce"
          }
        },
        "3f33420d807846bb85e8a219be9f88ed": {
          "model_module": "@jupyter-widgets/controls",
          "model_name": "HTMLModel",
          "model_module_version": "1.5.0",
          "state": {
            "_dom_classes": [],
            "_model_module": "@jupyter-widgets/controls",
            "_model_module_version": "1.5.0",
            "_model_name": "HTMLModel",
            "_view_count": null,
            "_view_module": "@jupyter-widgets/controls",
            "_view_module_version": "1.5.0",
            "_view_name": "HTMLView",
            "description": "",
            "description_tooltip": null,
            "layout": "IPY_MODEL_79b73656ba4c42a4abacebbbf522fe1b",
            "placeholder": "​",
            "style": "IPY_MODEL_d06a8a6c52344031bcf5c3aa5629ea57",
            "value": "100%"
          }
        },
        "1fc16c09c9ab457a9a3e20884ccc8aff": {
          "model_module": "@jupyter-widgets/controls",
          "model_name": "FloatProgressModel",
          "model_module_version": "1.5.0",
          "state": {
            "_dom_classes": [],
            "_model_module": "@jupyter-widgets/controls",
            "_model_module_version": "1.5.0",
            "_model_name": "FloatProgressModel",
            "_view_count": null,
            "_view_module": "@jupyter-widgets/controls",
            "_view_module_version": "1.5.0",
            "_view_name": "ProgressView",
            "bar_style": "success",
            "description": "",
            "description_tooltip": null,
            "layout": "IPY_MODEL_4956329437ec43249b330c3c0c43f696",
            "max": 40,
            "min": 0,
            "orientation": "horizontal",
            "style": "IPY_MODEL_c53d127e2fb34ed499c02a8538983aa9",
            "value": 40
          }
        },
        "a544c07cd18147009fbf20c88ae4193c": {
          "model_module": "@jupyter-widgets/controls",
          "model_name": "HTMLModel",
          "model_module_version": "1.5.0",
          "state": {
            "_dom_classes": [],
            "_model_module": "@jupyter-widgets/controls",
            "_model_module_version": "1.5.0",
            "_model_name": "HTMLModel",
            "_view_count": null,
            "_view_module": "@jupyter-widgets/controls",
            "_view_module_version": "1.5.0",
            "_view_name": "HTMLView",
            "description": "",
            "description_tooltip": null,
            "layout": "IPY_MODEL_d1741880b16f43b9832a95264c26161b",
            "placeholder": "​",
            "style": "IPY_MODEL_b750264d1d9d40cf8ebb625cffdd9256",
            "value": " 40/40 [18:44&lt;00:00, 31.95s/it]"
          }
        },
        "d9c7d04631c14e259beb7cdd8bca02ce": {
          "model_module": "@jupyter-widgets/base",
          "model_name": "LayoutModel",
          "model_module_version": "1.2.0",
          "state": {
            "_model_module": "@jupyter-widgets/base",
            "_model_module_version": "1.2.0",
            "_model_name": "LayoutModel",
            "_view_count": null,
            "_view_module": "@jupyter-widgets/base",
            "_view_module_version": "1.2.0",
            "_view_name": "LayoutView",
            "align_content": null,
            "align_items": null,
            "align_self": null,
            "border": null,
            "bottom": null,
            "display": null,
            "flex": null,
            "flex_flow": null,
            "grid_area": null,
            "grid_auto_columns": null,
            "grid_auto_flow": null,
            "grid_auto_rows": null,
            "grid_column": null,
            "grid_gap": null,
            "grid_row": null,
            "grid_template_areas": null,
            "grid_template_columns": null,
            "grid_template_rows": null,
            "height": null,
            "justify_content": null,
            "justify_items": null,
            "left": null,
            "margin": null,
            "max_height": null,
            "max_width": null,
            "min_height": null,
            "min_width": null,
            "object_fit": null,
            "object_position": null,
            "order": null,
            "overflow": null,
            "overflow_x": null,
            "overflow_y": null,
            "padding": null,
            "right": null,
            "top": null,
            "visibility": null,
            "width": null
          }
        },
        "79b73656ba4c42a4abacebbbf522fe1b": {
          "model_module": "@jupyter-widgets/base",
          "model_name": "LayoutModel",
          "model_module_version": "1.2.0",
          "state": {
            "_model_module": "@jupyter-widgets/base",
            "_model_module_version": "1.2.0",
            "_model_name": "LayoutModel",
            "_view_count": null,
            "_view_module": "@jupyter-widgets/base",
            "_view_module_version": "1.2.0",
            "_view_name": "LayoutView",
            "align_content": null,
            "align_items": null,
            "align_self": null,
            "border": null,
            "bottom": null,
            "display": null,
            "flex": null,
            "flex_flow": null,
            "grid_area": null,
            "grid_auto_columns": null,
            "grid_auto_flow": null,
            "grid_auto_rows": null,
            "grid_column": null,
            "grid_gap": null,
            "grid_row": null,
            "grid_template_areas": null,
            "grid_template_columns": null,
            "grid_template_rows": null,
            "height": null,
            "justify_content": null,
            "justify_items": null,
            "left": null,
            "margin": null,
            "max_height": null,
            "max_width": null,
            "min_height": null,
            "min_width": null,
            "object_fit": null,
            "object_position": null,
            "order": null,
            "overflow": null,
            "overflow_x": null,
            "overflow_y": null,
            "padding": null,
            "right": null,
            "top": null,
            "visibility": null,
            "width": null
          }
        },
        "d06a8a6c52344031bcf5c3aa5629ea57": {
          "model_module": "@jupyter-widgets/controls",
          "model_name": "DescriptionStyleModel",
          "model_module_version": "1.5.0",
          "state": {
            "_model_module": "@jupyter-widgets/controls",
            "_model_module_version": "1.5.0",
            "_model_name": "DescriptionStyleModel",
            "_view_count": null,
            "_view_module": "@jupyter-widgets/base",
            "_view_module_version": "1.2.0",
            "_view_name": "StyleView",
            "description_width": ""
          }
        },
        "4956329437ec43249b330c3c0c43f696": {
          "model_module": "@jupyter-widgets/base",
          "model_name": "LayoutModel",
          "model_module_version": "1.2.0",
          "state": {
            "_model_module": "@jupyter-widgets/base",
            "_model_module_version": "1.2.0",
            "_model_name": "LayoutModel",
            "_view_count": null,
            "_view_module": "@jupyter-widgets/base",
            "_view_module_version": "1.2.0",
            "_view_name": "LayoutView",
            "align_content": null,
            "align_items": null,
            "align_self": null,
            "border": null,
            "bottom": null,
            "display": null,
            "flex": null,
            "flex_flow": null,
            "grid_area": null,
            "grid_auto_columns": null,
            "grid_auto_flow": null,
            "grid_auto_rows": null,
            "grid_column": null,
            "grid_gap": null,
            "grid_row": null,
            "grid_template_areas": null,
            "grid_template_columns": null,
            "grid_template_rows": null,
            "height": null,
            "justify_content": null,
            "justify_items": null,
            "left": null,
            "margin": null,
            "max_height": null,
            "max_width": null,
            "min_height": null,
            "min_width": null,
            "object_fit": null,
            "object_position": null,
            "order": null,
            "overflow": null,
            "overflow_x": null,
            "overflow_y": null,
            "padding": null,
            "right": null,
            "top": null,
            "visibility": null,
            "width": null
          }
        },
        "c53d127e2fb34ed499c02a8538983aa9": {
          "model_module": "@jupyter-widgets/controls",
          "model_name": "ProgressStyleModel",
          "model_module_version": "1.5.0",
          "state": {
            "_model_module": "@jupyter-widgets/controls",
            "_model_module_version": "1.5.0",
            "_model_name": "ProgressStyleModel",
            "_view_count": null,
            "_view_module": "@jupyter-widgets/base",
            "_view_module_version": "1.2.0",
            "_view_name": "StyleView",
            "bar_color": null,
            "description_width": ""
          }
        },
        "d1741880b16f43b9832a95264c26161b": {
          "model_module": "@jupyter-widgets/base",
          "model_name": "LayoutModel",
          "model_module_version": "1.2.0",
          "state": {
            "_model_module": "@jupyter-widgets/base",
            "_model_module_version": "1.2.0",
            "_model_name": "LayoutModel",
            "_view_count": null,
            "_view_module": "@jupyter-widgets/base",
            "_view_module_version": "1.2.0",
            "_view_name": "LayoutView",
            "align_content": null,
            "align_items": null,
            "align_self": null,
            "border": null,
            "bottom": null,
            "display": null,
            "flex": null,
            "flex_flow": null,
            "grid_area": null,
            "grid_auto_columns": null,
            "grid_auto_flow": null,
            "grid_auto_rows": null,
            "grid_column": null,
            "grid_gap": null,
            "grid_row": null,
            "grid_template_areas": null,
            "grid_template_columns": null,
            "grid_template_rows": null,
            "height": null,
            "justify_content": null,
            "justify_items": null,
            "left": null,
            "margin": null,
            "max_height": null,
            "max_width": null,
            "min_height": null,
            "min_width": null,
            "object_fit": null,
            "object_position": null,
            "order": null,
            "overflow": null,
            "overflow_x": null,
            "overflow_y": null,
            "padding": null,
            "right": null,
            "top": null,
            "visibility": null,
            "width": null
          }
        },
        "b750264d1d9d40cf8ebb625cffdd9256": {
          "model_module": "@jupyter-widgets/controls",
          "model_name": "DescriptionStyleModel",
          "model_module_version": "1.5.0",
          "state": {
            "_model_module": "@jupyter-widgets/controls",
            "_model_module_version": "1.5.0",
            "_model_name": "DescriptionStyleModel",
            "_view_count": null,
            "_view_module": "@jupyter-widgets/base",
            "_view_module_version": "1.2.0",
            "_view_name": "StyleView",
            "description_width": ""
          }
        }
      }
    }
  },
  "nbformat": 4,
  "nbformat_minor": 0
}