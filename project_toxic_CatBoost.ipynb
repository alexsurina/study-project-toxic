{
  "cells": [
    {
      "cell_type": "markdown",
      "metadata": {
        "deletable": false,
        "editable": false,
        "tags": [
          "045a5103-bb0f-4fb7-835a-238e053b2157"
        ],
        "id": "mo7ag3z477xI"
      },
      "source": [
        "#Поиск токсичных комментариев (CatBoost)"
      ]
    },
    {
      "cell_type": "markdown",
      "metadata": {
        "id": "KEAw_CHB77xL"
      },
      "source": [
        "Обучите модель классифицировать комментарии на позитивные и негативные. В вашем распоряжении набор данных с разметкой о токсичности правок.\n",
        "\n",
        "Постройте модель со значением метрики качества *F1* не меньше 0.75. "
      ]
    },
    {
      "cell_type": "code",
      "source": [
        "! pip install catboost"
      ],
      "metadata": {
        "colab": {
          "base_uri": "https://localhost:8080/"
        },
        "id": "_OGFbnJVOOcA",
        "outputId": "ff2984cd-94c5-4102-e2cf-c3b7a120ff8e"
      },
      "execution_count": null,
      "outputs": [
        {
          "output_type": "stream",
          "name": "stdout",
          "text": [
            "Looking in indexes: https://pypi.org/simple, https://us-python.pkg.dev/colab-wheels/public/simple/\n",
            "Collecting catboost\n",
            "  Downloading catboost-1.0.6-cp37-none-manylinux1_x86_64.whl (76.6 MB)\n",
            "\u001b[K     |████████████████████████████████| 76.6 MB 1.1 MB/s \n",
            "\u001b[?25hRequirement already satisfied: matplotlib in /usr/local/lib/python3.7/dist-packages (from catboost) (3.2.2)\n",
            "Requirement already satisfied: scipy in /usr/local/lib/python3.7/dist-packages (from catboost) (1.4.1)\n",
            "Requirement already satisfied: numpy>=1.16.0 in /usr/local/lib/python3.7/dist-packages (from catboost) (1.21.6)\n",
            "Requirement already satisfied: graphviz in /usr/local/lib/python3.7/dist-packages (from catboost) (0.10.1)\n",
            "Requirement already satisfied: pandas>=0.24.0 in /usr/local/lib/python3.7/dist-packages (from catboost) (1.3.5)\n",
            "Requirement already satisfied: six in /usr/local/lib/python3.7/dist-packages (from catboost) (1.15.0)\n",
            "Requirement already satisfied: plotly in /usr/local/lib/python3.7/dist-packages (from catboost) (5.5.0)\n",
            "Requirement already satisfied: python-dateutil>=2.7.3 in /usr/local/lib/python3.7/dist-packages (from pandas>=0.24.0->catboost) (2.8.2)\n",
            "Requirement already satisfied: pytz>=2017.3 in /usr/local/lib/python3.7/dist-packages (from pandas>=0.24.0->catboost) (2022.1)\n",
            "Requirement already satisfied: pyparsing!=2.0.4,!=2.1.2,!=2.1.6,>=2.0.1 in /usr/local/lib/python3.7/dist-packages (from matplotlib->catboost) (3.0.9)\n",
            "Requirement already satisfied: kiwisolver>=1.0.1 in /usr/local/lib/python3.7/dist-packages (from matplotlib->catboost) (1.4.2)\n",
            "Requirement already satisfied: cycler>=0.10 in /usr/local/lib/python3.7/dist-packages (from matplotlib->catboost) (0.11.0)\n",
            "Requirement already satisfied: typing-extensions in /usr/local/lib/python3.7/dist-packages (from kiwisolver>=1.0.1->matplotlib->catboost) (4.2.0)\n",
            "Requirement already satisfied: tenacity>=6.2.0 in /usr/local/lib/python3.7/dist-packages (from plotly->catboost) (8.0.1)\n",
            "Installing collected packages: catboost\n",
            "Successfully installed catboost-1.0.6\n"
          ]
        }
      ]
    },
    {
      "cell_type": "code",
      "execution_count": null,
      "metadata": {
        "id": "kO6tjiuM77xM"
      },
      "outputs": [],
      "source": [
        "import pandas as pd\n",
        "import numpy as np\n",
        "\n",
        "import re\n",
        "import string\n",
        "\n",
        "from sklearn.model_selection import train_test_split\n",
        "\n",
        "from catboost import Pool, cv\n",
        "from catboost import CatBoostClassifier\n",
        "\n",
        "from sklearn.metrics import f1_score\n",
        "#from sklearn.model_selection import cross_val_score\n"
      ]
    },
    {
      "cell_type": "code",
      "execution_count": null,
      "metadata": {
        "id": "eGurE34S77xN"
      },
      "outputs": [],
      "source": [
        "df_tweets = pd.read_csv('/content/toxic_comments.csv')"
      ]
    },
    {
      "cell_type": "code",
      "execution_count": null,
      "metadata": {
        "scrolled": false,
        "colab": {
          "base_uri": "https://localhost:8080/"
        },
        "id": "MrdlEeHE77xO",
        "outputId": "995dc6b0-d090-4d65-9ae3-93821db631c8"
      },
      "outputs": [
        {
          "output_type": "stream",
          "name": "stdout",
          "text": [
            "<class 'pandas.core.frame.DataFrame'>\n",
            "RangeIndex: 159571 entries, 0 to 159570\n",
            "Data columns (total 2 columns):\n",
            " #   Column  Non-Null Count   Dtype \n",
            "---  ------  --------------   ----- \n",
            " 0   text    159571 non-null  object\n",
            " 1   toxic   159571 non-null  int64 \n",
            "dtypes: int64(1), object(1)\n",
            "memory usage: 2.4+ MB\n"
          ]
        }
      ],
      "source": [
        "df_tweets.info()"
      ]
    },
    {
      "cell_type": "code",
      "execution_count": null,
      "metadata": {
        "colab": {
          "base_uri": "https://localhost:8080/"
        },
        "id": "4FS7hzdR77xP",
        "outputId": "8631d150-ee34-4df7-a880-4917bf19a5f5"
      },
      "outputs": [
        {
          "output_type": "execute_result",
          "data": {
            "text/plain": [
              "0    0.898321\n",
              "1    0.101679\n",
              "Name: toxic, dtype: float64"
            ]
          },
          "metadata": {},
          "execution_count": 5
        }
      ],
      "source": [
        "df_tweets['toxic'].value_counts(normalize = True)"
      ]
    },
    {
      "cell_type": "code",
      "source": [
        "df_tweets.duplicated().sum()"
      ],
      "metadata": {
        "colab": {
          "base_uri": "https://localhost:8080/"
        },
        "id": "UjERj2Ft4tNz",
        "outputId": "37278e06-ebfe-4336-9f26-43ac71799833"
      },
      "execution_count": null,
      "outputs": [
        {
          "output_type": "execute_result",
          "data": {
            "text/plain": [
              "0"
            ]
          },
          "metadata": {},
          "execution_count": 6
        }
      ]
    },
    {
      "cell_type": "markdown",
      "source": [
        "-------"
      ],
      "metadata": {
        "id": "GeDeQVgMKV9Q"
      }
    },
    {
      "cell_type": "code",
      "source": [
        "df_tweets.text[0]"
      ],
      "metadata": {
        "colab": {
          "base_uri": "https://localhost:8080/",
          "height": 52
        },
        "id": "BlaR5x68KXdS",
        "outputId": "f82a50dd-fd55-4b97-a554-fe2836ab299d"
      },
      "execution_count": null,
      "outputs": [
        {
          "output_type": "execute_result",
          "data": {
            "text/plain": [
              "\"Explanation\\nWhy the edits made under my username Hardcore Metallica Fan were reverted? They weren't vandalisms, just closure on some GAs after I voted at New York Dolls FAC. And please don't remove the template from the talk page since I'm retired now.89.205.38.27\""
            ],
            "application/vnd.google.colaboratory.intrinsic+json": {
              "type": "string"
            }
          },
          "metadata": {},
          "execution_count": 7
        }
      ]
    },
    {
      "cell_type": "code",
      "source": [
        "def text_cleaning(text):\n",
        "  text = text.lower()\n",
        "  text = re.sub('\\[.*?\\]','', text)\n",
        "  text = re.sub('\\\\W',' ', text)\n",
        "  text = re.sub('https?://\\S+|www\\.\\S+','', text)\n",
        "  text = re.sub('<.*?>+','', text)\n",
        "  text = re.sub('[%s]' % re.escape(string.punctuation),'', text)\n",
        "  text = re.sub('\\n','', text)\n",
        "  text = re.sub('\\w*\\d\\w*','', text)\n",
        "  text = re.sub('\\s+[a-zA-Z]\\s',' ', text)\n",
        "  text = ' '.join(re.sub('\\s+[a-zA-Z]\\s',' ', text).split())\n",
        "\n",
        "  return text"
      ],
      "metadata": {
        "id": "jxzEUMU1LJR8"
      },
      "execution_count": null,
      "outputs": []
    },
    {
      "cell_type": "code",
      "source": [
        "text_cleaning(df_tweets.text[0])"
      ],
      "metadata": {
        "colab": {
          "base_uri": "https://localhost:8080/",
          "height": 52
        },
        "id": "FE5CKyLhLJOG",
        "outputId": "7f4f7b2a-1753-4884-872e-6bda5afc24f4"
      },
      "execution_count": null,
      "outputs": [
        {
          "output_type": "execute_result",
          "data": {
            "text/plain": [
              "'explanation why the edits made under my username hardcore metallica fan were reverted they weren vandalisms just closure on some gas after voted at new york dolls fac and please don remove the template from the talk page since retired now'"
            ],
            "application/vnd.google.colaboratory.intrinsic+json": {
              "type": "string"
            }
          },
          "metadata": {},
          "execution_count": 9
        }
      ]
    },
    {
      "cell_type": "markdown",
      "source": [
        "------"
      ],
      "metadata": {
        "id": "D-jE1fPXQoZk"
      }
    },
    {
      "cell_type": "code",
      "source": [
        "df_tweets['text'] = df_tweets['text'].apply(text_cleaning)"
      ],
      "metadata": {
        "id": "SuluywOwLJKm"
      },
      "execution_count": null,
      "outputs": []
    },
    {
      "cell_type": "markdown",
      "source": [
        "-----"
      ],
      "metadata": {
        "id": "jpA2oeO1KUMe"
      }
    },
    {
      "cell_type": "code",
      "source": [
        "features_train, features_test, target_train, target_test = train_test_split(\n",
        "    df_tweets.drop('toxic', axis=1), \n",
        "    df_tweets.toxic, \n",
        "    test_size=0.2, \n",
        "    random_state=12345, \n",
        "    stratify=df_tweets.toxic) "
      ],
      "metadata": {
        "id": "19gzbIdv5Fd-"
      },
      "execution_count": null,
      "outputs": []
    },
    {
      "cell_type": "markdown",
      "source": [
        "------"
      ],
      "metadata": {
        "id": "C2fI2lqERMqt"
      }
    },
    {
      "cell_type": "code",
      "source": [
        "parameters = {'loss_function':'Logloss',\n",
        "              'task_type': 'GPU',\n",
        "              'eval_metric' : 'AUC',\n",
        "              'early_stopping_rounds': 200,\n",
        "        #         'learning_rate': 0.1,\n",
        "        #         'depth': 8,\n",
        "                 'iterations': 3000, # значение по умолчанию 1000\n",
        "                 'random_seed': 12345,\n",
        "                 'verbose': 200}\n",
        "\n",
        "cv_dataset = Pool(data=features_train,\n",
        "                  label=target_train,\n",
        "                  text_features=['text'])\n",
        "\n",
        "scores = cv(cv_dataset,\n",
        "            parameters,\n",
        "            fold_count=5,\n",
        "            shuffle=True,\n",
        "            stratified=True)#,\n",
        "          #  plot=\"True\")                 "
      ],
      "metadata": {
        "id": "W8CtnxkE5qOX",
        "colab": {
          "base_uri": "https://localhost:8080/"
        },
        "outputId": "e4f2b0b0-5a32-4189-e3c6-c465e2f84305"
      },
      "execution_count": null,
      "outputs": [
        {
          "output_type": "stream",
          "name": "stdout",
          "text": [
            "Training on fold [0/5]\n"
          ]
        },
        {
          "output_type": "stream",
          "name": "stderr",
          "text": [
            "Default metric period is 5 because AUC is/are not implemented for GPU\n"
          ]
        },
        {
          "output_type": "stream",
          "name": "stdout",
          "text": [
            "0:\ttest: 0.9098963\tbest: 0.9098963 (0)\ttotal: 102ms\tremaining: 5m 6s\n",
            "200:\ttest: 0.9578780\tbest: 0.9578780 (200)\ttotal: 9.57s\tremaining: 2m 13s\n",
            "400:\ttest: 0.9625102\tbest: 0.9625495 (395)\ttotal: 19s\tremaining: 2m 3s\n",
            "600:\ttest: 0.9640998\tbest: 0.9640998 (600)\ttotal: 28.4s\tremaining: 1m 53s\n",
            "800:\ttest: 0.9649914\tbest: 0.9650127 (792)\ttotal: 37.7s\tremaining: 1m 43s\n",
            "1000:\ttest: 0.9655859\tbest: 0.9655939 (998)\ttotal: 47.1s\tremaining: 1m 34s\n",
            "1200:\ttest: 0.9660353\tbest: 0.9660386 (1196)\ttotal: 56.6s\tremaining: 1m 24s\n",
            "1400:\ttest: 0.9664170\tbest: 0.9664314 (1398)\ttotal: 1m 5s\tremaining: 1m 15s\n",
            "1600:\ttest: 0.9665658\tbest: 0.9665861 (1536)\ttotal: 1m 15s\tremaining: 1m 5s\n",
            "1800:\ttest: 0.9668894\tbest: 0.9668894 (1800)\ttotal: 1m 25s\tremaining: 56.7s\n",
            "2000:\ttest: 0.9670136\tbest: 0.9670225 (1990)\ttotal: 1m 34s\tremaining: 47.4s\n",
            "2200:\ttest: 0.9671061\tbest: 0.9671159 (2188)\ttotal: 1m 45s\tremaining: 38.2s\n",
            "2400:\ttest: 0.9671874\tbest: 0.9671890 (2398)\ttotal: 1m 54s\tremaining: 28.6s\n",
            "2600:\ttest: 0.9673427\tbest: 0.9673459 (2596)\ttotal: 2m 4s\tremaining: 19.1s\n",
            "2800:\ttest: 0.9674280\tbest: 0.9674280 (2800)\ttotal: 2m 13s\tremaining: 9.51s\n",
            "2999:\ttest: 0.9674620\tbest: 0.9674838 (2964)\ttotal: 2m 23s\tremaining: 0us\n",
            "bestTest = 0.9674838185\n",
            "bestIteration = 2964\n",
            "Training on fold [1/5]\n"
          ]
        },
        {
          "output_type": "stream",
          "name": "stderr",
          "text": [
            "Default metric period is 5 because AUC is/are not implemented for GPU\n"
          ]
        },
        {
          "output_type": "stream",
          "name": "stdout",
          "text": [
            "0:\ttest: 0.8968612\tbest: 0.8968612 (0)\ttotal: 96.1ms\tremaining: 4m 48s\n",
            "200:\ttest: 0.9602778\tbest: 0.9602778 (200)\ttotal: 9.69s\tremaining: 2m 14s\n",
            "400:\ttest: 0.9655087\tbest: 0.9655098 (399)\ttotal: 19.3s\tremaining: 2m 4s\n",
            "600:\ttest: 0.9676024\tbest: 0.9676024 (600)\ttotal: 28.9s\tremaining: 1m 55s\n",
            "800:\ttest: 0.9687332\tbest: 0.9687357 (799)\ttotal: 38.6s\tremaining: 1m 45s\n",
            "1000:\ttest: 0.9695002\tbest: 0.9695002 (1000)\ttotal: 48.2s\tremaining: 1m 36s\n",
            "1200:\ttest: 0.9700526\tbest: 0.9700729 (1194)\ttotal: 57.8s\tremaining: 1m 26s\n",
            "1400:\ttest: 0.9703726\tbest: 0.9704238 (1384)\ttotal: 1m 7s\tremaining: 1m 16s\n",
            "1600:\ttest: 0.9705029\tbest: 0.9705178 (1592)\ttotal: 1m 16s\tremaining: 1m 7s\n",
            "1800:\ttest: 0.9706233\tbest: 0.9706233 (1800)\ttotal: 1m 26s\tremaining: 57.4s\n",
            "2000:\ttest: 0.9707013\tbest: 0.9707386 (1980)\ttotal: 1m 35s\tremaining: 47.8s\n",
            "2200:\ttest: 0.9708872\tbest: 0.9708913 (2198)\ttotal: 1m 45s\tremaining: 38.2s\n",
            "2400:\ttest: 0.9709927\tbest: 0.9710124 (2373)\ttotal: 1m 54s\tremaining: 28.6s\n",
            "2600:\ttest: 0.9710133\tbest: 0.9710702 (2525)\ttotal: 2m 4s\tremaining: 19.1s\n",
            "2800:\ttest: 0.9711073\tbest: 0.9711191 (2782)\ttotal: 2m 13s\tremaining: 9.51s\n",
            "2999:\ttest: 0.9711948\tbest: 0.9712086 (2997)\ttotal: 2m 23s\tremaining: 0us\n",
            "bestTest = 0.9712085724\n",
            "bestIteration = 2997\n",
            "Training on fold [2/5]\n"
          ]
        },
        {
          "output_type": "stream",
          "name": "stderr",
          "text": [
            "Default metric period is 5 because AUC is/are not implemented for GPU\n"
          ]
        },
        {
          "output_type": "stream",
          "name": "stdout",
          "text": [
            "0:\ttest: 0.8999985\tbest: 0.8999985 (0)\ttotal: 96.7ms\tremaining: 4m 50s\n",
            "200:\ttest: 0.9608703\tbest: 0.9608910 (199)\ttotal: 9.75s\tremaining: 2m 15s\n",
            "400:\ttest: 0.9653779\tbest: 0.9653779 (400)\ttotal: 19.4s\tremaining: 2m 5s\n",
            "600:\ttest: 0.9672682\tbest: 0.9672830 (593)\ttotal: 29.1s\tremaining: 1m 56s\n",
            "800:\ttest: 0.9684839\tbest: 0.9684850 (798)\ttotal: 38.7s\tremaining: 1m 46s\n",
            "1000:\ttest: 0.9691704\tbest: 0.9691977 (990)\ttotal: 48.3s\tremaining: 1m 36s\n",
            "1200:\ttest: 0.9697018\tbest: 0.9697079 (1182)\ttotal: 58s\tremaining: 1m 26s\n",
            "1400:\ttest: 0.9700062\tbest: 0.9700358 (1397)\ttotal: 1m 7s\tremaining: 1m 17s\n",
            "1600:\ttest: 0.9703532\tbest: 0.9703537 (1598)\ttotal: 1m 16s\tremaining: 1m 7s\n",
            "1800:\ttest: 0.9705747\tbest: 0.9705747 (1800)\ttotal: 1m 26s\tremaining: 57.6s\n",
            "2000:\ttest: 0.9707494\tbest: 0.9707494 (2000)\ttotal: 1m 36s\tremaining: 48.1s\n",
            "2200:\ttest: 0.9707520\tbest: 0.9708335 (2123)\ttotal: 1m 45s\tremaining: 38.4s\n",
            "2400:\ttest: 0.9708870\tbest: 0.9708936 (2396)\ttotal: 1m 55s\tremaining: 28.8s\n",
            "2600:\ttest: 0.9710017\tbest: 0.9710226 (2560)\ttotal: 2m 4s\tremaining: 19.2s\n",
            "bestTest = 0.9710226059\n",
            "bestIteration = 2560\n",
            "Training on fold [3/5]\n"
          ]
        },
        {
          "output_type": "stream",
          "name": "stderr",
          "text": [
            "Default metric period is 5 because AUC is/are not implemented for GPU\n"
          ]
        },
        {
          "output_type": "stream",
          "name": "stdout",
          "text": [
            "0:\ttest: 0.9006012\tbest: 0.9006012 (0)\ttotal: 96.8ms\tremaining: 4m 50s\n",
            "200:\ttest: 0.9593019\tbest: 0.9593019 (200)\ttotal: 9.7s\tremaining: 2m 15s\n",
            "400:\ttest: 0.9635668\tbest: 0.9635698 (399)\ttotal: 19.3s\tremaining: 2m 5s\n",
            "600:\ttest: 0.9656924\tbest: 0.9656924 (600)\ttotal: 28.9s\tremaining: 1m 55s\n",
            "800:\ttest: 0.9666409\tbest: 0.9666559 (798)\ttotal: 38.6s\tremaining: 1m 45s\n",
            "1000:\ttest: 0.9673520\tbest: 0.9673554 (999)\ttotal: 48.2s\tremaining: 1m 36s\n",
            "1200:\ttest: 0.9679722\tbest: 0.9679722 (1200)\ttotal: 57.9s\tremaining: 1m 26s\n",
            "1400:\ttest: 0.9683293\tbest: 0.9683399 (1398)\ttotal: 1m 7s\tremaining: 1m 16s\n",
            "1600:\ttest: 0.9685046\tbest: 0.9685046 (1600)\ttotal: 1m 16s\tremaining: 1m 7s\n",
            "1800:\ttest: 0.9688278\tbest: 0.9688278 (1800)\ttotal: 1m 26s\tremaining: 57.6s\n",
            "2000:\ttest: 0.9689571\tbest: 0.9689697 (1999)\ttotal: 1m 35s\tremaining: 47.9s\n",
            "2200:\ttest: 0.9691450\tbest: 0.9691450 (2200)\ttotal: 1m 45s\tremaining: 38.3s\n",
            "2400:\ttest: 0.9692770\tbest: 0.9692897 (2395)\ttotal: 1m 54s\tremaining: 28.7s\n",
            "2600:\ttest: 0.9693113\tbest: 0.9693453 (2485)\ttotal: 2m 4s\tremaining: 19.1s\n",
            "bestTest = 0.9693453014\n",
            "bestIteration = 2485\n",
            "Training on fold [4/5]\n"
          ]
        },
        {
          "output_type": "stream",
          "name": "stderr",
          "text": [
            "Default metric period is 5 because AUC is/are not implemented for GPU\n"
          ]
        },
        {
          "output_type": "stream",
          "name": "stdout",
          "text": [
            "0:\ttest: 0.9014562\tbest: 0.9014562 (0)\ttotal: 105ms\tremaining: 5m 13s\n",
            "200:\ttest: 0.9586489\tbest: 0.9586489 (200)\ttotal: 9.73s\tremaining: 2m 15s\n",
            "400:\ttest: 0.9630933\tbest: 0.9630933 (400)\ttotal: 19.4s\tremaining: 2m 5s\n",
            "600:\ttest: 0.9652278\tbest: 0.9652278 (600)\ttotal: 29s\tremaining: 1m 55s\n",
            "800:\ttest: 0.9662094\tbest: 0.9662548 (794)\ttotal: 38.6s\tremaining: 1m 46s\n",
            "1000:\ttest: 0.9668905\tbest: 0.9668905 (1000)\ttotal: 48.2s\tremaining: 1m 36s\n",
            "1200:\ttest: 0.9674586\tbest: 0.9674586 (1200)\ttotal: 57.7s\tremaining: 1m 26s\n",
            "1400:\ttest: 0.9679002\tbest: 0.9679028 (1399)\ttotal: 1m 7s\tremaining: 1m 16s\n",
            "1600:\ttest: 0.9682296\tbest: 0.9682559 (1593)\ttotal: 1m 16s\tremaining: 1m 6s\n",
            "1800:\ttest: 0.9684521\tbest: 0.9684668 (1793)\ttotal: 1m 26s\tremaining: 57.3s\n",
            "2000:\ttest: 0.9686081\tbest: 0.9686253 (1988)\ttotal: 1m 35s\tremaining: 47.7s\n",
            "2200:\ttest: 0.9688155\tbest: 0.9688155 (2200)\ttotal: 1m 45s\tremaining: 38.1s\n",
            "2400:\ttest: 0.9689761\tbest: 0.9689930 (2390)\ttotal: 1m 54s\tremaining: 28.6s\n",
            "2600:\ttest: 0.9691341\tbest: 0.9691442 (2588)\ttotal: 2m 3s\tremaining: 19s\n",
            "2800:\ttest: 0.9692045\tbest: 0.9692045 (2800)\ttotal: 2m 13s\tremaining: 9.48s\n",
            "2999:\ttest: 0.9692618\tbest: 0.9692839 (2940)\ttotal: 2m 22s\tremaining: 0us\n",
            "bestTest = 0.9692838788\n",
            "bestIteration = 2940\n"
          ]
        }
      ]
    },
    {
      "cell_type": "code",
      "source": [
        "scores"
      ],
      "metadata": {
        "colab": {
          "base_uri": "https://localhost:8080/",
          "height": 424
        },
        "id": "3pjoEMwGbMms",
        "outputId": "6e947781-1af6-4832-b1a6-0d76156afefb"
      },
      "execution_count": null,
      "outputs": [
        {
          "output_type": "execute_result",
          "data": {
            "text/plain": [
              "      iterations  test-AUC-mean  test-AUC-std  test-Logloss-mean  \\\n",
              "0              0       0.901763      0.004867           0.645636   \n",
              "1              1       0.910910      0.006782                NaN   \n",
              "2              2       0.913170      0.007098                NaN   \n",
              "3              3       0.923859      0.005722                NaN   \n",
              "4              4       0.926564      0.006852                NaN   \n",
              "...          ...            ...           ...                ...   \n",
              "2995        2995       0.969632      0.001509           0.113593   \n",
              "2996        2996       0.969631      0.001510                NaN   \n",
              "2997        2997       0.969633      0.001510                NaN   \n",
              "2998        2998       0.969632      0.001507                NaN   \n",
              "2999        2999       0.969632      0.001505           0.113594   \n",
              "\n",
              "      test-Logloss-std  train-Logloss-mean  train-Logloss-std  \n",
              "0             0.000667            0.646171           0.000774  \n",
              "1                  NaN                 NaN                NaN  \n",
              "2                  NaN                 NaN                NaN  \n",
              "3                  NaN                 NaN                NaN  \n",
              "4                  NaN                 NaN                NaN  \n",
              "...                ...                 ...                ...  \n",
              "2995          0.003358            0.094577           0.001017  \n",
              "2996               NaN                 NaN                NaN  \n",
              "2997               NaN                 NaN                NaN  \n",
              "2998               NaN                 NaN                NaN  \n",
              "2999          0.003358            0.094565           0.001028  \n",
              "\n",
              "[3000 rows x 7 columns]"
            ],
            "text/html": [
              "\n",
              "  <div id=\"df-33e3d157-888a-478a-9f60-51d5c5583e12\">\n",
              "    <div class=\"colab-df-container\">\n",
              "      <div>\n",
              "<style scoped>\n",
              "    .dataframe tbody tr th:only-of-type {\n",
              "        vertical-align: middle;\n",
              "    }\n",
              "\n",
              "    .dataframe tbody tr th {\n",
              "        vertical-align: top;\n",
              "    }\n",
              "\n",
              "    .dataframe thead th {\n",
              "        text-align: right;\n",
              "    }\n",
              "</style>\n",
              "<table border=\"1\" class=\"dataframe\">\n",
              "  <thead>\n",
              "    <tr style=\"text-align: right;\">\n",
              "      <th></th>\n",
              "      <th>iterations</th>\n",
              "      <th>test-AUC-mean</th>\n",
              "      <th>test-AUC-std</th>\n",
              "      <th>test-Logloss-mean</th>\n",
              "      <th>test-Logloss-std</th>\n",
              "      <th>train-Logloss-mean</th>\n",
              "      <th>train-Logloss-std</th>\n",
              "    </tr>\n",
              "  </thead>\n",
              "  <tbody>\n",
              "    <tr>\n",
              "      <th>0</th>\n",
              "      <td>0</td>\n",
              "      <td>0.901763</td>\n",
              "      <td>0.004867</td>\n",
              "      <td>0.645636</td>\n",
              "      <td>0.000667</td>\n",
              "      <td>0.646171</td>\n",
              "      <td>0.000774</td>\n",
              "    </tr>\n",
              "    <tr>\n",
              "      <th>1</th>\n",
              "      <td>1</td>\n",
              "      <td>0.910910</td>\n",
              "      <td>0.006782</td>\n",
              "      <td>NaN</td>\n",
              "      <td>NaN</td>\n",
              "      <td>NaN</td>\n",
              "      <td>NaN</td>\n",
              "    </tr>\n",
              "    <tr>\n",
              "      <th>2</th>\n",
              "      <td>2</td>\n",
              "      <td>0.913170</td>\n",
              "      <td>0.007098</td>\n",
              "      <td>NaN</td>\n",
              "      <td>NaN</td>\n",
              "      <td>NaN</td>\n",
              "      <td>NaN</td>\n",
              "    </tr>\n",
              "    <tr>\n",
              "      <th>3</th>\n",
              "      <td>3</td>\n",
              "      <td>0.923859</td>\n",
              "      <td>0.005722</td>\n",
              "      <td>NaN</td>\n",
              "      <td>NaN</td>\n",
              "      <td>NaN</td>\n",
              "      <td>NaN</td>\n",
              "    </tr>\n",
              "    <tr>\n",
              "      <th>4</th>\n",
              "      <td>4</td>\n",
              "      <td>0.926564</td>\n",
              "      <td>0.006852</td>\n",
              "      <td>NaN</td>\n",
              "      <td>NaN</td>\n",
              "      <td>NaN</td>\n",
              "      <td>NaN</td>\n",
              "    </tr>\n",
              "    <tr>\n",
              "      <th>...</th>\n",
              "      <td>...</td>\n",
              "      <td>...</td>\n",
              "      <td>...</td>\n",
              "      <td>...</td>\n",
              "      <td>...</td>\n",
              "      <td>...</td>\n",
              "      <td>...</td>\n",
              "    </tr>\n",
              "    <tr>\n",
              "      <th>2995</th>\n",
              "      <td>2995</td>\n",
              "      <td>0.969632</td>\n",
              "      <td>0.001509</td>\n",
              "      <td>0.113593</td>\n",
              "      <td>0.003358</td>\n",
              "      <td>0.094577</td>\n",
              "      <td>0.001017</td>\n",
              "    </tr>\n",
              "    <tr>\n",
              "      <th>2996</th>\n",
              "      <td>2996</td>\n",
              "      <td>0.969631</td>\n",
              "      <td>0.001510</td>\n",
              "      <td>NaN</td>\n",
              "      <td>NaN</td>\n",
              "      <td>NaN</td>\n",
              "      <td>NaN</td>\n",
              "    </tr>\n",
              "    <tr>\n",
              "      <th>2997</th>\n",
              "      <td>2997</td>\n",
              "      <td>0.969633</td>\n",
              "      <td>0.001510</td>\n",
              "      <td>NaN</td>\n",
              "      <td>NaN</td>\n",
              "      <td>NaN</td>\n",
              "      <td>NaN</td>\n",
              "    </tr>\n",
              "    <tr>\n",
              "      <th>2998</th>\n",
              "      <td>2998</td>\n",
              "      <td>0.969632</td>\n",
              "      <td>0.001507</td>\n",
              "      <td>NaN</td>\n",
              "      <td>NaN</td>\n",
              "      <td>NaN</td>\n",
              "      <td>NaN</td>\n",
              "    </tr>\n",
              "    <tr>\n",
              "      <th>2999</th>\n",
              "      <td>2999</td>\n",
              "      <td>0.969632</td>\n",
              "      <td>0.001505</td>\n",
              "      <td>0.113594</td>\n",
              "      <td>0.003358</td>\n",
              "      <td>0.094565</td>\n",
              "      <td>0.001028</td>\n",
              "    </tr>\n",
              "  </tbody>\n",
              "</table>\n",
              "<p>3000 rows × 7 columns</p>\n",
              "</div>\n",
              "      <button class=\"colab-df-convert\" onclick=\"convertToInteractive('df-33e3d157-888a-478a-9f60-51d5c5583e12')\"\n",
              "              title=\"Convert this dataframe to an interactive table.\"\n",
              "              style=\"display:none;\">\n",
              "        \n",
              "  <svg xmlns=\"http://www.w3.org/2000/svg\" height=\"24px\"viewBox=\"0 0 24 24\"\n",
              "       width=\"24px\">\n",
              "    <path d=\"M0 0h24v24H0V0z\" fill=\"none\"/>\n",
              "    <path d=\"M18.56 5.44l.94 2.06.94-2.06 2.06-.94-2.06-.94-.94-2.06-.94 2.06-2.06.94zm-11 1L8.5 8.5l.94-2.06 2.06-.94-2.06-.94L8.5 2.5l-.94 2.06-2.06.94zm10 10l.94 2.06.94-2.06 2.06-.94-2.06-.94-.94-2.06-.94 2.06-2.06.94z\"/><path d=\"M17.41 7.96l-1.37-1.37c-.4-.4-.92-.59-1.43-.59-.52 0-1.04.2-1.43.59L10.3 9.45l-7.72 7.72c-.78.78-.78 2.05 0 2.83L4 21.41c.39.39.9.59 1.41.59.51 0 1.02-.2 1.41-.59l7.78-7.78 2.81-2.81c.8-.78.8-2.07 0-2.86zM5.41 20L4 18.59l7.72-7.72 1.47 1.35L5.41 20z\"/>\n",
              "  </svg>\n",
              "      </button>\n",
              "      \n",
              "  <style>\n",
              "    .colab-df-container {\n",
              "      display:flex;\n",
              "      flex-wrap:wrap;\n",
              "      gap: 12px;\n",
              "    }\n",
              "\n",
              "    .colab-df-convert {\n",
              "      background-color: #E8F0FE;\n",
              "      border: none;\n",
              "      border-radius: 50%;\n",
              "      cursor: pointer;\n",
              "      display: none;\n",
              "      fill: #1967D2;\n",
              "      height: 32px;\n",
              "      padding: 0 0 0 0;\n",
              "      width: 32px;\n",
              "    }\n",
              "\n",
              "    .colab-df-convert:hover {\n",
              "      background-color: #E2EBFA;\n",
              "      box-shadow: 0px 1px 2px rgba(60, 64, 67, 0.3), 0px 1px 3px 1px rgba(60, 64, 67, 0.15);\n",
              "      fill: #174EA6;\n",
              "    }\n",
              "\n",
              "    [theme=dark] .colab-df-convert {\n",
              "      background-color: #3B4455;\n",
              "      fill: #D2E3FC;\n",
              "    }\n",
              "\n",
              "    [theme=dark] .colab-df-convert:hover {\n",
              "      background-color: #434B5C;\n",
              "      box-shadow: 0px 1px 3px 1px rgba(0, 0, 0, 0.15);\n",
              "      filter: drop-shadow(0px 1px 2px rgba(0, 0, 0, 0.3));\n",
              "      fill: #FFFFFF;\n",
              "    }\n",
              "  </style>\n",
              "\n",
              "      <script>\n",
              "        const buttonEl =\n",
              "          document.querySelector('#df-33e3d157-888a-478a-9f60-51d5c5583e12 button.colab-df-convert');\n",
              "        buttonEl.style.display =\n",
              "          google.colab.kernel.accessAllowed ? 'block' : 'none';\n",
              "\n",
              "        async function convertToInteractive(key) {\n",
              "          const element = document.querySelector('#df-33e3d157-888a-478a-9f60-51d5c5583e12');\n",
              "          const dataTable =\n",
              "            await google.colab.kernel.invokeFunction('convertToInteractive',\n",
              "                                                     [key], {});\n",
              "          if (!dataTable) return;\n",
              "\n",
              "          const docLinkHtml = 'Like what you see? Visit the ' +\n",
              "            '<a target=\"_blank\" href=https://colab.research.google.com/notebooks/data_table.ipynb>data table notebook</a>'\n",
              "            + ' to learn more about interactive tables.';\n",
              "          element.innerHTML = '';\n",
              "          dataTable['output_type'] = 'display_data';\n",
              "          await google.colab.output.renderOutput(dataTable, element);\n",
              "          const docLink = document.createElement('div');\n",
              "          docLink.innerHTML = docLinkHtml;\n",
              "          element.appendChild(docLink);\n",
              "        }\n",
              "      </script>\n",
              "    </div>\n",
              "  </div>\n",
              "  "
            ]
          },
          "metadata": {},
          "execution_count": 13
        }
      ]
    },
    {
      "cell_type": "code",
      "source": [
        "best_value = np.max(scores['test-AUC-mean'])\n",
        "best_iter = np.argmax(scores['test-AUC-mean'])"
      ],
      "metadata": {
        "id": "VJ2mQfR2EZrd"
      },
      "execution_count": null,
      "outputs": []
    },
    {
      "cell_type": "code",
      "source": [
        "best_value"
      ],
      "metadata": {
        "colab": {
          "base_uri": "https://localhost:8080/"
        },
        "id": "K0Vr58_mEZgP",
        "outputId": "ca065da1-bf59-4bf8-b360-ddc131f3199e"
      },
      "execution_count": null,
      "outputs": [
        {
          "output_type": "execute_result",
          "data": {
            "text/plain": [
              "0.9696337223052979"
            ]
          },
          "metadata": {},
          "execution_count": 15
        }
      ]
    },
    {
      "cell_type": "code",
      "source": [
        "best_iter"
      ],
      "metadata": {
        "colab": {
          "base_uri": "https://localhost:8080/"
        },
        "id": "dhVlwxwvbMRc",
        "outputId": "961c59b2-fbd8-45de-cc56-c43f1754bc41"
      },
      "execution_count": null,
      "outputs": [
        {
          "output_type": "execute_result",
          "data": {
            "text/plain": [
              "2970"
            ]
          },
          "metadata": {},
          "execution_count": 16
        }
      ]
    },
    {
      "cell_type": "code",
      "source": [
        "params = {'task_type': 'GPU',\n",
        "                 'text_features': ['text'],\n",
        "                 'eval_metric' : 'AUC', # F1 лучше не указывать, так как классы несбалансированы\n",
        "                 'early_stopping_rounds': 200,\n",
        "                 'random_seed': 12345,\n",
        "                 'verbose': 200}"
      ],
      "metadata": {
        "id": "dj3Zpj0IMfmx"
      },
      "execution_count": null,
      "outputs": []
    },
    {
      "cell_type": "code",
      "source": [
        "model = CatBoostClassifier(**params, iterations=best_iter)"
      ],
      "metadata": {
        "id": "64CEInpPMJlh"
      },
      "execution_count": null,
      "outputs": []
    },
    {
      "cell_type": "code",
      "source": [
        "model.fit(features_train, target_train)"
      ],
      "metadata": {
        "colab": {
          "base_uri": "https://localhost:8080/"
        },
        "id": "WsShcA4-Mv3u",
        "outputId": "22de045e-fff9-4e1d-c2c8-2e64e3b52da1"
      },
      "execution_count": null,
      "outputs": [
        {
          "output_type": "stream",
          "name": "stdout",
          "text": [
            "Learning rate set to 0.009735\n"
          ]
        },
        {
          "output_type": "stream",
          "name": "stderr",
          "text": [
            "Default metric period is 5 because AUC is/are not implemented for GPU\n"
          ]
        },
        {
          "output_type": "stream",
          "name": "stdout",
          "text": [
            "0:\ttotal: 22.4ms\tremaining: 1m 6s\n",
            "200:\ttotal: 2.68s\tremaining: 36.9s\n",
            "400:\ttotal: 5.19s\tremaining: 33.3s\n",
            "600:\ttotal: 7.77s\tremaining: 30.6s\n",
            "800:\ttotal: 10.3s\tremaining: 27.9s\n",
            "1000:\ttotal: 12.8s\tremaining: 25.2s\n",
            "1200:\ttotal: 15.3s\tremaining: 22.6s\n",
            "1400:\ttotal: 17.8s\tremaining: 20s\n",
            "1600:\ttotal: 20.3s\tremaining: 17.4s\n",
            "1800:\ttotal: 22.8s\tremaining: 14.8s\n",
            "2000:\ttotal: 25.3s\tremaining: 12.3s\n",
            "2200:\ttotal: 27.8s\tremaining: 9.72s\n",
            "2400:\ttotal: 30.3s\tremaining: 7.19s\n",
            "2600:\ttotal: 32.9s\tremaining: 4.66s\n",
            "2800:\ttotal: 35.4s\tremaining: 2.13s\n",
            "2969:\ttotal: 37.5s\tremaining: 0us\n"
          ]
        },
        {
          "output_type": "execute_result",
          "data": {
            "text/plain": [
              "<catboost.core.CatBoostClassifier at 0x7fceb0305850>"
            ]
          },
          "metadata": {},
          "execution_count": 19
        }
      ]
    },
    {
      "cell_type": "code",
      "source": [
        "predictions = model.predict(features_train)"
      ],
      "metadata": {
        "id": "xoN5Lk4CKIwy"
      },
      "execution_count": null,
      "outputs": []
    },
    {
      "cell_type": "code",
      "source": [
        "f1_score(target_train, predictions) "
      ],
      "metadata": {
        "colab": {
          "base_uri": "https://localhost:8080/"
        },
        "id": "FY35fB1-KItq",
        "outputId": "e3fda737-4f39-40b1-e6dc-b8846e0d5b0b"
      },
      "execution_count": null,
      "outputs": [
        {
          "output_type": "execute_result",
          "data": {
            "text/plain": [
              "0.8130723347055363"
            ]
          },
          "metadata": {},
          "execution_count": 21
        }
      ]
    },
    {
      "cell_type": "code",
      "source": [
        "predictions = model.predict(features_test) # предсказания на тесте"
      ],
      "metadata": {
        "id": "OwvZZFBWM0_S"
      },
      "execution_count": null,
      "outputs": []
    },
    {
      "cell_type": "code",
      "source": [
        "f1_score(target_test, predictions) # f1"
      ],
      "metadata": {
        "colab": {
          "base_uri": "https://localhost:8080/"
        },
        "id": "LzVq1H9pM6IN",
        "outputId": "a1c890fd-4d8c-448f-b0f2-858aa09baca8"
      },
      "execution_count": null,
      "outputs": [
        {
          "output_type": "execute_result",
          "data": {
            "text/plain": [
              "0.7797833935018051"
            ]
          },
          "metadata": {},
          "execution_count": 23
        }
      ]
    },
    {
      "cell_type": "markdown",
      "source": [
        "------"
      ],
      "metadata": {
        "id": "nOtr-_F9bK8Q"
      }
    },
    {
      "cell_type": "markdown",
      "source": [
        "------"
      ],
      "metadata": {
        "id": "thvh2FFljbMw"
      }
    },
    {
      "cell_type": "code",
      "source": [
        "parameters_CB = {'task_type': 'GPU',\n",
        "                 'text_features': ['text'],\n",
        "                 'eval_metric' : 'AUC', # F1 лучше не указывать, так как классы несбалансированы\n",
        "                 'early_stopping_rounds': 200,\n",
        "        #         'learning_rate': 0.1,\n",
        "        #         'depth': 8,\n",
        "                 'iterations': 1000, # значение по умолчанию\n",
        "                 'random_seed': 12345,\n",
        "                 'verbose': 200}"
      ],
      "metadata": {
        "id": "PTYFqGyFWRui"
      },
      "execution_count": null,
      "outputs": []
    },
    {
      "cell_type": "code",
      "source": [
        "model_CB = CatBoostClassifier(**parameters_CB)"
      ],
      "metadata": {
        "id": "nJlihw9t5qGX"
      },
      "execution_count": null,
      "outputs": []
    },
    {
      "cell_type": "code",
      "source": [
        "model_CB.fit(features_train, target_train)"
      ],
      "metadata": {
        "colab": {
          "base_uri": "https://localhost:8080/"
        },
        "id": "KCWeQFIj5p9R",
        "outputId": "52f68162-4f99-4a3a-8f33-99d922f637d8"
      },
      "execution_count": null,
      "outputs": [
        {
          "output_type": "stream",
          "name": "stdout",
          "text": [
            "Learning rate set to 0.025819\n"
          ]
        },
        {
          "output_type": "stream",
          "name": "stderr",
          "text": [
            "Default metric period is 5 because AUC is/are not implemented for GPU\n"
          ]
        },
        {
          "output_type": "stream",
          "name": "stdout",
          "text": [
            "0:\ttotal: 22.5ms\tremaining: 22.5s\n",
            "200:\ttotal: 2.67s\tremaining: 10.6s\n",
            "400:\ttotal: 5.19s\tremaining: 7.75s\n",
            "600:\ttotal: 7.7s\tremaining: 5.11s\n",
            "800:\ttotal: 10.2s\tremaining: 2.53s\n",
            "999:\ttotal: 12.7s\tremaining: 0us\n"
          ]
        },
        {
          "output_type": "execute_result",
          "data": {
            "text/plain": [
              "<catboost.core.CatBoostClassifier at 0x7fceb00a6710>"
            ]
          },
          "metadata": {},
          "execution_count": 26
        }
      ]
    },
    {
      "cell_type": "code",
      "source": [
        "model_CB.best_score_"
      ],
      "metadata": {
        "colab": {
          "base_uri": "https://localhost:8080/"
        },
        "id": "B4rXpChK5pye",
        "outputId": "09308e66-85ff-4ba0-b474-31547bed9bb9"
      },
      "execution_count": null,
      "outputs": [
        {
          "output_type": "execute_result",
          "data": {
            "text/plain": [
              "{'learn': {'Logloss': 0.11569275258066601}}"
            ]
          },
          "metadata": {},
          "execution_count": 27
        }
      ]
    },
    {
      "cell_type": "code",
      "source": [
        "predictions = model_CB.predict(features_train)"
      ],
      "metadata": {
        "id": "yDfKJ0orKjvb"
      },
      "execution_count": null,
      "outputs": []
    },
    {
      "cell_type": "code",
      "source": [
        "f1_score(target_train, predictions) "
      ],
      "metadata": {
        "colab": {
          "base_uri": "https://localhost:8080/"
        },
        "id": "VNQLkIqsKjmb",
        "outputId": "19e2cefe-5f37-4b63-c99e-a57dbd5f4b5f"
      },
      "execution_count": null,
      "outputs": [
        {
          "output_type": "execute_result",
          "data": {
            "text/plain": [
              "0.8107971745711403"
            ]
          },
          "metadata": {},
          "execution_count": 33
        }
      ]
    },
    {
      "cell_type": "code",
      "source": [
        "predictions = model_CB.predict(features_test) # предсказания на тесте"
      ],
      "metadata": {
        "id": "niZeV7mDSliN"
      },
      "execution_count": null,
      "outputs": []
    },
    {
      "cell_type": "code",
      "source": [
        "f1_score(target_test, predictions) # f1"
      ],
      "metadata": {
        "colab": {
          "base_uri": "https://localhost:8080/"
        },
        "id": "Ido4Qtd2SlJ7",
        "outputId": "c84f50d8-ceb8-43c9-b3cb-64e756078940"
      },
      "execution_count": null,
      "outputs": [
        {
          "output_type": "execute_result",
          "data": {
            "text/plain": [
              "0.7788858321870702"
            ]
          },
          "metadata": {},
          "execution_count": 35
        }
      ]
    }
  ],
  "metadata": {
    "ExecuteTimeLog": [
      {
        "duration": 93,
        "start_time": "2022-04-26T02:33:04.922Z"
      },
      {
        "duration": 7750,
        "start_time": "2022-04-26T02:33:28.189Z"
      },
      {
        "duration": 86,
        "start_time": "2022-04-26T02:35:37.940Z"
      },
      {
        "duration": 86462,
        "start_time": "2022-04-26T02:35:55.739Z"
      },
      {
        "duration": 64244,
        "start_time": "2022-04-26T02:37:36.403Z"
      },
      {
        "duration": 645117,
        "start_time": "2022-04-26T02:38:56.435Z"
      },
      {
        "duration": 7,
        "start_time": "2022-04-26T02:49:54.303Z"
      },
      {
        "duration": 4,
        "start_time": "2022-04-26T02:50:10.560Z"
      },
      {
        "duration": 13,
        "start_time": "2022-04-26T02:51:06.219Z"
      },
      {
        "duration": 3,
        "start_time": "2022-04-26T02:55:33.851Z"
      },
      {
        "duration": 5,
        "start_time": "2022-04-26T02:55:44.540Z"
      },
      {
        "duration": 8,
        "start_time": "2022-04-26T02:55:55.420Z"
      },
      {
        "duration": 4,
        "start_time": "2022-04-26T02:56:08.047Z"
      },
      {
        "duration": 8,
        "start_time": "2022-04-26T02:56:08.941Z"
      },
      {
        "duration": 329,
        "start_time": "2022-04-26T02:57:06.078Z"
      },
      {
        "duration": 4,
        "start_time": "2022-04-26T02:57:15.666Z"
      },
      {
        "duration": 4,
        "start_time": "2022-04-26T02:57:16.460Z"
      },
      {
        "duration": 109942,
        "start_time": "2022-04-26T02:57:24.830Z"
      },
      {
        "duration": 3,
        "start_time": "2022-04-26T03:01:14.382Z"
      },
      {
        "duration": 3,
        "start_time": "2022-04-26T03:01:16.068Z"
      },
      {
        "duration": 4,
        "start_time": "2022-04-26T03:01:17.851Z"
      },
      {
        "duration": 3,
        "start_time": "2022-04-26T03:01:19.273Z"
      },
      {
        "duration": 426,
        "start_time": "2022-04-26T03:01:21.028Z"
      },
      {
        "duration": 6,
        "start_time": "2022-04-26T03:01:25.450Z"
      }
    ],
    "kernelspec": {
      "display_name": "Python 3 (ipykernel)",
      "language": "python",
      "name": "python3"
    },
    "language_info": {
      "codemirror_mode": {
        "name": "ipython",
        "version": 3
      },
      "file_extension": ".py",
      "mimetype": "text/x-python",
      "name": "python",
      "nbconvert_exporter": "python",
      "pygments_lexer": "ipython3",
      "version": "3.9.5"
    },
    "toc": {
      "base_numbering": 1,
      "nav_menu": {},
      "number_sections": true,
      "sideBar": true,
      "skip_h1_title": true,
      "title_cell": "Table of Contents",
      "title_sidebar": "Contents",
      "toc_cell": false,
      "toc_position": {},
      "toc_section_display": true,
      "toc_window_display": false
    },
    "colab": {
      "name": "toxic_CatBoost.ipynb",
      "provenance": [],
      "collapsed_sections": []
    },
    "accelerator": "GPU"
  },
  "nbformat": 4,
  "nbformat_minor": 0
}